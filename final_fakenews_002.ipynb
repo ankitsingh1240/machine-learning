{
 "cells": [
  {
   "cell_type": "code",
   "execution_count": 344,
   "metadata": {},
   "outputs": [],
   "source": [
    "import pandas as pd\n",
    "import numpy as np\n",
    "import matplotlib.pyplot as plt\n",
    "import seaborn as sns\n",
    "import nltk, nltk.tokenize as tokenize\n",
    "from sklearn.model_selection import train_test_split\n",
    "from sklearn import metrics\n",
    "from sklearn.linear_model import PassiveAggressiveClassifier \n",
    "from sklearn.feature_extraction.text import HashingVectorizer\n",
    "from sklearn.feature_extraction.text import CountVectorizer,TfidfVectorizer\n",
    "from sklearn.naive_bayes import MultinomialNB\n",
    "from xgboost import XGBClassifier\n",
    "from sklearn.linear_model import LogisticRegression\n",
    "from sklearn.metrics import f1_score, accuracy_score , recall_score , precision_score\n",
    "from sklearn.ensemble import RandomForestClassifier\n",
    "from sklearn.model_selection import cross_val_score\n",
    "import random\n",
    "from sklearn.utils import shuffle\n",
    "import re\n",
    "#import oxforddictionaries\n",
    "import os\n",
    "os.getcwd()\n",
    "import nltk\n",
    "from nltk.corpus import stopwords\n",
    "from string import punctuation"
   ]
  },
  {
   "cell_type": "code",
   "execution_count": 345,
   "metadata": {},
   "outputs": [
    {
     "data": {
      "text/plain": [
       "0        RT @rssurjewala: Critical question: Was PayTM ...\n",
       "1        RT @Hemant_80: Did you vote on #Demonetization...\n",
       "2        RT @roshankar: Former FinSec, RBI Dy Governor,...\n",
       "3        RT @ANI_news: Gurugram (Haryana): Post office ...\n",
       "4        RT @satishacharya: Reddy Wedding! @mail_today ...\n",
       "5        @DerekScissors1: Indias #demonetization: #Bla...\n",
       "6        RT @gauravcsawant: Rs 40 lakh looted from a ba...\n",
       "7        RT @Joydeep_911: Calling all Nationalists to j...\n",
       "8        RT @sumitbhati2002: Many opposition leaders ar...\n",
       "9        National reform now destroyed even the essence...\n",
       "10       Many opposition leaders are with @narendramodi...\n",
       "11       RT @Joydas: Question in Narendra Modi App wher...\n",
       "12       @Jaggesh2 Bharat band on 28??<ed><U+00A0><U+00...\n",
       "13       RT @Atheist_Krishna: The effect of #Demonetiza...\n",
       "14       RT @sona2905: When I explained #Demonetization...\n",
       "15       RT @Dipankar_cpiml: The Modi app on #DeMonetiz...\n",
       "16       RT @roshankar: Former FinSec, RBI Dy Governor,...\n",
       "17       RT @Atheist_Krishna: BEFORE and AFTER Gandhi j...\n",
       "18       RT @pGurus1: #Demonetization The co-operative ...\n",
       "19       RT @roshankar: Former FinSec, RBI Dy Governor,...\n",
       "20       RT @Hemant_80: Did you vote on #Demonetization...\n",
       "21       RT @roshankar: Former FinSec, RBI Dy Governor,...\n",
       "22       RT @Atheist_Krishna: BEFORE and AFTER Gandhi j...\n",
       "23       RT @MahikaInfra: @narendramodi\\r\\n@Swamy39\\r\\n...\n",
       "24       RT @Hemant_80: Did you vote on #Demonetization...\n",
       "25       RT @roshankar: Former FinSec, RBI Dy Governor,...\n",
       "26       RT @kapil_kausik: #Doltiwal I mean #JaiChandKe...\n",
       "27       RT @roshankar: Former FinSec, RBI Dy Governor,...\n",
       "28       RT @kapil_kausik: #Doltiwal I mean #JaiChandKe...\n",
       "29       RT @AAPVind: #Demonetization Is Disaster!  @na...\n",
       "                               ...                        \n",
       "14910    RT @rahulroushan: Prohibition is Demonetizatio...\n",
       "14911    RT @rahulroushan: Prohibition is Demonetizatio...\n",
       "14912    RT @rahulroushan: Prohibition is Demonetizatio...\n",
       "14913    RT @rahulroushan: Prohibition is Demonetizatio...\n",
       "14914    RT @hindustanse: #Mind_it.....Arnab Goswami sl...\n",
       "14915    RT @rahulroushan: Prohibition is Demonetizatio...\n",
       "14916    As someone who is trying to break into interne...\n",
       "14917    RT @bharat_builder: Lol. Demonetization has fi...\n",
       "14918    RT @rahulroushan: Prohibition is Demonetizatio...\n",
       "14919    RT @rahulroushan: Prohibition is Demonetizatio...\n",
       "14920    RT @rahulroushan: Prohibition is Demonetizatio...\n",
       "14921    RT @rahulroushan: Prohibition is Demonetizatio...\n",
       "14922    RT @rahulroushan: Prohibition is Demonetizatio...\n",
       "14923    RT @rahulroushan: Prohibition is Demonetizatio...\n",
       "14924    RT @rahulroushan: Prohibition is Demonetizatio...\n",
       "14925    @moneycontrolcom Who wrote this article? You g...\n",
       "14926    RT @rahulroushan: Prohibition is Demonetizatio...\n",
       "14927    RT @rahulroushan: Prohibition is Demonetizatio...\n",
       "14928    RT @rahulroushan: Prohibition is Demonetizatio...\n",
       "14929    RT @rahulroushan: Prohibition is Demonetizatio...\n",
       "14930    RT @rahulroushan: Prohibition is Demonetizatio...\n",
       "14931    RT @bharat_builder: Lol. Demonetization has fi...\n",
       "14932    Can cash -- or the end of cash -- end poverty ...\n",
       "14933    @thehill To The Hill. Shame on you for your an...\n",
       "14934    RT @Vidyut: How India became Bill Gates' guine...\n",
       "14935    RT @saxenavishakha: Ghost of demonetization re...\n",
       "14936    N d modi fans-d true nationalists of the count...\n",
       "14937    RT @bharat_builder: Lol. Demonetization has fi...\n",
       "14938    RT @Stupidosaur: @Vidyut B team of BJP. CIA ba...\n",
       "14939    @Vidyut B team of BJP. CIA baby. CCTV, EVM but...\n",
       "Name: text, Length: 14940, dtype: object"
      ]
     },
     "execution_count": 345,
     "metadata": {},
     "output_type": "execute_result"
    }
   ],
   "source": [
    "df=pd.read_csv(\"demonetization-tweets.csv\",encoding='ISO-8859-1')\n",
    "tweets=df[\"text\"]\n",
    "y=df.label\n",
    "df=df.drop('label',axis=1)\n",
    "tweets"
   ]
  },
  {
   "cell_type": "code",
   "execution_count": 346,
   "metadata": {
    "scrolled": true
   },
   "outputs": [
    {
     "name": "stderr",
     "output_type": "stream",
     "text": [
      "[nltk_data] Downloading package stopwords to\n",
      "[nltk_data]     C:\\Users\\reliance\\AppData\\Roaming\\nltk_data...\n",
      "[nltk_data]   Package stopwords is already up-to-date!\n"
     ]
    },
    {
     "data": {
      "text/plain": [
       "True"
      ]
     },
     "execution_count": 346,
     "metadata": {},
     "output_type": "execute_result"
    }
   ],
   "source": [
    "nltk.download('stopwords')"
   ]
  },
  {
   "cell_type": "code",
   "execution_count": 347,
   "metadata": {},
   "outputs": [],
   "source": [
    "null=pd.isnull(tweets)"
   ]
  },
  {
   "cell_type": "code",
   "execution_count": 348,
   "metadata": {},
   "outputs": [],
   "source": [
    "import string\n",
    "import re\n",
    "from nltk.corpus import stopwords\n",
    "from nltk.tokenize import TweetTokenizer\n",
    "\n",
    "\n",
    "cache_english_stopwords=stopwords.words('english')\n",
    "punctuation += '΄´’…“”–—―»«'\n",
    "\n"
   ]
  },
  {
   "cell_type": "code",
   "execution_count": 349,
   "metadata": {},
   "outputs": [],
   "source": [
    "import re\n",
    "from string import punctuation\n",
    "from nltk.corpus import stopwords\n",
    "from nltk.tokenize import TweetTokenizer\n",
    "\n",
    "punctuation += '΄´’…“”–—―»«' \n",
    "\n",
    "cache_english_stopwords = stopwords.words('english')\n",
    "\n",
    "def tweet_clean(tweet):\n",
    "    tweet_no_special_entities = re.sub(r'\\&\\w*;', '', tweet)\n",
    "    tweet_no_tickers = re.sub(r'\\$\\w*', '', tweet_no_special_entities)\n",
    "    tweet_no_hyperlinks = re.sub(r'https?:\\/\\/.*\\/\\w*', '', tweet_no_tickers)\n",
    "    tweet_no_hashtags = re.sub(r'#\\w*', '', tweet_no_hyperlinks)\n",
    "    tweet_no_punctuation = re.sub(r'[' + punctuation.replace('@', '') + ']+', ' ', tweet_no_hashtags)\n",
    "    tweet_no_small_words = re.sub(r'\\b\\w{1,2}\\b', '', tweet_no_punctuation)\n",
    "    tweet_no_whitespace = re.sub(r'\\s\\s+', ' ', tweet_no_small_words) \n",
    "    tweet_no_whitespace = tweet_no_whitespace.lstrip(' ') \n",
    "    tweet_no_emojis = ''.join(c for c in tweet_no_whitespace if c <= '\\uFFFF') \n",
    "    tknzr = TweetTokenizer(preserve_case=False, reduce_len=True, strip_handles=True) \n",
    "    tw_list = tknzr.tokenize(tweet_no_emojis)\n",
    "    list_no_stopwords = [i for i in tw_list if i not in cache_english_stopwords]\n",
    "    tweet_filtered =' '.join(list_no_stopwords)\n",
    "    return tweet_filtered\n",
    "\n",
    " \n",
    "\n",
    "\n"
   ]
  },
  {
   "cell_type": "code",
   "execution_count": 350,
   "metadata": {},
   "outputs": [],
   "source": [
    "clean_tweets=[]\n",
    "for i in range(len(tweets)):\n",
    "    if null.iloc[i]==True:\n",
    "        pass\n",
    "    else:\n",
    "        clean_tweets.append(tweet_clean(tweets.iloc[i]))"
   ]
  },
  {
   "cell_type": "code",
   "execution_count": 351,
   "metadata": {},
   "outputs": [],
   "source": [
    "data_clean=clean_tweets\n",
    "data_clean\n",
    "dat=pd.DataFrame(data_clean)\n"
   ]
  },
  {
   "cell_type": "code",
   "execution_count": null,
   "metadata": {},
   "outputs": [],
   "source": []
  },
  {
   "cell_type": "code",
   "execution_count": 352,
   "metadata": {},
   "outputs": [],
   "source": [
    "x_train,x_test,y_train,y_test=train_test_split(data_clean,y,test_size=0.4,random_state=53)\n"
   ]
  },
  {
   "cell_type": "code",
   "execution_count": 353,
   "metadata": {},
   "outputs": [
    {
     "name": "stdout",
     "output_type": "stream",
     "text": [
      "{'dear': 1594, 'india': 2861, 'rich': 4687, 'narendra': 3729, 'modi': 3633, 'implement': 2812, 'demonetization': 1669, 'actually': 341, 'poor': 4187, 'congress': 1363, 'teams': 5485, 'united': 5774, 'calling': 1035, 'scam': 4850, '00a0': 28, '00bd': 50, '00b8': 46, '008f': 16, 'positive': 4203, 'development': 1736, 'better': 808, 'searches': 4875, 'app': 533, 'trending': 5664, 'stores': 5291, 'critical': 1496, 'question': 4385, 'paytm': 4050, 'informed': 2901, 'edict': 1954, 'clearly': 1234, 'fishy': 2268, 'requires': 4618, 'disclosure': 1789, 'huge': 2746, 'support': 5377, 'nation': 3736, 'people': 4066, 'voter': 5944, 'krishna': 3184, 'gandhi': 2392, 'heard': 2632, 'standing': 5234, 'months': 3654, 'govt': 2482, 'explains': 2117, 'benefits': 798, 'waiting': 5961, 'applied': 542, 'global': 2449, 'today': 5596, 'pal': 3976, 'founder': 2331, 'abhijit': 273, 'banerjee': 714, 'speaks': 5177, '4pm': 218, 'watch': 5999, 'online': 3888, 'attend': 627, 'mit': 3608, 'https': 2740, 'cut': 1539, 'growth': 2517, 'half': 2569, 'percentage': 4071, 'point': 4162, '2017': 163, 'imf': 2804, 'political': 4173, 'monetary': 3643, 'miracle': 3589, 'victims': 5894, 'hanke': 2583, 'atms': 619, 'running': 4770, 'cash': 1070, 'withdrawal': 6082, 'restrictions': 4646, 'loosened': 3361, 'claims': 1219, 'oscar': 3939, 'goes': 2459, '092d': 72, '093e': 84, '0935': 78, '0941': 87, '0915': 58, '00a9': 34, '00a5': 32, '00a2': 30, '00ad': 36, 'briefing': 959, 'dea': 1587, 'secy': 4896, 'morning': 3666, 'shiralkar': 4995, '0082': 4, 'vote': 5940, 'aap': 260, 'saaley': 4781, 'ullu': 5733, 'banate': 709, 'hain': 2567, 'har': 2593, 'mamle': 3429, 'main': 3413, 'evm': 2069, 'moment': 3639, 'sickular': 5044, 'celebrates': 1099, 'mullah': 3696, 'hindu': 2674, 'weeks': 6025, 'business': 1012, 'usual': 5841, 'god': 2456, 'save': 4835, 'country': 1448, 'story': 5294, 'tells': 5497, 'flipside': 2285, 'digital': 1763, 'revolution': 4676, 'busy': 1016, 'celebrating': 1100, 'phone': 4103, 'got': 2474, 'stolen': 5276, 'day': 1585, 'led': 3262, 'slow': 5101, 'rate': 4459, 'state': 5247, 'economy': 1950, 'badly': 688, 'effected': 1957, 'agriculture': 420, 'sectors': 4890, 'headline': 2627, 'blames': 871, 'report': 4605, 'says': 4845, 'lack': 3202, 'supply': 5375, 'staff': 5221, 'shortage': 5017, 'year': 6151, 'end': 2001, 'closing': 1242, '00be': 51, '00b4': 43, '00b7': 45, '00bc': 49, '00bf': 52, '00bb': 48, '200d': 158, '2642': 182, 'fe0f': 2203, 'tweeted': 5714, 'proof': 4315, 'expanding': 2102, 'bad': 687, 'debt': 1600, 'crisis': 1493, 'helped': 2651, 'times': 5580, 'going': 2461, 'really': 4488, 'lot': 3373, 'journey': 3073, 'opportunities': 3908, 'created': 1474, 'used': 5832, 'itd': 2997, 'widening': 6055, 'deepening': 1624, 'tax': 5472, 'base': 739, 'putting': 4369, 'party': 4020, 'politics': 4177, 'supports': 5382, 'effect': 1956, 'comes': 1279, 'batch': 747, 'maoists': 3456, 'watching': 6003, 'come': 1276, 'possibly': 4206, 'world': 6109, 'prime': 4266, 'minister': 3580, 'single': 5064, 'handedly': 2575, 'bring': 962, 'recession': 4505, 'tried': 5672, 'pleasantly': 4150, 'surprised': 5401, 'caste': 1075, 'social': 5131, 'inequality': 2888, 'win': 6065, 'heart': 2634, 'thore': 5547, 'honest': 2710, 'feel': 2215, 'vindicated': 5911, 'historic': 2680, 'bjp': 862, 'parliamenta': 4008, 'aim': 425, 'laudable': 3231, 'road': 4717, 'map': 3457, '2create': 191, 'institutional': 2929, 'gov': 2475, 'drive': 1890, 'cartoons': 1067, 'fall': 2170, 'rumours': 4768, 'follow': 2297, 'real': 4482, 'news': 3786, 'issued': 2995, 'public': 4347, 'interes': 2945, 'sonu': 5159, 'accused': 311, 'attempt': 626, 'murder': 3704, 'like': 3303, 'held': 2646, 'responsible': 4639, 'deaths': 1596, 'parliament': 4007, 'impact': 2808, 'fishermen': 2266, 'kerala': 3134, 'coast': 1248, 'brother': 969, '00b9': 47, 'notice': 3823, 'transfer': 5646, 'stay': 5258, 'petitions': 4094, 'filed': 2238, 'centre': 1111, 'matters': 3489, 'relating': 4552, 'windfall': 6067, 'profit': 4298, 'whooping': 6048, 'lakh': 3209, 'crores': 1507, 'days': 1586, 'pappu': 3993, 'mamata': 3427, '700': 239, 'rupees': 4773, 'medical': 3515, 'colleges': 1269, 'clearing': 1233, 'massive': 3482, 'rot': 4738, 'admissions': 366, 'jan': 3022, 'dhan': 1744, 'ujjwala': 5732, 'neem': 3769, 'coated': 1250, 'urea': 5823, 'mandis': 3441, 'historically': 2682, 'unprecedent': 5786, 'tea': 5480, 'jute': 3096, 'workers': 6106, 'set': 4943, 'join': 3061, 'banking': 721, 'writes': 6127, 'pratim': 4231, 'ranjan': 4450, 'bose': 927, 'read': 4479, 'economic': 1946, 'analysis': 492, 'frankly': 2335, 'understand': 5748, 'address': 351, 'parlmnt': 4010, 'dutywil': 1919, 'smaller': 5110, 'showrooms': 5029, 'shops': 5013, 'started': 5241, 'firing': 2261, 'sales': 4800, 'executives': 2095, 'quietly': 4397, 'akou': 442, 'future': 2373, 'youtube': 6167, 'overall': 3948, 'education': 1955, 'article': 580, 'motilal': 3671, 'oswal': 3940, 'services': 4938, 'breaking': 953, 'right': 4701, 'withdrawn': 6085, 'contesting': 1393, 'civic': 1212, 'polls': 4180, 'mumbai': 3700, 'chandigarh': 1142, 'http': 2739, 'young': 6164, 'turks': 5707, 'maintains': 3416, 'silence': 5050, 'wondering': 6100, 'tomonews': 5605, 'looted': 3365, 'bank': 718, 'kishtwar': 3162, 'incident': 2835, 'terrorists': 5517, 'maanu': 3395, 'happened': 2587, 'alas': 444, 'consigned': 1378, 'histo': 2679, 'miteshpatel': 3610, 'blunder': 893, 'deliberate': 1642, 'drama': 1878, 'propaganda': 4317, 'play': 4143, '2019': 165, 'shared': 4971, 'views': 5905, 'survey': 5407, 'building': 988, 'ind': 2854, 'bhai': 811, 'unearth': 5755, 'blackmoney': 869, 'protect': 4328, 'share': 4970, 'dmk': 1837, 'hold': 2695, 'human': 2749, 'chains': 1127, '24th': 176, 'november': 3830, 'announcement': 508, 'sold': 5139, 'heritage': 2658, 'shares': 4972, 'evident': 2067, 'prior': 4270, 'knowledge': 3171, 'detaiend': 1724, 'street': 5301, 'police': 4169, 'station': 5252, 'march': 3460, 'truth': 5695, 'dictatorial': 1749, 'mindset': 3575, 'intolerance': 2959, 'dissent': 1817, 'greed': 2505, 'power': 4218, 'paan': 3961, 'shop': 5011, 'owner': 3959, 'gets': 2427, 'fake': 2168, '000': 0, 'note': 3817, 'ahmedabad': 422, 'terrorist': 5516, 'new': 3784, '2000': 153, 'notes': 3821, 'discontinue': 1792, 'finds': 2252, 'video': 5897, 'subtitles': 5333, 'town': 5627, 'jains': 3014, 'caught': 1086, '0081': 3, 'defaulters': 1625, 'think': 5538, 'seedhe': 4898, 'holy': 2704, 'cow': 1459, 'trust': 5693, 'taught': 5471, 'minimalism': 3578, 'stuff': 5323, 'happiness': 2590, 'thank': 5525, 'teen': 5492, 'commits': 1293, 'suicide': 5352, 'failing': 2161, 'withdraw': 6081, 'exam': 2073, 'fees': 2218, 'offers': 3866, 'marginal': 3463, 'relief': 4563, 'wedding': 6019, 'withdrawals': 6083, 'elected': 1968, 'leader': 3250, 'answerable': 517, 'taking': 5450, 'feedback': 2212, 'strategy': 5298, 'garner': 2399, 'money': 3647, 'frm': 2350, 'banks': 726, 'tht': 5564, 'fulfilled': 2361, 'coffers': 1253, 'enable': 1995, 'thm': 5543, 'lend': 3268, 'capit': 1048, 'queued': 4390, 'outside': 3947, 'waived': 5964, 'mallya': 3425, 'debts': 1601, 'amounting': 487, '20b9': 168, '1200': 129, '222': 172, 'naxals': 3751, 'surrender': 5404, 'odisha': 3859, 'let': 3275, 'wallet': 5973, 'deshdrohi': 1709, 'came': 1039, 'fight': 2233, 'great': 2501, 'non': 3810, 'corrupt': 1437, 'common': 1298, 'innocent': 2910, 'suffering': 5345, 'black': 865, 'holders': 2697, 'okay': 3879, 'retaining': 4653, 'seats': 4880, 'byelection': 1024, 'proved': 4334, 'abov': 281, 'thoughtful': 5549, 'piece': 4113, '00b1': 40, '008d': 14, 'stupid': 5325, 'complain': 1316, 'claim': 1216, 'joined': 3062, 'line': 3310, 'opposition': 3917, 'mps': 3687, 'demonstrating': 1677, 'solidarity': 5144, 'demanding': 1652, 'parliame': 4006, 'uncle': 5744, 'aur': 641, 'aaya': 265, 'fund': 2366, 'kar': 3107, 'fresh': 2344, 'currency': 1532, 'recovered': 4515, 'slain': 5085, 'militants': 3562, 'bandipora': 712, 'time': 5578, 'mudra': 3692, 'action': 330, 'prof': 4294, 'vaidyanathan': 5853, 'man': 3431, 'ends': 2007, 'life': 3299, 'ahead': 421, 'daughter': 1581, 'gujarat': 2535, 'kept': 3133, 'open': 3889, 'secret': 4884, 'brutal': 973, 'project': 4304, 'credible': 1482, 'death': 1595, 'caused': 1089, 'career': 1060, 'game': 2389, 'match': 3486, '500': 221, '1000': 118, 'bold': 903, 'decisions': 1610, 'national': 3737, 'bigger': 842, 'means': 3507, 'flags': 2277, 'videos': 5898, 'watched': 6001, 'reinstate': 4548, 'ads': 369, 'vibrancy': 5892, 'want': 5977, 'example': 2074, 'issues': 2996, 'inherent': 2903, 'capitalism': 1050, 'prohibition': 4303, 'quiet': 4396, 'men': 3531, 'tobacco': 5594, 'gutkha': 2548, 'banned': 727, 'love': 3375, 'englis': 2011, 'post': 4207, 'grow': 2513, 'acc': 291, 'asian': 591, 'ban': 707, 'positiv': 4202, 'thought': 5548, 'solved': 5150, 'kashmir': 3114, 'problem': 4279, 'flat': 2278, 'retweeted': 4662, 'randeep': 4447, 'surjewala': 5399, '29years': 188, 'milkman': 3566, 'asked': 595, 'check': 1171, '00b2': 41, '009c': 26, 'wants': 5979, 'debate': 1597, 'oppn': 3902, 'away': 659, 'thanks': 5527, 'conversation': 1412, 'ubi': 5728, 'universal': 5776, 'basic': 744, 'income': 2842, 'link': 3314, 'big': 838, 'ideas': 2780, 'liked': 3304, 'completely': 1322, 'cking': 1215, 'random': 4448, 'cpi': 1463, 'opposes': 3913, 'west': 6033, 'bengal': 799, 'pawar': 4043, 'turned': 5709, 'polonium': 4181, 'collapse': 1265, 'small': 5109, 'medium': 3517, 'wah': 5958, '0084': 6, 'delhi': 1639, 'minority': 3585, 'institutions': 2931, 'exempt': 2096, 'conduct': 1346, 'raids': 4424, 'stunts': 5324, 'swachata': 5420, 'diwas': 1833, 'yoga': 6158, 'anti': 521, 'romeo': 4733, 'drives': 1893, 'gau': 2406, 'rakshaks': 4437, 'voted': 5941, 'viewer': 5903, 'questions': 4388, 'latest': 3230, 'developments': 1737, 'answered': 518, 'sawaal': 4842, 'seeing': 4901, 'munaf': 3701, 'patel': 4027, 'ages': 407, 'lost': 3372, 'payments': 4048, 'initiative': 2906, 'designed': 1712, 'reduce': 4521, 'usage': 5830, 'strengthen': 5304, 'footprint': 2308, 'hoarders': 2691, 'finding': 2251, 'ways': 6009, 'advance': 372, 'salaries': 4797, 'repaying': 4595, 'old': 3881, 'dues': 1908, 'failure': 2163, 'ppl': 4220, 'ready': 4481, 'war': 5980, 'corruption': 1438, 'specialist': 5179, 'saab': 4779, 'pension': 4064, 'mcd': 3501, 'hnis': 2688, 'getting': 2429, 'calls': 1036, 'convert': 1414, 'brands': 948, 'trying': 5698, 'advantage': 373, 'bhushan': 833, 'high': 2664, 'value': 5859, 'beginning': 776, 'government': 2480, 'deep': 1623, 'continuous': 1400, 'struggle': 5318, 'mon': 3641, 'rise': 4708, 'gold': 2462, 'prices': 4262, 'financial': 2249, 'savita': 4839, 'gupta': 2543, 'mam': 3426, 'fighting': 2234, 'night': 3793, 'safety': 4790, 'concerned': 1332, 'exchanging': 2082, 'supposed': 5384, 'curb': 1528, 'stone': 5279, 'pelting': 4059, 'hear': 2631, 'voices': 5933, 'propagating': 4318, 'theories': 5532, 'demonetizati': 1668, 'feeded': 2213, 'jewellery': 3039, 'making': 3421, 'fool': 2301, 'wrong': 6131, 'atm': 617, 'hmmm': 2687, 'suspect': 5414, 'far': 2183, 'overwhelming': 3956, 'elec': 1967, 'evanspiegel': 2061, 'raided': 4423, 'finances': 2247, 'squeezed': 5214, 'tight': 5575, 'appearing': 537, 'offensive': 3863, 'slip': 5098, '1000th': 119, 'percent': 4070, 'succinctly': 5340, 'explained': 2115, 'rebel': 4494, 'politik': 4178, '0938': 81, '0902': 54, '0926': 68, '092a': 70, '0930': 75, '0947': 89, '094d': 92, '092f': 74, 'folds': 2294, 'increase': 2848, 'transaction': 5644, 'modiji': 3636, 'killed': 3151, 'congressis': 1364, 'attending': 630, 'crying': 1522, 'htt': 2738, 'severe': 4949, 'liquidity': 3318, 'continues': 1397, 'dire': 1773, 'reconfigured': 4508, 'useless': 5833, 'bcoz': 759, 'thoughts': 5550, 'speech': 5184, 'lines': 3311, 'reduced': 4522, 'exchange': 2080, 'giving': 2441, 'struggling': 5319, 'answer': 516, 'taken': 5448, 'lik': 3302, 'disaster': 1784, 'reaction': 4476, 'tourist': 5624, 'live': 3327, 'short': 5016, 'term': 5508, 'difficulties': 1760, 'result': 4647, 'response': 4637, 'hrs': 2737, 'finally': 2244, 'seriously': 4930, 'believe': 786, 'pan': 3979, 'compromised': 1328, 'manner': 3448, 'vocal': 5930, 'demon': 1660, 'whopping': 6049, 'surveyed': 5408, 'say': 4843, 'inconvenience': 2844, 'worth': 6117, 'effort': 1959, 'operation': 3895, 'clean': 1229, 'identified': 2781, 'investigation': 2968, 'excessive': 2078, 'mean': 3505, 'make': 3419, 'jus': 3092, 'email': 1981, 'notifs': 3827, 'long': 3354, 'tyt': 5726, 'makes': 3420, 'worry': 6112, 'approved': 552, 'establishment': 2052, '1946': 146, 'ordinance': 3930, 'excitement': 2085, 'panic': 3987, 'scramble': 4867, 'cities': 1205, 'case': 1068, 'sinister': 5065, 'agenda': 405, 'washington': 5991, 'bannerd': 728, 'paid': 3967, 'cashless': 1074, 'converted': 1415, 'white': 6045, 'gates': 2402, 'guinea': 2532, 'pig': 4114, 'conspiracy': 1380, 'recounted': 4512, 'actors': 337, 'washed': 5989, 'babul': 677, 'supriyo': 5390, 'need': 3765, 'daddy': 1550, 'present': 4251, 'delhiites': 1640, 'affected': 391, 'queues': 4392, 'transactions': 5645, 'free': 2339, 'provided': 4337, 'kejriwal': 3128, 'gst': 2520, 'akin': 440, 'censorship': 1106, 'related': 4551, 'blacklist': 866, 'following': 2299, 'rs500': 4750, 'launch': 3234, 'rs2k': 4747, 'fatwa': 2195, 'mini': 3577, 'pakistan': 3974, 'good': 2466, 'economics': 1947, 'reflected': 4528, 'actions': 331, 'transparent': 5652, '0928': 69, '0924': 66, '0925': 67, '092c': 71, '091c': 61, 'poll': 4179, 'dust': 1914, 'settles': 4947, 'cng': 1245, 'mobiles': 3626, 'dematerialized': 1654, 'stopping': 5287, 'condoms': 1344, 'stop': 5283, 'prostitution': 4327, 'logic': 3346, 'laborers': 3197, 'employees': 1992, 'companies': 1308, 'salary': 4798, 'coz': 1462, 'years': 6152, 'pak': 3973, 'loopholes': 3359, 'khan': 3140, 'zindagi': 6180, 'hate': 2613, 'susan': 5411, 'wojcicki': 6095, 'damn': 1565, 'advertiser': 380, 'friendly': 2348, 'passion': 4024, 'looking': 3357, 'coming': 1282, 'fingers': 2255, 'crossed': 1509, 'etvnews': 2056, 'panelist': 3985, 'tonight': 5608, '30pm': 204, 'etv': 2055, 'hindi': 2672, 'channels': 1151, 'ekjactly': 1964, 'wud': 6135, 'noise': 3808, 'mistake': 3604, 'mistaken': 3605, 'wanted': 5978, 'gracefully': 2489, 'citizen': 1207, 'bare': 732, 'sources': 5169, 'said': 4794, 'weekend': 6024, 'rbi': 4469, 'supplying': 5376, 'required': 4615, 'movement': 3682, 'antifa': 523, 'kind': 3155, 'cointelpro': 1262, 'youtubers': 6171, 'pissed': 4124, 'bypolls': 1025, 'decide': 1606, 'results': 4650, 'loot': 3364, 'robberies': 4723, 'daily': 1553, 'routine': 4742, 'army': 570, 'cpiml': 1464, 'proves': 4335, 'totally': 5617, 'indifferent': 2871, 'mounting': 3678, 'misery': 3594, 'hards': 2599, 'border': 924, 'security': 4895, 'force': 2310, 'seizes': 4907, 'malda': 3422, 'chandrababu': 1143, 'implemented': 2814, 'advice': 384, 'request': 4613, 'instead': 2927, 'tweeting': 5716, 'posting': 4209, 'negative': 3772, 'abt': 287, 'tweet': 5713, 'working': 6107, 'locality': 3341, 'rana': 4445, 'sanghis': 4813, 'grand': 2492, 'success': 5337, 'pathetic': 4030, 'governance': 2477, 'wage': 5954, 'earner': 1929, 'sufferer': 5344, 'consequences': 1373, 'slowdown': 5103, 'shor': 5014, 'shirt': 4997, 'dedicated': 1620, 'favorite': 2198, 'solknight': 5145, 'tied': 5573, 'aadhaar': 254, 'recipe': 4506, 'orwellian': 3938, 'disagrees': 1781, 'enemy': 2008, 'unhappy': 5766, 'dalaal': 1557, 'delhities': 1641, 'que': 4379, 'praising': 4227, 'cursing': 1535, 'thug': 5565, 'respected': 4633, 'sir': 5069, 'swiss': 5433, 'announcements': 509, 'krishnan': 3185, 'sanghi': 4812, 'dms': 1840, 'media': 3514, 'criticism': 1498, 'scripted': 4870, 'answers': 519, 'allowed': 457, 'guess': 2526, 'airport': 431, 'facing': 2150, 'available': 649, '200': 152, 'parties': 4016, 'forming': 2325, 'chain': 1126, 'premises': 4244, 'protest': 4329, 'hours': 2729, '5lacs': 231, 'opinions': 3898, 'amazing': 470, 'commitment': 1291, 'reports': 4609, 'exactly': 2072, 'opposing': 3914, 'bandwagon': 713, 'constructive': 1383, 'chaos': 1153, 'disruptions': 1815, 'obstructionist': 3854, 'abraham': 282, 'words': 6103, 'forefront': 2315, 'coercion': 1252, 'assured': 613, 'ended': 2002, 'indirectly': 2874, 'conveying': 1417, 'comfortable': 1281, 'crore': 1505, 'hard': 2596, 'guy': 2550, 'poses': 4199, 'observr': 3853, 'frustrated': 2355, 'disappointed': 1783, 'lady': 3206, 'fed': 2210, '2b07': 189, 'normal': 3812, 'nearly': 3761, 'fied': 2229, 'koi': 3175, 'savory': 4840, 'deconstructing': 1616, 'relationship': 4554, 'spectacular': 5182, 'event': 2062, 'performing': 4076, 'forgetting': 2320, 'motive': 3675, 'exercise': 2099, 'pro': 4274, 'feku': 2219, 'data': 1579, 'reactions': 4477, 'matter': 3488, 'burnol': 1004, 'relieve': 4564, 'burns': 1005, 'skeptic': 5081, 'youtuber': 6170, 'upset': 5819, 'deregulation': 1702, 'builder': 986, 'lol': 3350, 'fixed': 2272, 'pelters': 4058, 'crunch': 1517, 'warming': 5983, 'racism': 4409, 'certainly': 1116, 'hurting': 2761, 'lord': 3366, 'behen': 785, 'bagwati': 694, 'thre': 5554, 'connection': 1368, 'whatsoever': 6040, 'betn': 807, 'wid': 6053, 'extra': 2134, 'pain': 3969, 'gave': 2408, 'families': 2177, 'realised': 4484, 'hand': 2574, 'moving': 3686, 'plastic': 4141, 'trxns': 5696, 'trouble': 5683, 'google': 2469, 'censoring': 1105, 'delisting': 1646, 'america': 481, 'sleeps': 5094, 'dry': 1900, 'despite': 1720, 'bankers': 720, 'hopefully': 2717, 'normalcy': 3813, 'return': 4659, 'soon': 5160, 'ava': 648, 'bye': 1023, 'elections': 1971, 'shown': 5028, 'atleast': 616, 'tolerating': 5603, 'wave': 6006, 'helping': 2653, 'lower': 3380, 'hit': 2684, 'enhance': 2013, 'riche': 4688, 'richerd': 4690, 'stalled': 5226, 'disruption': 1814, 'dont': 1851, 'undrstnd': 5754, 'oppstn': 3920, 'stall': 5225, 'jamesbond': 3019, 'singh': 5063, 'shortages': 5018, 'measures': 3510, 'ease': 1933, 'stress': 5306, 'complete': 1321, 'rvignesh': 4778, 'anna': 504, 'university': 5778, 'auction': 636, 'price': 4261, 'know': 3168, 'tell': 5495, 'solve': 5149, '008a': 11, 'exclusive': 2087, 'inside': 2917, 'owned': 3958, 'sign': 5047, 'minor': 3584, 'major': 3417, 'convenience': 1409, 'vijay': 5908, 'friends': 2349, 'round': 4739, 'table': 5437, 'indian': 2863, 'gdp': 2411, 'organized': 3936, 'stand': 5231, 'comedy': 1278, 'amit': 485, 'tandon': 5461, 'boon': 920, 'disguise': 1802, 'sleeping': 5093, 'hungry': 2756, 'stomach': 5278, 'nly': 3803, 'source': 5168, 'nrega': 3834, 'tripura': 5679, 'wonder': 6099, 'went': 6031, 'shock': 5008, 'gory': 2471, 'warnings': 5986, 'fail': 2159, 'prevails': 4257, 'cigarette': 1200, 'bibi': 836, 'prob': 4276, 'contrary': 1402, 'doomsday': 1853, 'predictions': 4239, 'exports': 2120, 'jdu': 3034, 'harivansh': 2602, 'backs': 685, 'irrational': 2980, 'double': 1858, 'whammy': 6036, 'iip': 2791, 'index': 2859, 'industrial': 2880, 'production': 4291, 'contracts': 1401, 'consumer': 1386, 'nov': 3829, '2016': 162, 'announced': 507, 'shattered': 4979, 'true': 5688, 'shape': 4967, 'failed': 2160, 'desperate': 1718, 'samajwadi': 4804, 'jaya': 3032, 'bachchan': 680, 'tmc': 5592, 'jantar': 3026, 'mantar': 3453, 'effects': 1958, 'fires': 2260, 'sudden': 5341, 'decision': 1609, 'boycott': 937, 'specially': 5180, '200b': 157, 'bsp': 977, 'blame': 870, 'help': 2650, 'combat': 1274, 'terror': 5514, 'able': 277, 'print': 4267, 'claps': 1220, 'observe': 3852, 'entire': 2023, 'remonetized': 4582, 'premiering': 4242, '20th': 169, 'april': 556, 'respond': 4635, 'change': 1145, 'face': 2140, 'yogi': 6160, 'adityanath': 357, 'idea': 2779, 'inspired': 2922, 'ambedkar': 475, 'drops': 1898, 'mic': 3552, 'snatched': 5128, 'mayawati': 3496, 'likely': 3305, 'max': 3494, 'number': 3842, 'shrunk': 5036, 'cement': 1103, 'gone': 2463, '100': 117, 'flawless': 2280, 'kick': 3144, 'push': 4363, 'comfort': 1280, 'zone': 6181, 'fully': 2362, 'supportive': 5381, 'prove': 4333, 'successful': 5338, 'turning': 5710, 'food': 2300, 'vouchers': 5949, 'mizoram': 3615, 'creative': 1477, 'way': 6008, 'dealing': 1592, 'resulting': 4649, 'wala': 5967, 'stones': 5280, 'instigate': 2928, 'indians': 2864, 'civil': 1213, 'arrest': 576, 'inflation': 2891, 'rates': 4460, 'react': 4474, 'und': 5745, 'use': 5831, 'word': 6102, 'molestation': 3638, 'talking': 5453, 'milo': 3571, 'instant': 2926, 'slips': 5099, 'hidden': 2661, 'clarification': 1221, 'cooperative': 1422, 'funding': 2367, 'accept': 294, 'moab': 3623, 'achin': 323, 'achche': 313, 'din': 1768, 'inconveniences': 2846, 'icici': 2775, 'branch': 947, '150': 138, 'dead': 1588, 'pathankkot': 4029, 'cake': 1028, 'eating': 1940, 'vyapam': 5953, 'concern': 1331, 'daring': 1573, 'step': 5268, '8th': 248, 'urge': 5824, 'hon': 2709, 'protesting': 4330, 'deliberately': 1643, 'desperation': 1719, 'deshbhakti': 1708, 'narrative': 3731, 'reflects': 4529, 'worried': 6110, 'adverse': 377, 'macro': 3399, 'increasingly': 2851, 'visible': 5922, 'decline': 1615, 'slowing': 5105, 'month': 3653, 'gareeb': 2398, 'simple': 5059, 'meet': 3519, 'targets': 5468, 'forced': 2311, 'guys': 2551, 'reached': 4471, 'ghotala': 2433, 'process': 4284, 'pls': 4153, 'explain': 2114, 'idc': 2778, 'offer': 3864, 'perspectives': 4089, 'implications': 2816, 'seconds': 4883, 'agony': 411, 'tribal': 5668, 'channel': 1149, '9days': 251, '5lakhs': 233, 'returned': 4660, 'lakhs': 3211, 'kahan': 3100, 'gaya': 2409, 'acquired': 326, 'reliance': 4561, 'jio': 3049, 'include': 2839, 'class': 1223, 'milkbar': 3565, 'amul': 489, 'baroda': 736, 'dairy': 1555, 'nutritious': 3846, 'products': 4293, 'promote': 4312, 'agric': 417, 'theplan': 5533, 'developing': 1735, 'developed': 1733, 'shud': 5037, '1st': 151, 'learn': 3257, 'respect': 4631, '0091': 18, 'snapchat': 5126, 'supreme': 5389, 'court': 1453, 'refuses': 4535, 'extreme': 2137, 'realtime': 4489, 'analytics': 494, 'disappearing': 1782, 'comments': 1287, 'slowly': 5106, 'kill': 3150, 'identity': 2782, 'changing': 1148, 'helper': 2652, 'patriotism': 4039, 'dig': 1762, 'hole': 2700, 'devoid': 1741, 'printing': 4269, 'kicked': 3145, 'vigor': 5907, 'overboard': 3949, 'questioning': 4387, 'suspects': 5415, 'noises': 3809, 'majority': 3418, 'cong': 1359, 'left': 3263, 'rjd': 4715, '105': 122, 'house': 2730, '543': 226, 'members': 3529, 'oppose': 3911, 'thing': 5536, 'position': 4201, 'worthless': 6118, 'unpaid': 5783, 'hubbies': 2743, 'surviving': 5410, 'wife': 6059, 'remains': 4574, 'aftr': 400, 'launches': 3236, '2nd': 195, 'phase': 4097, 'detect': 1728, 'issue': 2994, 'notices': 3825, 'polarisation': 4168, 'place': 4129, 'reset': 4624, 'equations': 2038, 'surprising': 5402, 'rss': 4753, '0087': 8, 'coverage': 1457, 'yes': 6156, 'pink': 4119, 'grey': 2507, 'turbo': 5705, 'electric': 1973, 'difficult': 1759, 'wit': 6080, 'wannabe': 5976, 'mugabe': 3694, 'rs10cr': 4746, 'seized': 4906, 'servants': 4933, 'total': 5616, 'discuss': 1797, 'different': 1758, 'industries': 2882, 'ahok': 423, 'arap': 558, 'fpi': 2332, 'nasi': 3733, 'nazi': 3753, 'racist': 4410, 'somebody': 5152, 'spoof': 5202, 'trailer': 5640, 'hilarious': 2670, 'hope': 2715, 'works': 6108, 'beneficial': 794, 'introduction': 2961, 'easy': 1938, 'solution': 5147, 'recalibrated': 4497, 'amoun': 486, 'adsense': 370, 'estate': 2053, 'industry': 2883, 'elixir': 1978, 'form': 2322, 'nac': 3714, 'member': 3528, 'upa': 5804, 'jean': 3035, 'drèze': 1902, 'immense': 2805, 'pressure': 4255, 'distress': 1819, 'based': 740, 'offering': 3865, 'manpower': 3450, 'wtf': 6133, '911': 249, 'nationalists': 3740, 'walk': 5971, 'spread': 5208, 'mas': 3477, 'catalyzing': 1079, 'visit': 5924, 'no1': 3805, 'bengalur': 800, 'difficulty': 1761, 'paying': 4046, 'basically': 745, 'cia': 1199, 'thugs': 5566, 'venezuela': 5878, 'model': 3630, 'rigged': 4699, 'biomet': 851, 'pick': 4107, 'pocketing': 4160, 'guise': 2533, 'service': 4937, 'charges': 1158, 'christian': 1193, 'muslim': 3708, 'revenue': 4667, 'vids': 5900, 'bullying': 994, 'children': 1183, 'joshburgess': 3069, 'silicon': 5055, 'valley': 5858, 'twitter': 5720, 'reddit': 4519, 'facebook': 2141, 'control': 1405, 'angels': 498, 'vcs': 5871, 'investing': 2969, 'startups': 5245, 'unbiased': 5742, '0937': 80, '008c': 13, 'scared': 4854, 'demand': 1651, 'lowly': 3382, 'roll': 4729, 'qurbani': 4404, 'warning': 5985, 'scheme': 4859, 'bmkj': 894, 'remember': 4575, 'bigb': 839, 'ajay': 435, 'devgan': 1738, 'tere': 5506, 'baapu': 667, 'sara': 4817, 'paisa': 3972, 'dharna': 1745, 'kid': 3146, 'squats': 5213, 'takes': 5449, 'pocket': 4159, 'slaves': 5091, 'update': 5806, 'conference': 1349, 'jindal': 3048, 'school': 4860, 'jgbs': 3042, 'discusses': 1798, 'societal': 5135, 'official': 3870, 'builders': 987, 'dealt': 1593, 'ysrcp': 6172, 'chief': 1181, 'jagan': 3009, 'mohan': 3637, 'reddy': 4520, 'friend': 2347, 'worries': 6111, 'lead': 3249, 'swift': 5429, 'deployment': 1690, 'technology': 5491, 'partha': 4012, 'marriage': 3471, 'discourage': 1793, 'terrorism': 5515, 'incentivize': 2834, 'ngo': 3789, 'dalals': 1559, 'thriving': 5558, 'opportunity': 3909, 'partners': 4019, 'vision': 5923, 'goofed': 2468, 'calibrations': 1033, 'bit': 854, 'plann': 4137, 'formation': 2324, '2753': 185, 'mla': 3617, 'shopping': 5012, 'subverting': 5334, 'mandates': 3437, 'tragic': 5638, 'implementation': 2813, 'flouting': 2287, 'rules': 4765, 'license': 3295, 'oper': 3892, 'misled': 3598, 'masquerader': 3479, 'baiter': 699, 'ridiculed': 4696, 'shows': 5030, 'socialist': 5133, 'nations': 3743, 'foolproof': 2305, 'property': 4322, 'act': 327, 'initiatives': 2907, 'questioned': 4386, 'surgical': 5397, 'strikes': 5310, 'cbi': 1095, 'election': 1970, 'agree': 413, 'irresp': 2982, 'steps': 5270, 'improve': 2824, 'yousuf': 6165, 'beats': 767, 'industrialists': 2881, 'ambani': 474, 'groups': 2512, 'cop': 1423, 'des': 1704, '30am': 200, 'feat': 2206, 'hates': 2615, 'richer': 4689, 'richest': 4691, 'central': 1110, 'marriages': 3472, 'withinc': 6088, 'loan': 3333, 'bailed': 698, 'pet': 4091, 'dog': 1846, 'race': 4407, 'sustainable': 5417, 'strategic': 5297, 'demons': 1675, 'wing': 6070, 'pelted': 4057, 'justice': 3093, 'supporting': 5380, 'cheque': 1176, 'local': 3339, 'car': 1056, 'mechanic': 3512, 'gladly': 2443, 'took': 5609, 'itnarrated': 3000, 'entertained': 2021, 'mangesh': 3444, 'kangane': 3105, 'thane': 5523, 'prominent': 4308, 'alternative': 465, 'listen': 3321, 'terified': 5507, 'wic': 6052, 'graphs': 2496, 'points': 4164, 'feb': 2208, 'planned': 4138, 'marathon': 3459, 'unreasonable': 5792, 'earlier': 1924, 'mass': 3480, 'genius': 2421, 'declared': 1613, 'care': 1059, 'chori': 1190, 'babus': 678, 'politicians': 4176, 'judges': 3080, 'cca': 1096, 'competitions': 1313, 'schedule': 4858, 'junior': 3090, 'english': 2012, 'paragraph': 3997, 'writing': 6128, 'senior': 4917, 'thinks': 5540, 'limit': 3307, '24k': 175, 'week': 6023, 'account': 306, '50k': 224, 'cfa': 1119, 'history': 2683, 'globally': 2450, 'burning': 1003, 'rid': 4694, 'unaffected': 5739, 'given': 2438, 'folks': 2296, 'reason': 4492, 'received': 4502, 'approval': 550, 'lutyen': 3391, 'ground': 2509, 'level': 3280, 'called': 1034, 'temporary': 5502, 'truly': 5689, 'faulty': 2196, 'petition': 4092, 'illegal': 2796, 'launderers': 3238, 'apparently': 534, 'fair': 2165, 'bck': 758, 'eco': 1944, 'books': 918, 'friedman': 2346, 'formula': 2326, 'verifying': 5885, 'crunching': 1518, 'estimate': 2054, 'hitler': 2685, 'download': 1866, 'sim': 5057, '0092': 19, 'manik': 3447, 'sarkar': 4824, 'overflows': 3952, 'drains': 1877, 'things': 5537, 'overstated': 3954, 'quarter': 4376, 'awe': 660, 'largest': 3224, 'epaisa': 2030, 'enabling': 1998, 'commerce': 1288, 'poo': 4186, 'riffin': 4698, 'lose': 3367, 'job': 3056, 'unless': 5780, 'hundreds': 2754, 'died': 1754, 'autowallah': 647, 'kya': 3193, 'card': 1057, 'lete': 3276, 'duplicate': 1910, 'argument': 564, 'reminds': 4579, 'ficn': 2228, 'buried': 1002, 'convenientl': 1410, 'late': 3228, 'rollback': 4730, 'interests': 2947, 'best': 805, 'served': 4935, 'smoothly': 5120, 'wed': 6018, 'communist': 1304, 'files': 2239, 'controversial': 1406, 'telangana': 5493, 'innovative': 2912, 'farmers': 2186, 'coin': 1258, 'surgic': 5396, 'interesting': 2946, 'cutting': 1543, 'edge': 1953, 'team': 5484, 'valuehomes': 5860, 'ultimately': 5735, 'buyers': 1019, 'person': 4084, 'chit': 1186, 'mind': 3573, 'helps': 2656, 'loves': 3377, 'censor': 1104, 'crap': 1469, 'avenu': 651, 'teacher': 5482, 'anybody': 526, 'absent': 284, 'attendance': 628, 'unexpected': 5761, 'cards': 1058, 'easily': 1936, 'separatist': 4925, 'stopped': 5286, 'department': 1688, 'investigate': 2966, '60k': 236, 'individuals': 2876, 'second': 4882, 'blaming': 872, 'gives': 2439, 'shagun': 4954, 'suggestion': 5349, 'season': 4877, 'nigam': 3792, 'reveals': 4665, 'singers': 5062, 'economist': 1948, 'rubbishing': 4758, 'score': 4864, 'brownie': 972, 'politi': 4172, 'assess': 603, 'earnings': 1932, 'loss': 3371, 'cyber': 1545, 'crime': 1487, 'karmatand': 3109, 'jamtara': 3021, 'hub': 2742, 'otp': 3941, 'fraud': 2337, 'sounds': 5166, 'urjit': 5828, 'missing': 3603, 'miss': 3601, 'arranging': 575, 'vvpat': 5951, 'helpless': 2654, 'printed': 4268, 'mike': 3558, 'rajasthan': 4433, 'epic': 2031, 'cps': 1465, 'seller': 4911, 'causing': 1090, 'endless': 2004, 'troubles': 5685, 'customers': 1538, 'wasteful': 5996, 'reynolds': 4679, 'red': 4518, 'alert': 446, 'unsubs': 5800, '360': 210, 'degree': 1635, 'looks': 3358, 'unprecedented': 5787, 'events': 2063, '2day': 192, 'meeting': 3520, 'decided': 1607, 'expose': 2121, '091a': 60, '094b': 91, '092e': 73, '0936': 79, 'stoopid': 5282, 'agarwal': 401, 'bhakt': 813, 'abuse': 288, 'pandora': 3983, 'box': 935, 'knows': 3173, 'brain': 943, 'drain': 1875, 'hour': 2728, 'wise': 6076, 'secure': 4893, 'stage': 5222, 'tomorrow': 5606, 'talwar': 5455, 'goswami': 2473, 'maulavies': 3492, 'afford': 394, 'lacs': 3204, 'burst': 1007, 'hammers': 2573, 'home': 2705, 'user': 5834, 'product': 4290, 'eol': 2029, 'whim': 6042, 'resp': 4630, 'mess': 3542, 'bhakts': 814, 'malls': 3424, 'markets': 3469, 'purchases': 4359, 'spent': 5189, 'trump': 5690, 'rahul': 4421, 'liar': 3287, 'vast': 5867, 'monies': 3650, 'commodities': 1297, 'student': 5321, 'historical': 2681, 'mone': 3642, 'acted': 328, 'iac': 2770, 'gang': 2394, 'evms': 2070, 'lonertwiner': 3353, 'kejru': 3130, 'revoke': 4675, 'err': 2042, 'sure': 5392, 'wild': 6061, 'allegation': 453, 'chant': 1152, 'considered': 1376, 'blow': 887, 'perpetrators': 4083, 'morgan': 3665, 'begun': 778, 'revert': 4670, 'look': 3356, 'research': 4620, 'methodology': 3548, 'professor': 4296, 'suc': 5335, 'threw': 5557, 'gutter': 2549, 'hpcl': 2735, 'gmo': 2453, 'assisting': 609, 'chennai': 1175, 'spouse': 5206, 'bringing': 963, 'happy': 2592, 'later': 3229, 'realize': 4487, 'enjoy': 2014, 'folk': 2295, 'dance': 1566, 'newly': 3785, 'coined': 1260, 'song': 5157, 'tickets': 5572, 'pricey': 4263, 'suppose': 5383, 'watcha': 6000, 'doin': 1848, 'foolish': 2304, 'plan': 4134, 'rationale': 4463, 'proceed': 4282, 'takeaway': 5447, 'population': 4194, 'kausik': 3120, 'hurt': 2760, 'rendered': 4588, '0089': 10, 'funds': 2368, 'claimed': 1217, 'benefit': 796, 'ensuring': 2019, 'supplies': 5374, 'fakes': 2169, 'till': 5576, 'crackdown': 1467, 'crs': 1514, 'imagination': 2801, 'lets': 3277, 'bharath': 819, 'bandh': 711, 'nationals': 3742, 'lambasted': 3216, 'critics': 1500, 'saying': 4844, 'continue': 1395, 'try': 5697, 'praised': 4225, 'knowing': 3169, 'chose': 1191, 'portray': 4196, 'reality': 4486, 'omg': 3885, 'marketed': 3466, 'certain': 1115, 'outrage': 3945, 'mute': 3710, 'aadhar': 255, 'finsec': 2259, 'governor': 2481, 'cbdt': 1094, 'chair': 1128, 'harvard': 2607, 'lambaste': 3215, 'aam': 259, 'aadmi': 257, 'generally': 2415, 'market': 3465, 'registrations': 4545, 'drop': 1896, 'demonetisation': 1664, 'inspiring': 2923, 'actor': 336, 'spotted': 5205, 'queue': 4389, 'bonanza': 910, 'startup': 5244, 'ecosystem': 1951, 'mamataofficial': 3428, 'deposited': 1692, 'brought': 970, 'prosperity': 4326, 'philosophers': 4100, 'whatsapp': 6039, 'inflow': 2893, 'moto': 3676, 'changed': 1146, 'indore': 2878, 'collector': 1268, 'shut': 5040, 'daraane': 1571, 'wali': 5970, 'netas': 3781, 'aaj': 258, 'kiske': 3163, 'pallu': 3978, 'mein': 3527, 'mooh': 3659, 'chupaa': 1197, 'baithe': 700, 'hongey': 2713, 'ikk': 2794, 'kamm': 3104, 'karo': 3111, 'raseed': 4456, 'katt': 3119, 'davo': 1583, 'affect': 390, 'satt': 4834, 'vachan': 5849, 'affecting': 392, 'dumb': 1909, 'transport': 5653, 'ambadi': 472, 'retrenching': 4657, '14000': 137, 'supporters': 5379, 'included': 2840, 'topic': 5611, 'explore': 2118, 'fastest': 2192, 'buying': 1020, 'dove': 1862, 'possible': 4205, 'joy': 3075, 'pride': 4264, 'shah': 4955, 'thrown': 5562, 'ganges': 2396, 'burnt': 1006, 'allowing': 458, 'ojha': 3877, 'wrestling': 6123, 'understanding': 5749, 'predicte': 4236, 'wow': 6122, 'kudos': 3187, 'doom': 1852, 'surely': 5393, 'catching': 1082, 'liberals': 3291, 'cum': 1527, 'experts': 2113, 'verdict': 5882, 'chance': 1139, 'nda': 3758, 'stands': 5235, 'eases': 1934, 'norms': 3814, 'suffered': 5343, 'nightmare': 3794, 'populace': 4191, 'chamchas': 1138, 'told': 5601, 'wiped': 6075, 'program': 4301, 'riding': 4697, 'hacking': 2559, 'hats': 2617, 'bench': 791, 'mark': 3464, 'gains': 2388, 'loses': 3369, 'gurgaon': 2544, 'siphoned': 5068, 'dat': 1578, 'mocked': 3627, 'flow': 2288, 'quick': 4394, 'faith': 2166, 'shaved': 4980, 'head': 2624, '13th': 134, 'early': 1926, 'lessons': 3274, 'experiment': 2112, 'puppet': 4357, 'impunity': 2829, 'net': 3780, 'foreign': 2316, 'outflow': 3943, 'stocks': 5275, 'bonds': 911, 'nifty': 3791, 'msci': 3688, 'eps': 2035, 'ambit': 476, 'capital': 1049, 'touted': 5626, 'prediction': 4238, 'sharp': 4975, 'bunk': 998, 'colossal': 1272, 'cluster': 1243, 'fuck': 2357, 'unplanned': 5784, 'spitting': 5193, 'welcomes': 6029, 'depend': 1689, 'swiftly': 5430, 'replenish': 4600, 'avoid': 653, '0d26': 112, '0d40': 115, '0d2a': 113, '0d16': 111, '0d3e': 114, '0d7c': 116, 'tamed': 5456, 'showing': 5027, 'accusing': 312, 'shri': 5032, 'jokes': 3067, 'crack': 1466, 'start': 5240, 'touring': 5623, 'abro': 283, 'cause': 1088, 'riots': 4705, 'kindly': 3157, 'paresh': 4003, 'goalpost': 2455, 'royal': 4745, 'toss': 5615, 'cag': 1027, 'audit': 639, 'trusts': 5694, '1882': 144, 'facelift': 2143, 'arvind': 585, 'kejriwals': 3129, 'page': 3966, 'mood': 3657, 'questio': 4384, 'hoarded': 2690, 'depositing': 1693, 'accts': 309, 'expect': 2104, 'extn': 2133, 'misfire': 3595, 'jnu': 3054, 'rly': 4716, 'stns': 5272, 'absolutely': 286, 'shrinks': 5035, '3rd': 214, 'amid': 483, 'drag': 1873, 'fry': 2356, 'hopping': 2718, 'mad': 3400, 'warned': 5984, 'adani': 344, 'added': 348, 'playlist': 4147, 'gun': 2540, 'endorse': 2005, 'crusade': 1519, 'worst': 6116, 'run': 4769, 'north': 3815, 'coastal': 1249, 'pains': 3971, 'notebandi': 3819, 'achha': 316, 'hai': 2563, 'sugarcane': 5347, 'belt': 789, 'sweet': 5426, 'lived': 3328, 'tata': 5470, 'sponge': 5200, 'operater': 3894, 'active': 332, 'humble': 2750, 'appeal': 535, 'patience': 4032, 'draw': 1881, 'sanda': 4809, 'mention': 3534, 'records': 4511, 'cont': 1389, 'buses': 1009, 'officials': 3871, 'quarters': 4378, 'honesty': 2712, 'acceptable': 295, 'speaking': 5176, 'highness': 2669, 'shying': 5042, 'bride': 957, 'charge': 1156, 'ticket': 5571, 'booking': 916, 'awareness': 658, 'programme': 4302, 'parents': 4002, 'demo': 1655, 'mms': 3621, 'ripped': 4707, 'apart': 529, 'reverberating': 4669, 'miller': 3567, 'glr': 2452, 'talks': 5454, 'hello': 2648, 'monopoly': 3652, 'cent': 1107, 'book': 914, 'holidays': 2702, 'needed': 3766, 'abo': 278, '0968': 94, '096b': 95, '0932': 76, 'productivity': 4292, 'creativity': 1478, 'increased': 2849, 'ajaygopi': 436, 'agricultre': 418, 'water': 6004, 'cost': 1441, 'fertilizer': 2224, 'seaman': 4873, 'launched': 3235, 'apple': 540, 'tech': 5487, 'spend': 5187, 'cynical': 1546, 'view': 5901, 'loose': 3360, 'adaptability': 346, 'fellow': 2221, 'indi': 2860, 'group': 2511, 'buddies': 982, 'target': 5465, 'counterfeit': 1445, 'activities': 334, 'lies': 3298, 'worse': 6113, 'locked': 3343, 'die': 1753, 'incindia': 2836, 'rssurjewala': 4754, 'dis': 1780, 'favours': 2201, 'peons': 4065, 'sarkari': 4825, 'babu': 674, 'loans': 3334, 'work': 6104, 'hardly': 2598, 'embrace': 1983, 'wallets': 5974, 'ughhh': 5730, 'spin': 5192, 'crash': 1470, 'utha': 5842, 'deva': 1732, 'sufferings': 5346, 'illusion': 2799, 'democracy': 1657, 'press': 4253, 'minutes': 3588, 'infact': 2889, 'predicted': 4237, 'cautioned': 1092, 'policy': 4171, 'fiasco': 2227, 'demonetizat': 1667, 'citizens': 1209, 'leverage': 3283, 'overcome': 3950, 'courage': 1451, 'momentous': 3640, 'bummed': 995, 'missed': 3602, 'analysts': 493, 'expected': 2105, 'couple': 1449, 'proud': 4332, 'deptt': 1698, 'verification': 5883, 'deposits': 1694, 'info': 2896, 'discussion': 1800, 'underway': 5750, 'kasturi': 3118, 'srinivasan': 5217, 'hall': 2570, 'celebrate': 1098, 'birthday': 853, 'empathy': 1987, 'father': 2194, 'dies': 1755, 'waits': 5962, 'aware': 657, 'torturing': 5614, 'citizenry': 1208, 'riot': 4704, 'situation': 5076, 'mobile': 3625, 'arrested': 577, 'scotland': 4866, 'yard': 6143, 'credit': 1483, 'sherlock': 4989, 'holmes': 2703, 'vegetable': 5873, 'fruit': 2353, 'grower': 2514, 'special': 5178, 'provision': 4339, 'sri': 5215, 'ravi': 4466, 'shankar': 4965, 'hails': 2566, 'votegainer': 5942, 'voteloser': 5943, 'efforts': 1961, 'mislead': 3596, 'judged': 3079, 'cos': 1440, 'turn': 5708, 'compliant': 1325, 'avg': 652, 'corruptn': 1439, 'everybody': 2064, 'agrees': 415, 'utmost': 5846, 'hardships': 2601, 'extensive': 2132, 'abets': 271, 'facilitates': 2148, 'creation': 1476, 'catapult': 1080, 'higher': 2665, 'orbit': 3926, 'confidence': 1351, 'glory': 2451, 'asking': 597, 'fun': 2363, 'liberati': 3292, 'verma': 5886, 'integrity': 2936, 'cooking': 1420, 'leather': 3258, 'bag': 691, 'lingers': 3312, 'february': 2209, 'updates': 5808, 'attain': 624, 'trillion': 5674, '2025': 167, 'offprint': 3873, 'bikes': 845, 'cars': 1065, 'using': 5838, 'vanished': 5863, 'hyderabad': 2763, 'auto': 645, 'driver': 1891, 'purpose': 4362, 'taco': 5441, 'trip': 5678, '30est': 201, 'econ': 1945, 'moderated': 3631, 'menwhile': 3536, 'droolers': 1895, 'worshippers': 6115, 'graft': 2491, 'billion': 846, 'patreon': 4037, 'vlog': 5928, 'anchor': 496, 'homework': 2708, 'ranade': 4446, 'strike': 5309, 'nuclear': 3839, 'button': 1017, 'pokhran': 4166, 'winter': 6073, 'discontent': 1791, 'everyday': 2065, 'spraying': 5207, 'cold': 1263, 'blast': 873, 'salivating': 4801, 'pounding': 4215, 'begin': 775, 'bahujan': 697, 'samaj': 4803, 'calibrated': 1032, 'dispense': 1808, 'nxt': 3847, 'tss': 5699, 'pri': 4260, 'hunt': 2757, 'crocodiles': 1502, 'pond': 4182, 'dried': 1889, 'fish': 2265, 'anonymous': 512, 'amounts': 488, 'milestone': 3560, 'achieved': 319, 'driving': 1894, 'licence': 3294, 'registered': 4543, 'demoneti': 1663, 'mode': 3629, 'creating': 1475, 'unrest': 5795, 'monetization': 3644, 'lucky': 3388, 'tho': 5545, 'shift': 4991, 'effortlessly': 1960, 'delivered': 1647, 'beloved': 788, 'regarding': 4539, 'thea': 5530, 'lolwa': 3351, 'withdraws': 6086, 'presently': 4252, 'surat': 5391, 'roadshow': 4719, 'appreciate': 544, 'rupee': 4772, 'gain': 2386, 'growing': 2515, 'fast': 2191, '26a1': 184, 'bajirao': 701, '0933': 77, 'arya': 586, 'demolition': 1659, 'maybe': 3498, 'buy': 1018, 'farming': 2188, 'seeds': 4900, 'boz': 941, 'seed': 4897, 'sellers': 4912, 'sea': 4872, 'saradha': 4819, 'treasury': 5660, 'idiots': 2784, 'ceo': 1112, 'milk': 3564, 'producers': 4289, 'payment': 4047, 'directly': 1777, 'sad': 4787, 'beaten': 766, 'cattle': 1085, 'exempted': 2097, 'essential': 2050, 'items': 2998, 'petrolflights': 4096, 'lac': 3200, 'authoritarian': 643, 'severely': 4950, 'infected': 2890, 'virus': 5916, 'socialism': 5132, 'politically': 4174, 'bankrupt': 724, 'troubled': 5684, 'settled': 4946, 'favour': 2199, '261d': 181, 'victim': 5893, 'roshankar': 4737, 'larry': 3225, 'summers': 5362, 'disproportionate': 1811, 'capacity': 1047, 'utilization': 5845, 'neg': 3771, 'trend': 5663, 'investment': 2970, 'consumption': 1388, 'unable': 5736, 'hangs': 2582, 'representatives': 4611, 'terrible': 5511, 'runs': 4771, 'pretty': 4256, 'serve': 4934, 'hints': 2677, 'lending': 3269, 'flushed': 2291, 'ronin': 4734, 'doubt': 1860, 'usa': 5829, 'orders': 3929, 'cashl': 1073, 'travelers': 5657, 'moved': 3681, 'checki': 1173, 'avoided': 654, 'fallout': 2173, 'wharton': 6037, 'interpretation': 2952, 'evidence': 2066, 'probably': 4277, 'shass': 4978, 'hazare': 2622, 'speak': 5175, 'amendments': 480, 'including': 2841, 'icds': 2772, '7pm': 244, 'hotel': 2726, 'swati': 5425, 'dlx': 1836, 'karol': 3112, 'bagh': 692, 'baseless': 741, 'scot': 4865, 'bet': 806, 'posted': 4208, 'alumna': 467, 'mitali': 3609, 'nikore': 3795, 'women': 6098, 'mitigated': 3612, 'nitish': 3800, 'kumar': 3189, 'opnly': 3900, 'supprts': 5388, 'jacket': 3005, 'clip': 1238, 'lmao': 3332, 'finished': 2257, 'thr': 5553, 'strength': 5303, 'intimidate': 2957, 'excited': 2084, 'interviewing': 2956, 'ask': 594, 'jst': 3077, 'sending': 4916, 'voice': 5931, 'msg': 3689, 'texting': 5522, 'opinion': 3897, '2013': 160, 'antis': 525, 'curtail': 1536, 'living': 3331, 'engineering': 2010, 'martinrapaport': 3474, 'large': 3222, 'manufacturers': 3454, 'raising': 4430, 'factories': 2153, 'acclimatizing': 302, 'low': 3379, 'levels': 3282, 'janardhan': 3023, 'million': 3568, 'tweetwani': 5718, 'pic': 4106, 'highlight': 2666, 'shamshan': 4964, 'victory': 5895, 'goa': 2454, 'punjab': 4356, 'flop': 2286, 'movies': 3685, 'mat': 3485, 'weird': 6027, 'happening': 2588, 'controversies': 1407, 'defintely': 1631, '65l': 237, 'sample': 4806, 'size': 5078, 'omar': 3882, 'iota': 2976, 'witnessed': 6089, '00ab': 35, 'evan': 2060, 'spiegel': 5190, 'mangalore': 3442, 'participation': 4014, 'bhim': 827, 'confusion': 1358, 'upi': 5811, 'apps': 554, 'durin': 1913, 'telcos': 5494, 'waive': 5963, 'december': 1604, 'beautiful': 768, 'positives': 4204, 'pause': 4041, 'prayers': 4233, 'requested': 4614, 'revival': 4674, 'meetings': 3521, 'access': 299, 'escape': 2045, 'responsibility': 4638, 'unaccounted': 5738, 'liquid': 3317, 'assets': 605, 'planning': 4139, 'receding': 4500, 'rally': 4439, 'cheating': 1170, 'hating': 2616, 'posts': 4211, 'tolerate': 5602, 'ignorance': 2788, 'general': 2414, 'schadenfreude': 4857, 'biggest': 843, 'shitfest': 4999, '0921': 64, '0942': 88, '0940': 86, '55deaths': 228, 'forwards': 2329, 'alot': 462, 'plz': 4155, 'provide': 4336, 'centers': 1109, 'mahajan': 3407, 'navroop': 3748, 'burton': 1008, 'proper': 4319, 'defecation': 1628, 'wait': 5960, 'kiddo': 3148, 'bbcjustinr': 756, 'quite': 4399, 'rapidly': 4455, 'pepsi': 4069, 'commercial': 1289, 'kendall': 3132, 'jenner': 3038, 'exposed': 2122, 'watchers': 6002, 'swiping': 5432, 'machine': 3397, 'remove': 4584, 'penalty': 4061, 'assumes': 611, 'smartphones': 5113, 'improvised': 2827, 'course': 1452, 'correction': 1432, 'limits': 3309, 'improvement': 2826, 'gurumurthy': 2546, 'sector': 4889, 'mental': 3533, 'bankruptcy': 725, '0906': 56, '0917': 59, '0939': 82, '0948': 90, 'derided': 1703, 'claiming': 1218, 'stored': 5290, 'busi': 1010, 'execut': 2091, 'especially': 2048, 'current': 1533, 'according': 305, 'iit': 2792, 'prevent': 4258, 'ships': 4994, 'bermuda': 804, 'triangle': 5667, 'scale': 4849, 'retrenchment': 4658, 'laboureres': 3198, 'wagers': 5955, 'trick': 5670, 'scare': 4853, 'cleaned': 1230, 'dettol': 1730, 'std': 5260, 'necessary': 3763, 'pay': 4044, 'doctor': 1843, 'advisor': 387, 'lawyer': 3243, 'designer': 1713, 'interior': 2949, 'decorator': 1617, 'imp': 2807, 'nils': 3797, 'fin': 2243, 'sect': 4887, 'paved': 4042, 'path': 4028, 'verify': 5884, 'orchestrated': 3927, 'campaign': 1040, 'discredit': 1795, 'fear': 2204, 'mongers': 3649, 'numbers': 3843, 'transformation': 5648, 'pipe': 4122, 'dream': 1883, 'demonetized': 1670, 'fyi': 2380, 'published': 4348, 'premier': 4241, 'excellent': 2077, 'balanced': 704, 'blocked': 879, 'neutralized': 3783, 'ele': 1966, 'abhishek': 274, 'lodha': 3345, 'marxism': 3476, 'paper': 3991, 'impractical': 2821, 'rule': 4763, 'leaders': 3251, 'utility': 5844, 'suppress': 5386, 'namo': 3724, 'express': 2125, 'narendramodi': 3730, 'fact': 2151, 'toilet': 5599, 'thats': 5529, 'deal': 1591, 'perpetrated': 4082, 'shore': 5015, 'dying': 1921, 'radius': 4415, 'whining': 6044, 'delicious': 1644, 'entitled': 2025, 'leftist': 3264, 'asses': 602, 'invented': 2964, 'streaming': 5300, 'signals': 5048, 'regard': 4538, 'guide': 2528, 'auditor': 640, 'caro': 1063, 'containing': 1390, 'reporting': 4608, 'period': 4077, 'balances': 705, 'drivers': 1892, 'walas': 5968, 'tamil': 5457, 'supported': 5378, 'diverting': 1826, 'minds': 3574, 'sabanaqvi': 4782, 'individually': 2875, 'brute': 974, 'definitely': 1630, 'society': 5136, 'yeh': 6153, 'sach': 4784, 'kejri': 3126, 'surprisingly': 5403, 'aaptard': 263, 'moronic': 3667, 'trends': 5665, 'measure': 3509, 'invite': 2973, 'governmen': 2479, 'risky': 4713, 'poorly': 4190, 'unedited': 5757, 'checked': 1172, 'slide': 5095, 'released': 4557, 'demonetiz': 1665, 'whats': 6038, 'status': 5256, 'function': 2364, 'soil': 5138, 'resources': 4629, 'desecularisation': 1705, 'bangalore': 716, 'list': 3319, 'benefited': 797, 'discussing': 1799, 'solutions': 5148, 'experience': 2110, 'felt': 2222, 'seeks': 4904, 'asks': 598, 'petrol': 4095, 'pumps': 4352, 'debunking': 1602, 'refusing': 4536, 'operative': 3896, 'finance': 2246, 'ignacio': 2787, 'greatest': 2503, 'computer': 1329, 'scientists': 4862, 'bhatkar': 821, 'admirable': 363, 'susp': 5413, 'credai': 1480, 'geared': 2412, 'smoother': 5119, 'transition': 5650, 'tran': 5642, 'residential': 4625, 'personally': 4086, 'netizen': 3782, 'telling': 5496, 'narapayyan': 3728, 'eppdi': 2034, '330': 206, 'literally': 3322, 'choked': 1189, 'nos': 3816, 'margin': 3462, 'direction': 1775, 'mfs': 3551, 'pumped': 4351, '37000': 211, 'tanked': 5462, 'rest': 4640, 'unfolding': 5763, 'eyes': 2139, 'rejoice': 4549, 'rebound': 4495, 'wear': 6015, 'spreading': 5209, 'provoke': 4341, 'mob': 3624, 'treatmen': 5661, 'store': 5289, 'tampered': 5460, 'damage': 1563, 'sarada': 4818, 'participate': 4013, 'superb': 5369, 'innovation': 2911, 'starts': 5243, 'acting': 329, 'wars': 5988, 'shoots': 5010, 'pakistani': 3975, 'foot': 2307, 'factory': 2155, 'closed': 1240, 'manoj': 3449, 'tiwari': 5590, 'ranjith': 4451, 'solid': 5143, 'backdrop': 682, 'backed': 683, 'script': 4869, 'hey': 2659, 'samachar': 4802, 'photo': 4104, 'caption': 1052, 'stock': 5273, 'remembers': 4576, 'promos': 4311, 'crushed': 1521, 'dreams': 1884, 'extravagant': 2136, 'shaym': 4981, 'uploads': 5813, 'sheela': 4983, 'dikshit': 1767, 'opposed': 3912, 'nes': 3779, 'classic': 1225, 'lauded': 3232, 'fan': 2180, 'games': 2391, 'axed': 662, 'western': 6034, 'mother': 3670, 'hell': 2647, 'nintendo': 3798, 'pmmodi': 4157, 'mamta': 3430, 'reg': 4537, 'abdul': 269, 'hadi': 2560, 'shaikh': 4956, 'tweets': 5717, 'lzs': 3394, '2764': 186, '00b3': 42, 'poverty': 4217, 'increasing': 2850, 'vidme': 5899, 'facts': 2156, 'sbi': 4846, 'chairman': 1129, 'explaining': 2116, 'npa': 3831, 'extraordinarily': 2135, 'apologize': 531, 'blog': 880, 'ago': 410, 'hot': 2724, 'houses': 2732, 'steel': 5265, 'apr': 555, 'subscribe': 5330, 'murtaza': 3705, 'quickest': 4395, 'fold': 2293, 'asif': 593, 'lots': 3374, 'shouting': 5023, 'dividing': 1830, 'webinar': 6017, 'focus': 2292, 'reforms': 4532, 'dreaded': 1882, 'presence': 4250, 'widely': 6054, 'pictures': 4111, 'joins': 3064, 'ffs': 2226, 'problems': 4280, 'visa': 5918, 'application': 541, 'comoany': 1306, 'corporates': 1428, 'proc': 4281, 'sort': 5164, 'insist': 2920, 'icymi': 2776, 'replugging': 4603, 'review': 4671, 'armed': 568, 'millions': 3569, 'expressing': 2126, 'began': 773, 'donations': 1850, 'temples': 5501, 'little': 3326, 'coincidental': 1259, 'simultaneously': 5060, 'jyoti': 3097, 'blood': 885, 'boils': 902, 'maniacal': 3446, 'statements': 5250, 'ignore': 2789, 'needs': 3767, 'steam': 5264, 'kishore': 3161, 'biyani': 860, 'rides': 4695, 'sbn': 4847, '5400': 225, 'facial': 2146, 'expression': 2127, 'followed': 2298, 'child': 1182, 'bothered': 931, 'min': 3572, 'talk': 5452, 'crisp': 1494, 'informative': 2900, 'component': 1327, 'gadkari': 2383, 'isis': 2988, 'bitcoins': 857, 'brexit': 955, 'sunny': 5367, 'shakira': 4958, 'jlo': 3052, 'bmw': 895, 'range': 4449, 'rover': 4743, 'bla': 864, 'aside': 592, 'killing': 3152, 'trade': 5632, 'gurus': 2547, 'abuses': 289, 'maulana': 3491, 'ansar': 514, 'raza': 4468, 'critic': 1495, 'upper': 5815, 'freeze': 2343, 'beneficiary': 795, 'bought': 932, 'organic': 3933, 'farmer': 2185, 'mattu': 3490, 'hahaha': 2562, 'qualitative': 4374, 'scenario': 4856, 'prakash': 4228, 'javadekar': 3029, 'irresponsible': 2983, 'add': 347, 'affordable': 395, 'accessible': 300, 'unreliability': 5794, 'internet': 2951, 'era': 2041, 'mashable': 3478, 'midnight': 3557, 'hearing': 2633, 'execution': 2093, 'waned': 5975, 'uproar': 5817, 'seen': 4905, 'turbulent': 5706, 'zadaniambani': 6174, '11k': 128, 'arab': 557, 'weave': 6016, 'persons': 4087, 'trading': 5634, 'thaneinfo': 5524, 'youtubegoogle': 6168, 'topics': 5612, 'rampant': 4443, 'accident': 301, 'chinar': 1185, 'mahesh': 3410, 'sluggish': 5107, 'imports': 2819, 'yellow': 6154, 'adversely': 378, 'pulse': 4349, 'file': 2237, 'govts': 2483, 'retains': 4654, 'lok': 3348, 'sabha': 4783, 'assembly': 601, 'raises': 4429, 'godwin': 2458, 'law': 3239, 'resulted': 4648, 'bef': 771, 'undergone': 5746, 'dem': 1650, 'grows': 2516, 'purchasing': 4360, 'addressing': 353, 'king': 3158, 'electronic': 1975, '26': 180, 'recently': 4504, 'raga': 4417, 'withdrew': 6087, 'rs4000': 4748, 'culprits': 1525, 'crib': 1485, 'reserve': 4622, 'judge': 3078, 'uses': 5836, 'stats': 5255, 'justify': 3095, 'joe': 3059, 'vargas': 5864, 'aka': 438, 'angry': 501, 'bitts': 859, 'shitty': 5001, 'reacts': 4478, 'bazaar': 754, 'yeah': 6150, 'chutta': 1198, 'toh': 5597, 'bhi': 826, 'milega': 3559, 'nahi': 3717, 'quaderi': 4373, '10lakh': 125, '0964': 93, 'koning': 3177, 'wwii': 6139, 'hawaiian': 2621, 'banknotes': 723, 'japan': 3027, 'invaded': 2963, 'hawaii': 2620, 'render': 4587, 'unusable': 5801, 'highltng': 2667, 'faced': 2142, 'trimmed': 5676, 'annual': 511, 'forecast': 2314, 'citing': 1206, 'harassment': 2594, 'retweeting': 4663, 'jaihind': 3012, 'iam': 2771, 'soldier': 5140, 'travel': 5656, 'plans': 4140, 'summer': 5361, 'vacation': 5848, 'loosing': 3363, 'objectivity': 3851, 'noticing': 3826, 'correct': 1430, '279c': 187, 'classical': 1226, 'echo': 1942, 'chamber': 1137, 'honorable': 2714, 'vishwas': 5920, 'strongly': 5316, 'currencies': 1531, 'river': 4714, 'respectd': 4632, 'prsn': 4342, 'ths': 5563, 'pepl': 4068, 'qustning': 4405, 'intntn': 2958, 'involved': 2974, 'sarda': 4820, 'businessman': 1013, 'message': 3543, 'ins': 2915, 'akkad': 441, 'bullshit': 992, 'surprise': 5400, 'vip': 5914, 'ordinary': 3931, 'traveller': 5658, 'requirement': 4616, 'acid': 324, 'test': 5519, 'hits': 2686, 'bite': 858, 'governemnt': 2478, 'pie': 4112, 'elbaghdadi': 1965, 'alkhoei': 451, 'throwing': 5561, 'throwers': 5560, 'fiercely': 2231, 'dispute': 1812, 'sorry': 5163, 'company': 1309, 'destroy': 1722, 'sowing': 5172, 'disrupted': 1813, 'agri': 416, 'shuru': 5039, 'hua': 2741, 'jabse': 3004, 'orange': 3925, 'curbing': 1529, 'degradation': 1634, 'saw': 4841, '125': 131, 'ques': 4383, 'forget': 2319, 'jobs': 3058, 'informal': 2898, 'meat': 3511, 'fuckd': 2358, 'vot': 5939, 'beheaded': 783, 'yesterday': 6157, 'write': 6125, 'shyamveer': 5041, 'ola': 3880, 'bharatbandh': 817, 'shall': 4960, 'image': 2800, 'director': 1778, 'producer': 4288, 'shansha': 4966, 'banker': 719, 'overtime': 3955, 'guards': 2523, 'error': 2043, '00ae': 37, 'husband': 2762, 'cowards': 1461, 'ran': 4444, 'condole': 1341, 'openly': 3891, 'crazy': 1472, 'pratap': 4230, 'bhanu': 815, 'mehta': 3526, 'pbm': 4051, 'critique': 1501, 'adds': 354, 'discourse': 1794, 'featuring': 2207, 'perspective': 4088, 'sharma': 4974, 'exemptions': 2098, 'teaser': 5486, 'film': 2242, 'tips': 5583, 'restaurants': 4641, 'apology': 532, 'sight': 5046, 'secur': 4892, 'parallel': 3998, 'consuming': 1387, 'bodies': 899, 'earned': 1928, 'suggest': 5348, 'constructively': 1384, 'courtesy': 1455, 'railways': 4426, 'unaware': 5740, 'cuz': 1544, 'barbadi': 731, 'presstitutes': 4254, 'corr': 1429, 'pmo': 4158, 'arun': 582, 'jaitley': 3016, 'uber': 5727, 'cabs': 1026, 'odd': 3858, 'rescue': 4619, 'peoples': 4067, 'near': 3760, 'farmhouse': 2187, 'wake': 5966, 'lay': 3244, 'slowdow': 5102, 'scrounge': 4871, 'streets': 5302, 'search': 4874, 'yup': 6173, 'btw': 979, 'livestream': 3330, 'kraut': 3182, 'sargon': 4822, 'sake': 4795, 'fucking': 2359, 'calc': 1030, 'pattharbaj': 4040, 'siva': 5077, 'mundhe': 3702, 'oka': 3878, '2yrs': 198, 'vachanule': 5850, 'jagdish': 3010, 'bhagwati': 810, 'imagine': 2802, 'happen': 2585, 'jnuanti': 3055, 'activity': 335, 'oppos': 3910, 'heavy': 2639, 'cyrus': 1547, 'mistry': 3607, 'ratan': 4457, 'saga': 4792, 'outshined': 3946, 'delmayne': 1648, 'creators': 1479, 'attack': 622, 'supposedly': 5385, 'delay': 1636, 'replenishing': 4601, 'comment': 1284, 'panvel': 3990, 'agricultural': 419, 'body': 900, 'board': 896, 'gaubert': 2407, 'registers': 4544, 'cases': 1069, 'conducts': 1347, 'cartoon': 1066, 'collateral': 1266, 'dama': 1562, 'omegon': 3883, 'bing': 850, 'vis': 5917, 'correlation': 1435, 'imply': 2817, 'causation': 1087, 'budget': 983, 'existing': 2101, 'jokers': 3066, 'feeling': 2216, 'brow': 971, 'disturbed': 1821, 'fix': 2271, 'n33r4j': 3713, 'flats': 2279, 'picture': 4110, 'denial': 1682, 'onl': 3887, 'parliamentary': 4009, 'tackling': 5440, 'create': 1473, 'ruckus': 4759, 'meghna': 3525, 'objective': 3849, 'agarwall': 402, 'bohra': 901, 'community': 1305, 'welcome': 6028, 'serving': 4940, 'apply': 543, 'urban': 5821, 'vallagers': 5857, 'villagers': 5910, 'dnt': 1842, 'debit': 1599, 'spark': 5174, 'reliant': 4562, 'oppositio': 3916, 'tune': 5704, 'anis': 502, 'chakravarty': 1135, 'cure': 1530, 'naturally': 3745, 'born': 925, 'commie': 1290, 'retarded': 4656, 'brainless': 946, 'parasites': 4001, 'licen': 3293, 'enjoys': 2015, 'dutywill': 1920, 'defuse': 1633, 'investor': 2972, 'jim': 3047, 'rogers': 4727, 'exclusion': 2086, 'arrangements': 574, 'rural': 4774, 'savers': 4837, 'sunday': 5366, 'relax': 4555, 'modig': 3635, 'harming': 2603, 'popularity': 4193, 'reputation': 4612, 'directions': 1776, 'bent': 803, 'destruction': 1723, 'shree': 5031, 'toughest': 5621, 'succeeds': 5336, 'kirtibhairav': 3160, 'bigtime': 844, 'castes': 1076, 'yadavs': 6141, 'thomas': 5546, 'isaac': 2985, 'bluff': 892, 'strongest': 5314, 'zeeshan': 6176, 'ali': 449, 'patil': 4034, 'spoke': 5196, 'prashantnair': 4229, 'unbelievable': 5741, 'unity': 5775, 'developers': 1734, 'catering': 1084, 'primary': 4265, 'welcoming': 6030, 'rumors': 4767, 'veg': 5872, 'flag': 2275, 'bundles': 997, 'raddi': 4413, '1983': 148, 'rants': 4452, 'salaam': 4796, 'appreciated': 545, 'crippled': 1491, 'south': 5170, 'guj': 2534, 'raid': 4422, 'panama': 3980, 'aib': 424, 'circus': 1203, 'nbfcs': 3754, 'filling': 2240, 'void': 5935, 'replacement': 4598, 'spoken': 5197, 'initiating': 2905, 'exe': 2090, 'hpnes': 2736, 'ladies': 3205, 'mmbi': 3620, 'extend': 2129, 'fillingforms': 2241, 'mahul': 3411, 'brnch': 966, 'bringingsmilles': 964, 'bharat': 816, 'band': 710, 'woes': 6093, 'delusional': 1649, 'desi': 1710, 'enquires': 2017, 'opened': 3890, 'smartphone': 5112, 'genuine': 2423, 'fans': 2181, 'lpg': 3384, 'electrification': 1974, 'yemen': 6155, 'toilets': 5600, 'hackathon': 2558, 'bolder': 904, '9pm': 252, 'jacob': 3006, 'chadha': 1123, 'scathing': 4855, 'logical': 3347, 'articulate': 581, 'oppositions': 3918, 'reacting': 4475, 'detailed': 1725, 'interactions': 2944, 'unveils': 5802, 'iss': 2992, 'arrived': 579, 'euphoria': 2057, 'fad': 2157, 'dept': 1696, 'shiva': 5003, 'sena': 4915, 'nefarious': 3770, 'designs': 1714, 'nexus': 3787, 'flung': 2289, 'votes': 5946, 'concluded': 1335, 'adopters': 368, 'comm': 1283, 'rs5': 4749, 'calvin': 1038, 'hobbes': 2694, 'declare': 1612, 'dividend': 1829, 'amended': 479, 'accounts': 308, 'intelligentsia': 2939, 'order': 3928, 'brief': 958, 'lull': 3389, 'promising': 4310, 'evil': 2068, 'flush': 2290, 'depth': 1697, 'ans': 513, '25cf': 179, 'drgpradhan': 1888, 'minimathur': 3579, 'indiarising': 2865, 'circulating': 1201, 'letter': 3278, 'hasty': 2612, 'leading': 3253, 'agitation': 408, 'yogendrayadav': 6159, 'lucknow': 3387, 'traffic': 5635, 'congestion': 1360, 'swept': 5428, 'crowds': 1513, 'roads': 4718, 'arnab': 571, 'slams': 5086, 'pathological': 4031, '0088': 9, '00b0': 39, '0080': 2, 'announce': 506, 'sarthal': 4826, 'denominations': 1685, 'jumla': 3087, 'tamper': 5459, 'uneducated': 5758, 'blowing': 888, 'international': 2950, 'mouth': 3679, 'advert': 379, 'played': 4144, '24x7': 177, 'gypsy': 2555, 'customer': 1537, 'railway': 4425, 'housekeeping': 2731, 'sanitation': 4815, 'superior': 5370, 'bhoolo': 829, 'apki': 530, 'payer': 4045, 'paida': 3968, 'barbad': 730, 'kiya': 3164, 'advertising': 382, 'statistician': 5254, 'pronab': 4314, 'sen': 4914, 'humor': 2753, 'mafia': 3404, 'daughters': 1582, 'charging': 1159, 'fee': 2211, 'demonstration': 1678, 'didi': 1751, 'design': 1711, 'chachaji': 1121, 'abhi': 272, 'baarein': 668, 'allaap': 452, 'rahein': 4420, 'wolf': 6096, 'commentary': 1285, 'journalism': 3071, 'demonet': 1662, 'replaced': 4597, 'tone': 5607, 'downgrades': 1865, 'premise': 4243, 'correctly': 1434, 'karnataka': 3110, 'tamilnadu': 5458, 'appear': 536, 'topped': 5613, 'holding': 2698, 'respondents': 4636, 'tackle': 5439, 'star': 5239, 'rating': 4461, 'toi': 5598, 'dmonetisation': 1839, 'equipped': 2039, 'silent': 5053, 'circulation': 1202, 'heavily': 2638, 'whoa': 6046, 'boy': 936, 'flight': 2283, 'naxal': 3749, '70k': 240, 'airtel': 432, 'dth': 1906, 'painful': 3970, 'struck': 5317, 'core': 1426, 'emphasized': 1989, 'continuin': 1398, 'pity': 4126, 'generations': 2419, 'offtake': 3874, 'lowest': 3381, 'freeing': 2342, 'yoke': 6162, 'tales': 5451, 'woe': 6092, 'stories': 5292, 'bean': 762, 'style': 5327, 'smart': 5111, 'separate': 4924, 'maharashtra': 3409, 'employee': 1991, 'reach': 4470, 'consensus': 1370, 'pass': 4021, 'wro': 6130, 'jai': 3011, 'deducts': 1622, 'thousands': 5552, 'calm': 1037, '008b': 12, 'ultimate': 5734, 'weapon': 6014, 'deprive': 1695, 'material': 3487, 'memoir': 3530, 'text': 5520, 'equal': 2036, 'regional': 4542, 'accepted': 297, 'sentiment': 4922, 'deadline': 1589, 'nears': 3762, 'trillionstrillions': 5675, 'bra': 942, 'impressive': 2823, 'remain': 4572, 'yarmolukdan': 6146, 'awkward': 661, 'mistakes': 3606, 'selective': 4909, 'leaks': 3256, 'ruling': 4766, 'ankit': 503, 'lal': 3212, 'interaction': 2943, 'thread': 5555, 'professed': 4295, 'ram': 4440, 'probe': 4278, 'shariff': 4973, 'family': 2178, 'grabbed': 2487, 'significant': 5049, 'traction': 5631, 'communal': 1301, 'secular': 4891, 'jaunpur': 3028, '21n': 171, 'pending': 4062, 'corrective': 1433, 'stations': 5253, 'thei': 5531, 'exchanged': 2081, 'physical': 4105, 'jammu': 3020, 'indication': 2868, 'horses': 2720, 'bolted': 907, 'cuts': 1542, 'legal': 3265, 'twitch': 5719, 'tool': 5610, 'bot': 929, '3000': 199, 'vemula': 5875, 'dadri': 1551, 'surgicalstrike': 5398, 'fak': 2167, 'kajru': 3102, 'chasing': 1163, 'catch': 1081, 'wouldnt': 6121, 'lion': 3316, 'fishes': 2267, 'wealthhold': 6012, 'brainer': 945, 'leakage': 3255, 'managed': 3433, 'title': 5588, 'selling': 4913, 'guaranteed': 2522, 'escalation': 2044, 'replacing': 4599, 'graver': 2500, 'feeding': 2214, 'needy': 3768, 'various': 5865, 'gud': 2525, 'dmtn': 1841, 'wasted': 5995, 'bec': 769, 'shld': 5006, 'prtd': 4343, 'philly': 4099, 'mod': 3628, 'reviews': 4672, 'cute': 1540, 'suffer': 5342, 'executed': 2092, 'spike': 5191, 'forex': 2318, 'remittances': 4580, 'priority': 4271, 'throw': 5559, 'economists': 1949, 'shifting': 4992, 'arguments': 565, 'land': 3217, 'spared': 5173, 'serpentine': 4932, 'quizzer': 4400, 'ansrd': 515, 'quote': 4402, 'martyrs': 3475, 'sums': 5364, 'context': 1394, 'esp': 2047, 'ending': 2003, 'leaves': 3259, 'lasting': 3226, 'impression': 2822, 'surge': 5394, 'denomination': 1684, 'naxalites': 3750, 'surrendering': 5405, 'pallavighosh': 3977, 'suited': 5354, 'genocide': 2422, 'introduced': 2960, 'mug': 3693, 'ocean': 3855, '130': 133, 'neighbourhood': 3777, 'chemist': 1174, 'appreciates': 546, 'complicated': 1326, 'hdfc': 2623, 'quarterly': 4377, 'awaited': 655, 'giant': 2434, 'pvt': 4370, 'forgotten': 2321, 'crusader': 1520, 'clear': 1232, 'notwithstanding': 3828, 'bakth': 702, 'temporay': 5503, 'hurdles': 2759, 'stronghold': 5315, 'counsel': 1444, 'merits': 3541, 'dasshaktikanta': 1577, 'organisations': 3934, 'advised': 386, 'civi': 1211, 'gathered': 2405, 'virtually': 5915, 'zero': 6178, 'strong': 5313, 'steady': 5262, 'reported': 4606, 'crisil': 1492, 'upgradation': 5810, 'writers': 6126, 'wilson': 6064, 'roots': 4736, 'fine': 2253, 'recollect': 4507, 'befor': 772, 'aina': 428, 'vachindi': 5851, 'acts': 338, 'grocery': 2508, 'places': 4131, 'bigbazaar': 840, 'stollen': 5277, 'tricks': 5671, 'insurance': 2933, 'blink': 876, 'resort': 4627, 'cogress': 1255, 'khujli': 3143, 'sapra': 4816, 'jee': 3036, 'bolee': 906, 'ones': 3886, 'hardship': 2600, 'category': 1083, 'reserved': 4623, 'donation': 1849, 'management': 3434, 'quota': 4401, 'merit': 3540, 'ignoring': 2790, 'tender': 5505, 'lifest': 3300, 'sardarpatel': 4821, '1978': 147, 'morarjidesai': 3663, 'factor': 2152, 'gujjus': 2537, 'allow': 456, 'nris': 3836, 'deposit': 1691, 'nro': 3838, 'exch': 2079, 'eggs': 1962, 'retard': 4655, 'tropic': 5682, 'thunder': 5567, 'ref': 4525, 'gateway': 2403, 'npci': 3832, 'separatists': 4926, 'tertorists': 5518, 'mafias': 3405, 'isi': 2987, 'agents': 406, 'dalal': 1558, 'visited': 5925, 'intellectuals': 2937, 'believing': 787, 'teach': 5481, 'abcd': 268, 'schools': 4861, '0094': 20, 'priydarshan': 4273, 'jadhav': 3008, 'wth': 6134, 'freecharge': 2340, 'merchants': 3538, 'hosted': 2723, 'proposed': 4325, 'labs': 3199, 'refused': 4534, 'sent': 4921, 'ability': 276, 'txls': 5721, 'safe': 4788, '0ba8': 99, '0bc7': 108, '0bb1': 104, '0bcd': 110, '0bc1': 107, 'ngc': 3788, 'documentary': 1844, '0baa': 100, '0bbe': 106, '0bb0': 103, '0b95': 96, '0bb2': 105, '0bc8': 109, '0baf': 102, 'vehicles': 5874, 'rfid': 4680, 'facility': 2149, 'deduction': 1621, 'toll': 5604, 'plazas': 4148, 'disturbing': 1822, 'vested': 5890, 'noted': 3820, 'medi': 3513, 'pony': 4185, 'trumpesque': 5692, 'rema': 4571, 'experiencing': 2111, 'pos': 4197, 'boom': 919, 'dramatic': 1880, 'swapout': 5423, 'area': 561, 'disasters': 1785, 'mos': 3669, 'oil': 3876, 'kvp': 3192, 'institutionalized': 2930, 'nazar': 3752, 'battu': 753, 'dalveer': 1561, 'satbeer': 4827, 'lawful': 3240, 'transfers': 5647, 'risk': 4711, 'philosophy': 4101, 'robber': 4722, 'shameless': 4963, 'commenting': 1286, 'motivated': 3674, 'reasons': 4493, 'updated': 5807, 'vsl': 5950, '33no': 208, 'shoutout': 5024, 'snuff': 5130, 'independent': 2857, 'journalist': 3072, 'yall': 6142, 'eat': 1939, 'fat': 2193, 'dusted': 1915, 'anytime': 528, 'som': 5151, 'multi': 3697, 'indic': 2866, 'lingual': 3313, 'rationalise': 4464, 'taxes': 5475, 'patni': 4036, 'narad': 3727, 'moodi': 3658, 'stood': 5281, 'surveys': 5409, 'ave': 650, 'turns': 5711, 'blind': 875, 'eye': 2138, 'shocks': 5009, 'noblest': 3806, 'intentions': 2942, 'flipped': 2284, 'acknowledges': 325, 'ruin': 4760, 'site': 5073, 'suggestions': 5350, 'window': 6069, 'july': 3085, 'weddings': 6020, 'symptom': 5435, 'disease': 1801, 'partner': 4018, 'orgs': 3937, 'manage': 3432, 'pushing': 4366, 'sport': 5203, 'advers': 376, 'madness': 3403, 'subscribers': 5331, 'insights': 2919, 'false': 2175, 'stagnant': 5224, 'tanker': 5463, 'visits': 5926, 'lying': 3393, '811': 245, 'kotak': 3179, 'emerged': 1984, 'winner': 6071, 'successfully': 5339, 'worked': 6105, 'condition': 1340, 'ministers': 3581, 'lie': 3296, 'relevant': 4559, 'drug': 1899, 'deletion': 1638, 'millitant': 3570, 'areas': 562, 'nipfp': 3799, 'blogpost': 883, 'titled': 5589, 'pinaki': 4118, 'chakraborty': 1133, 'sizes': 5079, '34b': 209, '38d': 212, 'accommodate': 303, 'wonders': 6101, 'tour': 5622, 'charged': 1157, 'irony': 2979, 'jholachap': 3045, '100rs': 121, 'marketists': 3468, 'applauding': 539, 'condemning': 1339, 'beheading': 784, 'township': 5628, 'kesh': 3137, 'renders': 4589, 'waves': 6007, 'perfect': 4073, 'adapt': 345, 'changes': 1147, 'illiquid': 2797, '2000rs': 154, 'perishability': 4079, 'faraaz': 2184, 'committee': 1296, 'terms': 5510, 'arbitrary': 559, 'reporter': 4607, 'sva': 5418, 'micro': 3553, 'sum': 5358, 'compliance': 1324, 'cld': 1228, 'feasible': 2205, 'expenditure': 2108, 'pellet': 4054, 'guns': 2542, 'oppsn': 3919, 'stalling': 5227, 'stampedes': 5229, 'stampede': 5228, 'liars': 3288, 'tuesday': 5702, 'placed': 4130, 'garnered': 2400, 'intent': 2941, 'queuing': 4393, 'ironically': 2978, 'reform': 4531, 'modibharosa': 3634, 'courts': 1456, 'summarily': 5360, 'dismissed': 1804, 'pleas': 4149, 'jurisdiction': 3091, 'interfere': 2948, 'publi': 4346, 'recounts': 4513, 'pushed': 4365, 'traders': 5633, 'block': 878, 'purchase': 4358, 'sercice': 4928, 'cheater': 1169, 'maximum': 3495, 'fraudulent': 2338, 'manager': 3435, 'dowell': 1864, '2014': 161, '86k': 247, 'ambuj': 477, 'mahanti': 3408, 'jhihadi': 3044, 'thirdly': 5541, 'confirm': 1353, 'handle': 2577, 'didnt': 1752, 'praises': 4226, 'fraternity': 2336, 'pants': 3989, 'sitting': 5075, 'losing': 3370, 'credibility': 1481, 'biased': 835, 'seeding': 4899, 'negativity': 3773, 'kejrival': 3127, 'piyushgoyaloffc': 4127, 'auct': 635, 'delete': 1637, 'self': 4910, 'shashi': 4976, 'tharoor': 5528, 'loving': 3378, 'session': 4941, 'easier': 1935, 'downsize': 1869, 'bureaucratic': 1000, 'discretionary': 1796, 'powers': 4219, 'sneezes': 5129, 'dusting': 1916, 'emergency': 1985, 'states': 5251, 'toda': 5595, 'foul': 2330, 'ministry': 3582, 'kyu': 3195, 'drained': 1876, 'swamp': 5422, 'protests': 4331, 'fifth': 2232, 'column': 1273, 'mavens': 3493, 'realities': 4485, 'casual': 1077, 'chat': 1164, '091f': 62, 'meaning': 3506, 'aint': 429, 'baby': 679, 'inputs': 2913, 'divide': 1827, 'congruent': 1365, 'battered': 750, 'securitization': 4894, 'investments': 2971, 'dipankar': 1770, 'heads': 2629, 'record': 4509, 'cereal': 1113, 'crop': 1504, 'babies': 673, 'albaaurore': 445, 'france': 2333, 'sickerthings': 5043, 'bharuch': 820, 'city': 1210, 'fuss': 2371, 'shadow': 4952, 'monetized': 3646, 'content': 1392, 'givin': 2440, 'gettin': 2428, 'inv': 2962, 'dissidents': 1818, 'silenced': 5051, 'hedge': 2641, 'compared': 1310, 'treason': 5659, 'gonna': 2464, 'ncbn': 3755, 'knowledg': 3170, 'vcoward': 5870, 'cares': 1062, 'wrote': 6132, 'eliminate': 1976, 'periods': 4078, 'display': 1810, 'boards': 897, 'stated': 5248, 'objectives': 3850, 'unstated': 5799, 'winning': 6072, 'barter': 737, 'bhaven': 824, 'kachhi': 3099, 'familiarize': 2176, 'expenses': 2109, 'saved': 4836, 'past': 4026, 'mdr': 3504, 'properly': 4320, 'type': 5723, 'discission': 1788, 'formal': 2323, 'revolutionary': 4677, 'uniform': 5767, 'code': 1251, 'ndtv': 3759, 'impacts': 2810, 'liberal': 3289, 'jayamohan': 3033, 'reading': 4480, 'politician': 4175, 'mans': 3451, 'standard': 5232, 'offline': 3872, 'traceable': 5629, 'taxable': 5473, 'endorsement': 2006, 'waiver': 5965, 'accurate': 310, 'length': 3270, 'beard': 764, 'holds': 2699, 'entrance': 2026, 'rebounding': 4496, 'noticed': 3824, 'consequence': 1372, 'rubbish': 4757, 'messages': 3544, 'hailed': 2565, 'emplys': 1993, 'removal': 4583, 'staple': 5238, 'pins': 4120, 'scribbling': 4868, 'wee': 6021, 'weeding': 6022, 'nice': 3790, 'quoted': 4403, 'office': 3867, 'kyc': 3194, '093c': 83, 'proposal': 4324, 'platform': 4142, 'absolute': 285, 'output': 3944, 'dips': 1771, 'mainly': 3414, 'manufacturing': 3455, 'rajya': 4436, 'courtest': 1454, 'fitted': 2270, 'tags': 5443, 'hoardings': 2692, 'stuck': 5320, 'worthy': 6120, 'scoffing': 4863, 'hugely': 2747, 'dispensing': 1809, 'row': 4744, 'chudasama': 1196, 'charche': 1155, 'cha': 1120, 'che': 1165, 'kannada': 3106, 'movie': 3684, 'vajpayee': 5855, 'aaadhar': 253, 'expansion': 2103, 'aapko': 262, 'trp': 5686, 'chahiye': 1124, 'sponspored': 5201, 'shaktikanta': 4959, 'das': 1576, 'alumni': 468, 'guidelines': 2531, 'figure': 2235, 'kaala': 3098, 'pani': 3986, 'meant': 3508, 'bid': 837, 'recovering': 4516, 'amazon': 471, 'stealth': 5263, 'accelerant': 292, 'punch': 4353, 'wat': 5997, 'glance': 2445, 'tirupati': 5586, 'shirdi': 4996, 'vas': 5866, 'approximately': 553, 'inconvenienced': 2845, 'cautions': 1093, 'dep': 1687, 'install': 2925, 'spot': 5204, 'assessment': 604, 'union': 5770, 'transitions': 5651, 'snaking': 5125, 'arnd': 572, 'dec': 1603, 'updating': 5809, 'passed': 4022, 'factors': 2154, 'fro': 2351, 'waging': 5957, 'independen': 2856, 'bureaucrat': 999, 'playing': 4146, 'pokemon': 4165, 'asar': 587, 'dad': 1548, 'unprepared': 5788, 'fy18': 2378, 'fy19': 2379, 'china': 1184, 'congrats': 1361, 'urged': 5825, 'authorities': 644, 'universities': 5777, 'coll': 1264, 'paradise': 3996, 'admit': 367, 'counting': 1446, '1989': 150, 'kashmiri': 3115, 'anger': 499, 'deserve': 1706, '15th': 140, 'headlines': 2628, 'crossfire': 1510, 'neglected': 3774, 'moves': 3683, 'impulse': 2828, '008e': 15, 'preparing': 4248, 'competitiv': 1314, 'keeping': 3123, 'heated': 2637, 'exact': 2071, 'conflict': 1356, 'ideologies': 2783, 'yadav': 6140, 'saadi': 4780, 'valid': 5856, 'lesser': 3272, 'assume': 610, 'adequate': 355, 'architecture': 560, 'declaration': 1611, 'txns': 5722, 'billions': 848, 'mayhem': 3499, 'terrifying': 5512, 'textile': 5521, 'koyambedu': 3180, 'perishable': 4080, 'mkt': 3616, '0097': 21, 'legitimate': 3267, 'scamsters': 4852, 'shit': 4998, 'judging': 3081, '00a1': 29, 'vendors': 5877, 'kolkata': 3176, 'thi': 5535, 'rush': 4775, 'cashiers': 1072, 'weeping': 6026, 'unions': 5771, 'cctv': 1097, 'timepass': 5579, 'whaaat': 6035, 'messed': 3545, 'musicians': 3707, '00a4': 31, 'kashmiris': 3116, 'track': 5630, 'violent': 5913, 'grounds': 2510, 'annai': 505, 'silver': 5056, 'emptied': 1994, 'camps': 1041, 'ruined': 4761, 'miners': 3576, 'previously': 4259, 'james': 3018, 'mckenna': 3503, 'pioneer': 4121, 'hypocrisy': 2766, 'embarrassing': 1982, 'banerji': 715, 'plot': 4152, 'vnezuela': 5929, 'voluntary': 5936, 'incenti': 2832, 'batting': 751, 'enthusiasm': 2022, 'blogged': 881, 'buzzing': 1022, 'blogosphere': 882, 'conclude': 1334, 'sexist': 4951, 'guava': 2524, 'juice': 3084, 'bathe': 748, 'generators': 2420, 'rice': 4686, 'dhall': 1743, 'disorder': 1807, 'striyan': 5312, 'spurs': 5211, 'behaviour': 782, 'hoped': 2716, 'harsh': 2605, 'machines': 3398, 'typical': 5725, 'rajdeep': 4434, 'trafficking': 5636, 'biz': 861, 'broken': 967, 'achievements': 321, 'slogan': 5100, 'luck': 3386, 'isnt': 2991, 'grab': 2486, 'built': 989, 'slaps': 5088, 'morons': 3668, 'bark': 734, 'microcosm': 3554, 'hypotheses': 2767, 'sense': 4918, 'quit': 4398, 'granted': 2494, '090f': 57, 'actual': 339, 'incompetent': 2843, 'bunch': 996, 'unprofessional': 5789, 'opium': 3899, 'smoke': 5117, 'closer': 1241, 'glimps': 2447, 'helplessness': 2655, 'boss': 928, 'corru': 1436, 'akali': 439, 'dal': 1556, 'joining': 3063, 'continuing': 1399, 'coalition': 1247, 'digitization': 1765, 'den': 1681, 'argue': 563, 'vishwasghaat': 5921, 'breachoftrust': 950, 'dressed': 1885, 'garbs': 2397, 'defiant': 1629, 'administration': 362, 'unwilling': 5803, 'trial': 5666, 'miscalculation': 3592, 'tremendous': 5662, 'users': 5835, 'equation': 2037, 'urgently': 5827, 'calculations': 1031, 'futuristic': 2374, 'bonus': 912, 'invest': 2965, 'falls': 2174, 'steeply': 5266, 'aftermath': 397, 'merely': 3539, 'whr': 6050, 'soldiers': 5141, 'nationalism': 3738, 'lives': 3329, 'precious': 4235, 'reducing': 4523, 'ruled': 4764, 'ldf': 3246, 'hiding': 2663, 'satiate': 4831, 'sensible': 4920, 'eloquent': 1979, 'dreze': 1887, 'perception': 4072, 'ecotech': 1952, 'noida': 3807, 'completion': 1323, 'date': 1580, 'sme': 5114, 'thursday': 5569, 'silencing': 5052, 'starving': 5246, 'happens': 2589, 'ehh': 1963, 'students': 5322, 'condom': 1343, 'safesex': 4789, 'pareshan': 4004, 'rhe': 4682, 'bheem': 825, 'opportune': 3906, 'alt': 463, 'indy': 2884, 'washout': 5992, 'cudnt': 1524, 'spk': 5194, 'allw': 461, 'dspite': 1904, 'aski': 596, 'upindians': 5812, 'rights': 4703, 'laughing': 3233, 'shivered': 5004, 'bathing': 749, 'doubts': 1861, 'profound': 4299, 'clarity': 1222, 'iitian': 2793, 'irs': 2984, 'leadership': 3252, 'moral': 3660, 'vigilantism': 5906, 'attacks': 623, 'nuke': 3840, 'babaji': 671, 'phir': 4102, 'sinking': 5066, 'woh': 6094, 'hubby': 2744, 'bahu': 696, 'sumit': 5359, 'reduction': 4524, 'sole': 5142, 'pankaj': 3988, 'renjhen': 4591, 'retail': 4651, 'abou': 280, 'cisco': 1204, 'richs': 4692, 'hunger': 2755, 'contemplation': 1391, 'conclusion': 1336, 'monumental': 3655, 'highly': 2668, 'unlikely': 5781, 'reangs': 4490, 'attention': 631, 'potato': 4212, 'fools': 2306, 'break': 952, 'controversy': 1408, 'unsettling': 5797, 'opponents': 3904, 'indiafactsorg': 2862, 'busterz': 1015, 'jmu': 3053, 'yogiverma': 6161, 'anymore': 527, 'thn': 5544, 'leve': 3279, '70s': 242, 'remind': 4577, 'ratansharda': 4458, '55': 227, 'careful': 1061, 'recent': 4503, 'liabilities': 3286, 'super': 5368, 'gsampath': 2519, 'revealed': 4664, 'urgent': 5826, 'bowling': 934, 'squad': 5212, 'mlc': 3618, 'ramachandraiah': 4441, 'gullible': 2538, 'masses': 3481, 'electing': 1969, 'consequenti': 1374, 'advocate': 388, 'aslam': 599, 'basha': 743, '0099': 23, '00a7': 33, 'podcast': 4161, 'haa': 2556, 'litmus': 3325, 'performed': 4075, 'therby': 5534, 'watering': 6005, 'age': 403, 'restriction': 4645, 'dangerous': 1570, 'fai': 2158, 'dixit': 1834, 'pelleting': 4055, 'abdulla': 270, 'holder': 2696, 'ebert': 1941, 'statement': 5249, 'joke': 3065, 'honestly': 2711, 'complained': 1317, 'series': 4929, 'existent': 2100, 'coupled': 1450, 'tanking': 5464, 'thy': 5570, '17nov16': 142, 'mint': 3587, '15m': 139, 'reminder': 4578, 'complaints': 1319, 'criminal': 1488, 'racket': 4411, 'lobbyist': 3337, 'upcoming': 5805, 'linking': 3315, 'natural': 3744, 'indie': 2870, 'revenues': 4668, 'altogether': 466, 'mouthy': 3680, 'buddha': 981, 'zerch': 6177, 'leveraged': 3284, 'location': 3342, 'techn': 5488, 'beggers': 774, 'lakhpatis': 3210, 'wipe': 6074, 'ncml': 3756, 'addressed': 352, 'agencies': 404, '268': 183, 'collection': 1267, 'literate': 3323, 'functioning': 2365, 'booth': 922, 'capturing': 1055, 'cal': 1029, 'names': 3723, 'crorepatis': 1506, 'cracked': 1468, 'baat': 669, 'promised': 4309, 'voters': 5945, 'reliable': 4560, 'dailyhunt': 1554, 'strict': 5308, 'saviour': 4838, 'biometric': 852, 'ble': 874, 'information': 2899, 'aftershocks': 399, 'sunami': 5365, 'tkeyr': 5591, 'behaving': 781, 'sonia': 5158, 'knew': 3166, 'convinced': 1418, 'messiah': 3546, 'goo': 2465, 'ramesh': 4442, 'nair': 3720, 'coo': 1419, 'dir': 1772, 'jll': 3051, 'digitalization': 1764, 'coward': 1460, 'unethically': 5760, 'captioning': 1053, 'bearing': 765, 'sides': 5045, 'indusind': 2879, 'gandhiji': 2393, 'meets': 3522, 'handl': 2576, 'ke5hav': 3121, 'aadhe': 256, 'kehte': 3125, 'shridhar': 5033, 'language': 3219, 'assistance': 608, 'purely': 4361, 'taxation': 5474, 'targeting': 5467, 'criminals': 1489, 'impacted': 2809, 'sujata': 5356, 'gloated': 2448, 'crow': 1511, 'misreporting': 3600, 'busines': 1011, 'facets': 2145, 'sliding': 5096, 'flees': 2281, 'bse': 975, 'sensex': 4919, 'written': 6129, 'approach': 549, 'radicalization': 4414, 'option': 3924, 'eagerly': 1923, 'receive': 4501, 'achieve': 318, 'alluring': 460, 'chane': 1144, 'congratulations': 1362, 'civilisation': 1214, 'faces': 2144, 'certifying': 1118, 'proceedings': 4283, 'tv9': 5712, 'marathi': 3458, '009a': 24, 'recording': 4510, 'shied': 4990, 'brings': 965, 'entrepreneural': 2028, 'abilities': 275, 'fore': 2313, 'conservative': 1375, 'paypal': 4049, 'unproffesional': 5790, 'choice': 1188, '2change': 190, 'attitudes': 633, 'soup': 5167, 'properties': 4321, 'vent': 5879, 'cripple': 1490, 'heat': 2636, 'resist': 4626, 'classes': 1224, 'jefferey': 3037, 'tubers': 5701, 'div': 1823, 'vishvas': 5919, 'cries': 1486, 'looses': 3362, 'oci': 3856, 'passports': 4025, 'contribute': 1404, 'deskbhakt': 1716, 'hibernation': 2660, 'gps': 2484, 'enabled': 1996, 'gr8': 2485, 'incl': 2838, 'sms': 5121, 'ussd': 5840, 'requirements': 4617, 'nrly': 3837, 'author': 642, 'touches': 5619, 'angle': 500, 'damaged': 1564, 'financia': 2248, 'resource': 4628, 'oppurtunities': 3921, 'rolled': 4731, 'arjun': 566, 'megh': 3524, 'key': 3138, 'graphics': 2495, 'firse': 2263, 'query': 4382, 'grew': 2506, 'masterstroke': 3483, 'analogy': 491, 'termed': 5509, 'keralaalong': 3135, 'incentive': 2833, 'entrapm': 2027, 'balance': 703, 'opposite': 3915, 'spokesmen': 5198, 'buds': 985, 'considering': 1377, 'hue': 2745, 'aapians': 261, 'replied': 4602, 'deaf': 1590, 'representative': 4610, 'committal': 1294, 'waste': 5994, 'divided': 1828, 'religion': 4566, 'potentially': 4214, 'basis': 746, 'countries': 1447, 'bills': 849, 'baffled': 690, 'halts': 2571, 'luxury': 3392, 'proletariat': 4307, 'vendor': 5876, 'housewife': 2733, 'girl': 2437, 'shout': 5022, 'boyfriends': 940, 'boyfriend': 939, 'babe': 672, 'putra': 4367, 'brethren': 954, '009d': 27, 'ugly': 5731, 'dozens': 1870, 'pola': 4167, 'nagar': 3715, 'constituency': 1381, 'auctions': 637, 'maid': 3412, 'son': 5155, 'mins': 3586, 'stressful': 5307, 'fooling': 2303, 'greater': 2502, 'danger': 1569, 'marketeers': 3467, 'hail': 2564, 'mentioning': 3535, 'chai': 1125, 'iyer': 3003, 'nan': 3725, 'dini': 1769, 'slowest': 5104, 'doubled': 1859, 'simpl': 5058, 'conks': 1366, 'dishonest': 1803, 'demone': 1661, 'waise': 5959, 'misleading': 3597, 'sirisha': 5070, 'madam': 3401, 'chakravarthy': 1134, 'trrsts': 5687, 'ldrs': 3248, 'tch': 5478, 'offended': 3862, 'gosh': 2472, 'helm': 2649, 'wudve': 6136, 'raghuraj': 4418, 'bbc': 755, 'hoax': 2693, 'peace': 4052, 'credits': 1484, 'misadventure': 3590, 'shobha': 5007, 'remaining': 4573, 'illiterate': 2798, 'stray': 5299, 'unknown': 5779, 'neo': 3778, 'nationalist': 3739, 'chaddhi': 1122, 'investigated': 2967, 'versus': 5888, 'consent': 1371, 'performance': 4074, 'pointless': 4163, 'puts': 4368, 'poorest': 4189, 'grandson': 2493, 'monitor': 3651, 'referendum': 4526, 'accepting': 298, 'bear': 763, 'fruits': 2354, 'shd': 4982, 'tilting': 5577, 'journo': 3074, 'slashed': 5089, 'plane': 4135, 'crashes': 1471, 'mix': 3614, 'pravin': 4232, 'plain': 4132, 'shaken': 4957, 'unfortunate': 5764, 'organising': 3935, 'appears': 538, 'silently': 5054, 'removing': 4586, 'beacon': 761, 'culture': 1526, 'advantages': 375, 'risks': 4712, 'deserves': 1707, 'slap': 5087, 'projects': 4306, 'inaugurated': 2830, 'pradhan': 4224, 'sevak': 4948, 'bloody': 886, 'morena': 3664, 'tiraha': 5584, 'ambah': 473, 'hypothesis': 2768, 'opp': 3901, 'atlast': 615, 'rats': 4465, 'confronted': 1357, 'chartered': 1162, 'accountant': 307, '21k': 170, 'spell': 5186, 'jawans': 3031, 'humiliated': 2751, 'seasonal': 4878, 'bjpeee': 863, 'aftershock': 398, 'trapped': 5655, 'removed': 4585, '009b': 25, 'gem': 2413, 'raj': 4431, 'manta': 3452, 'documents': 1845, 'satisfaction': 4832, 'foremost': 2317, 'guideline': 2530, 'worthwhile': 6119, 'imposed': 2820, 'guarantee': 2521, 'legality': 3266, 'summit': 5363, 'george': 2425, 'bootlickers': 923, 'undesirables': 5752, 'exceed': 2076, 'commonest': 1299, 'centerofright': 1108, 'eludes': 1980, 'statutes': 5257, 'commitments': 1292, 'dynamics': 1922, '0090': 17, 'details': 1726, 'reward': 4678, 'bags': 693, 'cheated': 1168, 'willingly': 6063, 'owes': 3957, 'recd': 4499, 'ghost': 2432, 'returns': 4661, 'owns': 3960, 'opti': 3923, 'incurred': 2853, 'criticises': 1497, 'light': 3301, '406663': 215, '600': 234, 'flagged': 2276, 'defeated': 1626, 'njpw': 3802, 'copyright': 1425, 'battle': 752, 'gimme': 2436, 'vid': 5896, 'shame': 4962, 'targeted': 5466, 'advertisers': 381, 'yatra': 6147, 'bureaucrats': 1001, 'glaring': 2446, 'cohesive': 1257, 'lallu': 3214, 'settle': 4945, 'covering': 1458, 'stil': 5271, 'godrej': 2457, 'adi': 356, 'laced': 3201, 'technical': 5489, 'sjw': 5080, 'crowd': 1512, 'longer': 3355, 'shorter': 5019, 'chanda': 1141, 'kochar': 3174, 'icic': 2774, 'ashi': 588, 'nail': 3719, '0086': 7, 'cmnt': 1244, 'bhupendra': 832, 'choubay': 1192, 'met': 3547, 'banaras': 708, 'amethi': 482, 'raebareli': 4416, 'compilation': 1315, 'temper': 5499, 'ldr': 3247, 'suicides': 5353, 'favor': 2197, 'washerman': 5990, 'defeatist': 1627, 'zindabad': 6179, 'reflect': 4527, 'intended': 2940, 'underground': 5747, 'neighborhood': 3776, 'willing': 6062, 'russia': 4776, 'robbed': 4721, 'downloaded': 1867, 'mln': 3619, 'delight': 1645, 'influential': 2895, 'demonstrated': 1676, 'supermarkets': 5371, 'hyper': 2765, 'proactive': 4275, 'submitting': 5329, 'sheetreport': 4985, 'demonetiza': 1666, '5000': 222, 'phil': 4098, 'kekistani': 3131, 'adverts': 383, 'nri': 3835, 'bother': 930, 'continued': 1396, 'dra': 1871, 'punished': 4355, 'sins': 5067, 'slashes': 5090, 'bhattacharyab': 823, 'charter': 1161, 'demands': 1653, 'behalf': 779, 'spoiling': 5195, 'click': 1237, 'friday': 2345, 'sangh': 4811, 'exposing': 2123, 'earn': 1927, 'hemant': 2657, 'methods': 3549, 'bhopal': 830, 'demonitization': 1672, 'keeps': 3124, 'rising': 4710, 'release': 4556, 'judicial': 3082, 'paralysis': 4000, 'recap': 4498, 'kasta': 3117, 'ofpeople': 3875, 'wht': 6051, 'bread': 951, 'goi': 2460, 'suicidal': 5351, 'worsened': 6114, 'buys': 1021, 'mercenar': 3537, 'overlook': 3953, 'sec': 4881, 'wale': 5969, 'incredible': 2852, 'grt': 2518, 'pigeons': 4115, 'aircrafts': 430, 'heading': 2626, 'voolsy': 5938, 'passengers': 4023, 'relations': 4553, 'irrecoverable': 2981, 'promotional': 4313, 'colors': 1271, 'darkness': 1575, 'francis': 2334, 'bacon': 686, 'pancard': 3981, 'utiitsl': 5843, 'mths': 3691, 'bitcoin': 856, 'european': 2058, 'pirate': 4123, 'lens': 3271, 'duty': 1918, 'awaiting': 656, 'rises': 4709, 'sincerely': 5061, 'personal': 4085, 'gurugram': 2545, 'haryana': 2609, 'patients': 4033, 'hospitals': 2722, 'unemployment': 5759, 'budhha': 984, 'wnet': 6091, 'arms': 569, 'lobbying': 3336, 'altered': 464, 'bribe': 956, 'necessity': 3764, 'diwakar': 1831, 'knob': 3167, 'interview': 2954, 'doordarshan': 1854, 'youth': 6166, 'restored': 4642, 'govern': 2476, 'afspa': 396, 'happnd': 2591, 'jha': 3043, 'dogs': 1847, 'barking': 735, 'padhna': 3965, 'aata': 264, 'padh': 3964, 'samjh': 4805, 'rely': 4568, 'private': 4272, 'psephologists': 4344, 'vouch': 5948, 'sale': 4799, 'posi': 4200, 'ipl': 2977, 'gvrnmts': 2552, 'verdic': 5881, 'taxmen': 5477, 'wer': 6032, 'vitamins': 5927, 'flexible': 2282, 'aliens': 450, 'unpopular': 5785, 'rooting': 4735, '30min': 202, 'trained': 5641, 'operate': 3893, 'mchns': 3502, 'bfore': 809, 'bsiii': 976, '5lakh': 232, 'releases': 4558, 'naveen': 3747, 'patnaik': 4035, 'naidu': 3718, 'interviewed': 2955, 'tragically': 5639, 'hyped': 2764, 'jaipur': 3015, 'literature': 3324, 'festival': 2225, 'rajinikanth': 4435, '18': 143, 'reilly': 4547, 'soros': 5162, 'dml': 1838, 'episode': 2032, 'par': 3994, 'field': 2230, 'boost': 921, 'integrated': 2935, 'terro': 5513, 'regular': 4546, 'viewers': 5904, 'ioc': 2975, 'hinterland': 2676, 'ashish': 589, 'chanchlani': 1140, 'vines': 5912, 'funny': 2369, 'sulk': 5357, 'uncertainty': 5743, 'prepared': 4247, 'amusing': 490, 'opted': 3922, 'gyaan': 2553, 'affects': 393, 'tnp': 5593, 'syria': 5436, 'exposure': 2124, 'islam': 2989, 'smt': 5122, 'touch': 5618, 'exporters': 2119, 'attended': 629, 'asia': 590, 'wholesale': 6047, 'azadpur': 663, 'mandi': 3439, 'standstill': 5236, 'bullets': 991, 'pellets': 4056, 'rallies': 4438, 'direct': 1774, 'colln': 1270, 'upto': 5820, 'hinduism': 2675, 'ups': 5818, 'pongjei': 4184, 'evade': 2059, 'dude': 1907, 'actively': 333, 'grassroots': 2497, 'volunteer': 5937, 'forward': 2328, 'sane': 4810, 'joes': 3060, 'rigging': 4700, 'sta': 5218, 'womaninattic': 6097, 'ajitdoval': 437, 'region': 4541, 'ri8': 4685, 'soft': 5137, 'achievement': 320, 'dsnt': 1903, 'difference': 1757, 'shitting': 5000, 'smile': 5115, 'withdrawing': 6084, 'mumataz': 3699, 'begum': 777, 'mani': 3445, 'aiyar': 434, 'executive': 2094, 'winding': 6068, 'decrease': 1618, 'numerous': 3844, 'demonize': 1674, 'emphasize': 1988, 'guha': 2527, 'discarded': 1786, 'east': 1937, 'hindsight': 2673, 'prepaid': 4245, 'b2b': 664, 'b2c': 665, 'isb': 2986, 'profs': 4300, 'ponder': 4183, '0905': 55, 'brilliant': 961, 'esme': 2046, 'holiday': 2701, 'kinda': 3156, 'chronological': 1195, 'jontron': 3068, 'yooka': 6163, 'laylee': 3245, 'plights': 4151, 'jitne': 3050, 'takat': 5446, 'rok': 4728, 'lag': 3207, 'rhi': 4684, 'itni': 3001, 'dte': 1905, 'hota': 2725, 'rhetoric': 4683, 'lacked': 3203, 'substance': 5332, 'practical': 4222, 'tweeter': 5715, 'middle': 3556, 'unfairness': 5762, 'rightness': 4702, 'magazine': 3406, 'quality': 4375, 'voicing': 5934, 'megaupload': 3523, 'bitcache': 855, 'kim': 3154, 'dotcom': 1857, 'storm': 5293, 'dragged': 1874, 'wil': 6060, 'choas': 1187, 'suspend': 5416, 'servic': 4936, 'heck': 2640, 'smooth': 5118, 'rock': 4725, 'boat': 898, 'rollercoaster': 4732, 'values': 5861, 'fashioned': 2190, '00b6': 44, '0098': 22, 'rip': 4706, 'jobless': 3057, 'mshra': 3690, 'abolished': 279, 'banning': 729, 'wher': 6041, 'atom': 620, 'nitwits': 3801, 'itzcash': 3002, 'akumars': 443, 'tail': 5444, 'baba': 670, 'dev': 1731, 'hora': 2719, 'duri': 1912, 'prepare': 4246, 'jaw': 3030, 'dropping': 1897, 'upmanship': 5814, 'capable': 1046, 'intelligent': 2938, 'benchmark': 792, 'failures': 2164, 'vijayshekhar': 5909, 'gas': 2401, 'thunderf': 5568, '00t': 53, 'parody': 4011, 'actuality': 340, 'surgery': 5395, 'lung': 3390, 'shiv': 5002, 'ravindra': 4467, 'gailwad': 2385, 'maintaini': 3415, 'mitron': 3613, 'raining': 4427, 'achhe': 317, 'brighter': 960, 'drying': 1901, 'gabbar': 2381, 'downloads': 1868, '250': 178, 'sets': 4944, 'firm': 2262, 'viewed': 5902, 'bubble': 980, 'trumpcard': 5691, 'assure': 612, 'sacrifice': 4785, 'vain': 5854, 'agra': 412, 'uttar': 5847, 'pradesh': 4223, 'hypothetical': 2769, 'adjust': 360, 'goons': 2470, 'spending': 5188, 'officers': 3869, 'harrassment': 2604, 'generation': 2418, 'borrowers': 926, 'repay': 4594, 'kirana': 3159, 'recovery': 4517, 'suppliers': 5373, 'bookings': 917, '31st': 205, 'boldly': 905, 'doormats': 1855, 'behave': 780, 'jail': 3013, 'lalit': 3213, 'joshi': 3070, 'babudom': 676, 'transforming': 5649, 'sams': 4807, 'abby': 267, 'listed': 3320, 'antilia': 524, 'wealth': 6011, 'appreciation': 548, 'svaneksmith': 5419, 'npr': 3833, 'org': 3932, 'encourage': 1999, 'motivate': 3673, 'inefficient': 2887, 'ineffective': 2885, 'infrastructure': 2902, 'oct': 3857, 'panel': 3984, 'janata': 3024, 'durbar': 1911, 'insult': 2932, 'device': 1739, 'offcrs': 3861, 'confed': 1348, 'morally': 3662, 'plaint': 4133, 'booked': 915, 'tdr': 5479, 'adjourns': 359, 'noon': 3811, 'sagarika': 4793, 'converting': 1416, 'excuse': 2089, 'curse': 1534, 'hide': 2662, 'weak': 6010, 'morale': 3661, 'strengths': 5305, 'adam': 343, 'smith': 5116, 'tempering': 5500, 'scal': 4848, 'gunned': 2541, 'assam': 600, 'tribe': 5669, 'geographic': 2424, 'thinking': 5539, 'restricted': 4644, 'rem': 4570, 'reasn': 4491, 'usin': 5837, 'marching': 3461, 'detained': 1727, 'stephen': 5269, '120crore': 130, 'dirty': 1779, 'threats': 5556, 'blackmailing': 867, '2020': 166, 'acceptance': 296, 'failuirs': 2162, 'seat': 4879, 'tube': 5700, 'pre': 4234, 'earners': 1930, 'proving': 4338, 'bout': 933, 'skeptical': 5082, 'hastag': 2611, 'managers': 3436, 'uco': 5729, 'enlighten': 2016, 'examples': 2075, 'relat': 4550, 'benifitted': 802, 'grade': 2490, '4th': 220, 'costs': 1442, '5600': 229, 'kala': 3103, 'bahar': 695, 'lane': 3218, 'muhim': 3695, 'ham': 2572, 'sath': 4828, 'khade': 3139, 'microfinance': 3555, 'arm': 567, '7kcr': 243, 'diff': 1756, 'bomb': 908, 'satisfying': 4833, 'punish': 4354, 'shady': 4953, 'fortunes': 2327, 'revenge': 4666, 'lolzz': 3352, 'somersaults': 5153, 'hassle': 2610, 'insta': 2924, 'nasal': 3732, 'allergy': 455, 'ids': 2785, 'unacceptable': 5737, 'bombay': 909, 'dismisses': 1805, 'writ': 6124, 'postponed': 4210, 'initiated': 2904, 'sanctions': 4808, 'district': 1820, '8306308308': 246, '1984': 149, '2002': 155, '2dy': 193, 'classmate': 1227, 'krare': 3181, '100khrch': 120, 'diye': 1835, 'pkka': 4128, 'dost': 1856, 'ante': 520, 'convention': 1411, '33000': 207, 'thousand': 5551, 'arundhati': 583, 'bhattacharya': 822, 'staying': 5259, 'pils': 4117, 'shaping': 4968, 'advantageously': 374, 'disruptive': 1816, 'challenge': 1136, '30nov': 203, 'concerns': 1333, 'shrinking': 5034, 'ensure': 2018, 'reaches': 4472, 'earliest': 1925, 'hands': 2581, 'warriors': 5987, 'mvenkaiahnaidu': 3711, 'rad': 4412, 'anticipated': 522, 'incited': 2837, 'destabilize': 1721, 'ballot': 706, 'ill': 2795, 'petitioner': 4093, 'alleged': 454, 'locker': 3344, 'ithink': 2999, 'raise': 4428, 'justified': 3094, 'trnxs': 5681, 'futile': 2372, 'established': 2051, 'jews': 3041, 'indictment': 2869, 'wiemar': 6058, 'germany': 2426, 'ww1': 6137, 'ww2': 6138, 'jewish': 3040, 'homeland': 2706, 'sathish': 4830, 'saffron': 4791, 'propoganda': 4323, 'heady': 2630, 'happ': 2584, 'fell': 2220, 'slightly': 5097, 'potential': 4213, 'janta': 3025, 'intervening': 2953, '5forty3': 230, 'draconian': 1872, 'drew': 1886, 'vaults': 5868, 'derail': 1701, 'solo': 5146, 'asshole': 606, 'agreed': 414, 'pace': 3962, 'braindead': 944, 'proclamations': 4286, 'shashitharoor': 4977, 'keralite': 3136, 'dancers': 1567, 'secretariat': 4885, 'unique': 5772, 'danceteacher': 1568, 'kukdi': 3188, 'stds': 5261, 'malign': 3423, 'implementing': 2815, 'decreased': 1619, 'unrecovered': 5793, 'minit': 3583, 'knees': 3165, 'tired': 5585, 'queueing': 4391, 'motion': 3672, 'kidding': 3147, 'mars': 3473, 'telugu': 5498, 'fantastic': 2182, 'chairwoman': 1130, 'realestate': 4483, 'yardstick': 6145, 'conclusive': 1337, 'bliss': 877, 'harvest': 2608, 'cereals': 1114, 'rob': 4720, 'vet': 5891, 'scams': 4851, 'cashback': 1071, 'plus': 4154, 'episodes': 2033, 'coalgate': 1246, 'spectrum': 5183, 'commonwealth': 1300, 'rofl': 4726, 'heft': 2643, 'sorely': 5161, 'debates': 1598, 'cud': 1523, 'finest': 2254, 'cruel': 1515, 'empathize': 1986, 'financially': 2250, 'huh': 2748, 'haha': 2561, '2evm': 194, 'sweing': 5427, '2rapist': 196, 'dey': 1742, 'becoz': 770, 'engineer': 2009, '9334': 250, 'ache': 314, 'sep': 4923, '2018': 164, 'timing': 5581, 'rtgs': 4755, 'extended': 2130, 'issey': 2993, 'jale': 3017, 'namak': 3721, 'chidakna': 1179, 'thanking': 5526, 'canceled': 1043, 'perks': 4081, 'produced': 4287, 'desired': 1715, 'rslts': 4752, 'tough': 5620, 'standards': 5233, 'christmas': 1194, 'haunting': 2618, 'likes': 3306, 'appreciating': 547, '4bjp': 217, 'submitted': 5328, 'napping': 3726, 'thise': 5542, 'sheer': 4984, 'opportunists': 3907, 'bhaichung': 812, 'bhutia': 834, 'trinamul': 5677, 'stages': 5223, 'stellar': 5267, 'mexico': 3550, 'comeback': 1277, 'kids': 3149, 'tripurainfoway': 5680, 'portal': 4195, 'sushil': 5412, 'pandit': 3982, 'fitch': 2269, 'profiles': 4297, 'lobbyi': 3335, '6000': 235, 'figures': 2236, 'vces': 5869, 'maanve': 3396, 'incase': 2831, 'isnide': 2990, 'shekhar': 4986, 'kuch': 3186, 'baad': 666, 'lgna': 3285, 'seekh': 4903, 'gye': 2554, 'penalties': 4060, 'lapd': 3220, 'diwali': 1832, 'gift': 2435, 'duties': 1917, 'boycotting': 938, 'leveler': 3281, 'mushroomed': 3706, 'wealthy': 6013, '6990': 238, 'medicines': 3516, 'proclaimed': 4285, 'keeper': 3122, 'alerted': 447, '140': 136, 'sirjee': 5071, 'cheap': 1166, 'wished': 6078, 'militancy': 3561, 'stoped': 5284, 'noti': 3822, 'amar': 469, 'glads': 2444, 'candid': 1045, 'admission': 365, 'falling': 2172, '10am': 123, 'dawn': 1584, 'motorbike': 3677, 'servicing': 4939, 'electoral': 1972, 'earning': 1931, '40lakhs': 216, '70l': 241, 'denies': 1683, 'channelisation': 1150, 'bareilly': 733, 'ofc': 3860, 'qstn': 4372, 'adsensegate': 371, 'stack': 5220, 'chesthe': 1177, 'ichukunnattu': 2773, 'revision': 4673, 'sister': 5072, 'acute': 342, 'tumbling': 5703, 'sos': 5165, 'kaisi': 3101, 'inflicted': 2892, 'gratitude': 2499, 'dismissive': 1806, 'dark': 1574, 'vadera': 5852, 'harshilnayak': 2606, '10days': 124, 'whiners': 6043, 'tries': 5673, 'obfuscate': 3848, 'rustic': 4777, 'charm': 1160, 'roundup': 4740, 'masti': 3484, 'mazaak': 3500, 'dharnas': 1746, 'sessions': 4942, 'reaching': 4473, 'hospital': 2721, 'wards': 5981, 'facilitate': 2147, 'sarithaar': 4823, 'consistently': 1379, 'voiced': 5932, 'crossborderterrorism': 1508, 'concrete': 1338, 'wields': 6057, 'influence': 2894, '10rupee': 126, 'coins': 1261, 'expecting': 2106, 'respite': 4634, 'park': 4005, 'yea': 6149, 'standupcentral': 5237, 'known': 3172, 'indicates': 2867, 'favourable': 2200, 'rts': 4756, 'grateful': 2498, 'restraint': 4643, 'omen': 3884, 'cruising': 1516, 'slum': 5108, 'furthermore': 2370, 'fixing': 2273, 'regardless': 4540, 'paralysed': 3999, 'bankit': 722, 'ourse': 3942, 'mangers': 3443, 'handmade': 2580, 'meena': 3518, 'kumari': 3190, 'tragedy': 5637, 'queen': 4380, 'lasts': 3227, 'rickshaws': 4693, 'walking': 5972, 'snacking': 5123, 'achieving': 322, 'attached': 621, 'jumbo': 3086, 'ties': 5574, 'underworld': 5751, 'speed': 5185, '11383583': 127, 'tinku': 5582, '14': 135, 'dramas': 1879, 'lab': 3196, 'tables': 5438, 'snake': 5124, 'surve': 5406, 'poore': 4188, 'ghar': 2431, 'bache': 681, 'bhul': 831, 'chakkar': 1132, 'lagao': 3208, 'raat': 4406, 'pyc': 4371, 'hav': 2619, 'arnt': 573, 'swami': 5421, 'mnths': 3622, '12th': 132, 'seizure': 4908, 'yards': 6144, 'indo': 2877, 'bangla': 717, 'coherent': 1256, 'cogent': 1254, 'communication': 1302, 'tours': 5625, 'repealing': 4596, 'laws': 3241, 'conducive': 1345, 'atmosphere': 618, 'fdis': 2202, 'arrests': 578, 'stockpiling': 5274, 'important': 2818, 'skill': 5084, 'fron': 2352, 'unecessary': 5756, 'unimaginable': 5769, 'lecturing': 3261, 'verb': 5880, 'desparate': 1717, 'attampt': 625, 'seperatists': 4927, 'happend': 2586, 'democrat': 1658, 'emphasizes': 1990, 'seek': 4902, 'unscrupulous': 5796, 'showcase': 5025, '500rupee': 223, 'greatgameindia': 2504, 'jun': 3089, 'preferences': 4240, 'criticized': 1499, 'penetration': 4063, 'blows': 890, 'karma': 3108, 'attributed': 634, 'celebs': 1101, 'demonising': 1671, 'decipher': 1608, 'larger': 3223, 'chaiwala': 1131, 'chidu': 1180, 'chi': 1178, 'hounds': 2727, 'unrated': 5791, 'pounds': 4216, 'unsound': 5798, 'conversion': 1413, 'generating': 2417, 'advise': 385, 'aimed': 426, 'fla': 2274, 'compete': 1311, 'audience': 638, 'posed': 4198, 'ruining': 4762, 'atheist': 614, 'religious': 4567, 'pushback': 4364, 'bullshits': 993, 'spokesperson': 5199, 'jpc': 3076, 'stripping': 5311, 'unit': 5773, 'gujarati': 2536, 'deputy': 1699, 'leads': 3254, 'natio': 3735, 'sketched': 5083, 'essay': 2049, 'attenuated': 632, 'hoard': 2689, 'unfortunately': 5765, 'pessimists': 4090, 'insider': 2918, 'fallen': 2171, 'trap': 5654, 'affairs': 389, 'secretary': 4886, 'famous': 2179, 'announcing': 510, 'hire': 2678, 'insisted': 2921, 'rent': 4592, 'vessels': 5889, 'dare': 1572, 'indirect': 2873, 'financ': 2245, 'bhiwandi': 828, 'popular': 4192, 'indira': 2872, 'nationalization': 3741, 'confiscation': 1355, 'impede': 2811, 'lesson': 3273, 'patriot': 4038, 'hearted': 2635, 'someth': 5154, 'showed': 5026, 'condolences': 1342, 'loved': 3376, 'bcz': 760, 'extending': 2131, 'supprt': 5387, 'agnst': 409, 'myths': 3712, 'busted': 1014, 'taxguru': 5476, 'freedom': 2341, 'constitution': 1382, 'cops': 1424, 'forcing': 2312, 'guided': 2529, 'cancelled': 1044, 'ncpa': 3757, 'oppor': 3905, 'retailers': 4652, 'starting': 5242, 'military': 3563, 'bases': 742, 'diamond': 1748, 'assisi': 607, 'confession': 1350, 'loksabha': 3349, 'gained': 2387, 'searching': 4876, 'allstartupsin': 459, 'localcircles': 3340, 'rsardana': 4751, 'sangwan': 4814, 'suj': 5355, 'nageswaran': 3716, 'natarajan': 3734, 'provocatively': 4340, 'limited': 3308, 'projections': 4305, 'incorrect': 2847, 'amidst': 484, 'blogs': 884, 'concept': 1330, 'inked': 2909, 'gaganagrawal': 2384, 'rachitsharma': 4408, 'rapaport': 4454, 'competing': 1312, 'shortly': 5020, 'gulshan': 2539, 'officer': 3868, 'billionaires': 847, 'pump': 4350, 'captions': 1054, 'admin': 361, 'version': 5887, 'rantsofindia': 4453, 'inefficiency': 2886, 'handling': 2579, 'nehru': 3775, 'council': 1443, 'consecutively': 1369, 'breached': 949, 'loc': 3338, 'char': 1154, 'vyap': 5952, 'infographic': 2897, 'tat': 5469, 'addr': 350, 'demystifying': 1680, 'dents': 1686, 'clever': 1236, 'gadgets': 2382, 'snaps': 5127, 'tissue': 5587, 'papers': 3992, 'babubeg': 675, 'undoubtedly': 5753, 'hardest': 2597, 'communications': 1303, 'decency': 1605, 'amend': 478, 'section': 4888, '230': 173, 'immunity': 2806, 'lawsuits': 3242, 'wish': 6077, '23x': 174, 'wind': 6066, 'loser': 3368, 'excise': 2083, 'pics': 4109, 'pple': 4221, 'diversify': 1824, 'nil': 3796, 'gaye': 2410, 'achee': 315, 'corporate': 1427, 'goods': 2467, 'picking': 4108, 'straight': 5295, 'sacrificing': 4786, 'cleanse': 1231, 'ratio': 4462, 'demoralized': 1679, 'supp': 5372, 'shikohabad': 4993, '00716': 1, '162': 141, 'boo': 913, 'bend': 793, 'stupidity': 5326, 'sathe': 4829, 'wishy': 6079, 'washy': 5993, 'stance': 5230, 'jumps': 3088, 'swinging': 5431, 'ext': 2128, 'blackmon': 868, 'hajare': 2568, 'spreads': 5210, 'complementing': 1320, 'mandir': 3440, 'teachings': 5483, 'pmi': 4156, 'improved': 2825, 'nmapp': 3804, 'sricharan': 5216, 'planet': 4136, 'stops': 5288, 'mandatory': 3438, 'feelings': 2217, 'glad': 2442, 'independents': 2858, 'automatically': 646, 'ifttt': 2786, 'elite': 1977, 'homes': 2707, 'fxwirepro': 2375, 'fiscal': 2264, 'stabilize': 5219, 'inr': 2914, 'hedging': 2642, 'ganged': 2395, 'pissing': 4125, 'warm': 5982, 'forbes': 2309, '0ba4': 98, '0bae': 101, '0b9a': 97, 'humiliation': 2752, 'oppns': 3903, 'pillar': 4116, 'imanization': 2803, 'notebadi': 3818, 'bharatbandi': 818, 'tak': 5445, 'swarajindia': 5424, 'seriousness': 4931, 'sham': 4961, 'int': 2934, 'stoppe': 5285, 'blues': 891, 'democide': 1656, 'committed': 1295, 'marks': 3470, 'jugaad': 3083, 'urdu': 5822, 'sleep': 5092, 'sonce': 5156, 'blown': 889, 'nut': 3845, 'kasaragode': 3113, 'accent': 293, 'getup': 2430, 'raghuram': 4419, 'rajan': 4432, 'handled': 2578, 'housewives': 2734, 'shivpal': 5005, 'reply': 4604, 'declaring': 1614, 'devise': 1740, 'mitigate': 3611, 'widows': 6056, 'socializing': 5134, 'diversionary': 1825, 'tactic': 5442, 'celsius': 1102, 'admire': 364, 'discipline': 1787, 'complaint': 1318, 'loyal': 3383, 'dhoni': 1747, 'haters': 2614, 'abusive': 290, 'remonetization': 4581, 'deforestation': 1632, 'reforestation': 4530, 'kripa': 3183, 'haanji': 2557, 'consular': 1385, 'jadha': 3007, 'headed': 2625, 'enterprises': 2020, 'generated': 2416, 'catalyst': 1078, 'jihadi': 3046, 'lapdog': 3221, 'insane': 2916, '00af': 38, 'mongering': 3648, 'preposterous': 4249, 'nullify': 3841, 'voting': 5947, 'tend': 5504, 'corrected': 1431, '2005': 156, '2wait': 197, 'particularly': 4015, 'heights': 2644, 'fudging': 2360, 'algo': 448, 'moderating': 3632, 'paradigm': 3995, 'resemble': 4621, 'dow': 1863, 'adjourned': 358, 'pacific': 3963, 'launching': 3237, 'disconnect': 1790, 'renewed': 4590, 'overdone': 3951, 'madarsa': 3402, 'kills': 3153, 'mismanagement': 3599, 'ander': 497, 'rha': 4681, 'uska': 5839, 'bcame': 757, 'exclusively': 2088, 'dalit': 1560, 'der': 1700, 'relying': 4569, 'uppercaste': 5816, 'muslims': 3709, 'named': 3722, 'cauth': 1091, 'transact': 5643, 'specifically': 5181, 'sites': 5074, 'dadari': 1549, '391': 213, 'queries': 4381, '0083': 5, 'zeenewssports': 6175, 'harbhajan': 2595, 'shortsighted': 5021, 'abandon': 266, 'cooperatio': 1421, 'fooled': 2302, 'multiple': 3698, 'gateways': 2404, 'cancel': 1042, 'rental': 4593, 'backing': 684, 'fy17': 2377, 'recover': 4514, 'baruah': 738, 'expedit': 2107, 'gamechanging': 2390, 'dah': 1552, 'clears': 1235, 'hurdle': 2758, 'enables': 1997, 'yawn': 6148, '0922': 65, 'lied': 3297, 'equivalent': 2040, 'korea': 3178, 'fascinating': 2189, 'hekdi': 2645, 'player': 4145, 'dictatorship': 1750, 'captains': 1051, 'bst': 978, 'mony': 3656, 'airtelindia': 433, 'crooks': 1503, 'arvi': 584, 'entirely': 2024, 'additonal': 349, 'kutty': 3191, 'khandu': 3142, 'confirms': 1354, 'encouraged': 2000, 'aiming': 427, 'hillary': 2671, 'monetize': 3645, 'bigg': 841, 'relieved': 4565, 'certainty': 1117, 'shell': 4987, 'comp': 1307, 'khandal': 3141, 'switched': 5434, '1905': 145, 'approve': 551, 'indelible': 2855, 'ink': 2908, 'carry': 1064, 'southern': 5171, 'van': 5862, 'robbery': 4724, 'bengaluru': 801, 'miserably': 3593, 'icze': 2777, '4r': 219, 'technically': 5490, 'unmonetized': 5782, 'finishes': 2258, 'nautanki': 3746, 'finish': 2256, 'analyzing': 495, 'accompanied': 304, 'liberalisation': 3290, 'mayb': 3497, 'contri': 1403, 'refuse': 4533, 'stranded': 5296, 'confident': 1352, 'cheaper': 1167, 'deter': 1729, 'grabbers': 2488, 'munnar': 3703, 'wld': 6090, '2010': 159, 'leaving': 3260, 'wages': 5956, 'demonization': 1673, 'route': 4741, 'shudn': 5038, 'psychopath': 4345, 'eci': 1943, 'fy16': 2376, 'lst': 3385, 'digvijaya': 1766, 'menace': 3532, 'fence': 2223, '0920': 63, '093f': 85, 'sharad': 4969, 'types': 5724, 'bae': 689, 'connect': 1367, 'clocks': 1239, 'buisness': 990, 'cutest': 1541, 'youtubeocalypse': 6169, 'sheltere': 4988, 'benami': 790, 'prop': 4316, 'broking': 968, 'partisan': 4017, 'combating': 1275, 'unilateral': 5768, 'miscalculate': 3591, 'policies': 4170, 'peacefully': 4053, 'watc': 5998}\n"
     ]
    }
   ],
   "source": [
    "count_vectorizer=CountVectorizer(stop_words='english')\n",
    "count_train=count_vectorizer.fit_transform(x_train)\n",
    "count_test=count_vectorizer.transform(x_test)\n",
    "print(count_vectorizer.vocabulary_)"
   ]
  },
  {
   "cell_type": "code",
   "execution_count": 404,
   "metadata": {},
   "outputs": [
    {
     "name": "stdout",
     "output_type": "stream",
     "text": [
      "['ysrcp', 'yup', 'zadaniambani', 'zeenewssports', 'zeeshan', 'zerch', 'zero', 'zindabad', 'zindagi', 'zone']\n",
      "['000', '00716', '0080', '0081', '0082', '0083', '0084', '0086', '0087', '0088']\n",
      "CountVectorizer(analyzer='word', binary=False, decode_error='strict',\n",
      "        dtype=<class 'numpy.int64'>, encoding='utf-8', input='content',\n",
      "        lowercase=True, max_df=1.0, max_features=None, min_df=1,\n",
      "        ngram_range=(1, 1), preprocessor=None, stop_words='english',\n",
      "        strip_accents=None, token_pattern='(?u)\\\\b\\\\w\\\\w+\\\\b',\n",
      "        tokenizer=None, vocabulary=None)\n"
     ]
    }
   ],
   "source": [
    "Tfd = TfidfVectorizer(stop_words=\"english\",max_df=0.7)\n",
    "Tfd_train=Tfd.fit_transform(x_train)\n",
    "Tfd_test=Tfd.transform(x_test)\n",
    "# Get the feature names of `tfidf_vectorizer` \n",
    "print(Tfd.get_feature_names()[-10:])\n",
    "\n",
    "# Get the feature names of `count_vectorizer` \n",
    "print(count_vectorizer.get_feature_names()[:10])\n",
    "print(count_vectorizer)\n",
    "\n"
   ]
  },
  {
   "cell_type": "code",
   "execution_count": 355,
   "metadata": {},
   "outputs": [],
   "source": [
    "count_df=pd.DataFrame(count_train.A,columns=count_vectorizer.get_feature_names())\n",
    "Tfd_df=pd.DataFrame(Tfd_train.A,columns=Tfd.get_feature_names())"
   ]
  },
  {
   "cell_type": "code",
   "execution_count": 356,
   "metadata": {},
   "outputs": [
    {
     "name": "stdout",
     "output_type": "stream",
     "text": [
      "set()\n"
     ]
    }
   ],
   "source": [
    "difference=set(count_df.columns) - set(Tfd_df.columns)\n",
    "print(difference)"
   ]
  },
  {
   "cell_type": "code",
   "execution_count": 357,
   "metadata": {},
   "outputs": [
    {
     "name": "stdout",
     "output_type": "stream",
     "text": [
      "False\n"
     ]
    }
   ],
   "source": [
    "print(count_df.equals(Tfd_df))"
   ]
  },
  {
   "cell_type": "code",
   "execution_count": 358,
   "metadata": {},
   "outputs": [],
   "source": [
    "def plot_confusion(cm,classes, normalize=False,title=\"Confusion Matrix\",cmap=plt.cm.Blues):\n",
    "    plt.imshow(cm,interpolation=\"nearest\",cmap=cmap)\n",
    "    plt.title(title)\n",
    "    plt.colorbar()\n",
    "    tick_marks=np.arange(len(classes))\n",
    "    plt.xticks(tick_marks,classes,rotation=45)\n",
    "    plt.yticks(tick_marks,classes)\n",
    "    if normalize:\n",
    "        cm=cm.astype(float)/cm.sum(axis=1)[:,np.newaxis]\n",
    "        print(\"Normalised confusion matrix\")\n",
    "    else:\n",
    "        print(\"Confusion matrix, without normalisation\")\n",
    "    thresh=cm.max()/2.0\n",
    "    print(cm)\n",
    "    for i,j in range(0,2),range(0,2):\n",
    "        print(cm[i,j])\n",
    "        plt.text(j,i,cm[i,j], horizontalalignment=\"center\",color=\"white\" if cm[i,j]>thresh else \"black\")\n",
    "    plt.tight_layout()\n",
    "    plt.ylabel(\"TrueLabel\")\n",
    "    plt.xlabel(\"Predicted label\")"
   ]
  },
  {
   "cell_type": "code",
   "execution_count": 359,
   "metadata": {},
   "outputs": [],
   "source": [
    "clf = MultinomialNB()"
   ]
  },
  {
   "cell_type": "code",
   "execution_count": 360,
   "metadata": {},
   "outputs": [
    {
     "name": "stdout",
     "output_type": "stream",
     "text": [
      "accuracy:   81.074\n",
      "[[ 697  883]\n",
      " [ 248 4148]]\n"
     ]
    }
   ],
   "source": [
    "clf.fit(Tfd_train, y_train)\n",
    "pred = clf.predict(Tfd_test)\n",
    "score = metrics.accuracy_score(y_test, pred)\n",
    "print(\"accuracy:   %0.3f\" % (score*100))\n",
    "cm = metrics.confusion_matrix(y_test, pred, labels=[0,1])\n",
    "print(cm)"
   ]
  },
  {
   "cell_type": "code",
   "execution_count": 361,
   "metadata": {},
   "outputs": [
    {
     "name": "stdout",
     "output_type": "stream",
     "text": [
      "              precision    recall  f1-score   support\n",
      "\n",
      "        True       0.74      0.44      0.55      1580\n",
      "       False       0.82      0.94      0.88      4396\n",
      "\n",
      "   micro avg       0.81      0.81      0.81      5976\n",
      "   macro avg       0.78      0.69      0.72      5976\n",
      "weighted avg       0.80      0.81      0.79      5976\n",
      "\n"
     ]
    }
   ],
   "source": [
    "from sklearn.metrics import classification_report\n",
    "target_names=[\"True\",\"False\"]\n",
    "print(classification_report(y_test,pred, target_names=target_names))"
   ]
  },
  {
   "cell_type": "code",
   "execution_count": 362,
   "metadata": {},
   "outputs": [
    {
     "data": {
      "text/plain": [
       "Text(26.5, 0.5, 'true values')"
      ]
     },
     "execution_count": 362,
     "metadata": {},
     "output_type": "execute_result"
    },
    {
     "data": {
      "image/png": "[encoded data removed]",
      "text/plain": [
       "<Figure size 432x288 with 2 Axes>"
      ]
     },
     "metadata": {},
     "output_type": "display_data"
    }
   ],
   "source": [
    "sns.set(font_scale=1.4)\n",
    "sns.heatmap(cm,annot=True,annot_kws={'size':16})\n",
    "#sns.set_axis_labels('true values','predicted')\n",
    "plt.xlabel(\"predicted\")\n",
    "plt.ylabel(\"true values\")"
   ]
  },
  {
   "cell_type": "code",
   "execution_count": 363,
   "metadata": {},
   "outputs": [
    {
     "name": "stderr",
     "output_type": "stream",
     "text": [
      "c:\\users\\reliance\\appdata\\local\\programs\\python\\python37\\lib\\site-packages\\sklearn\\linear_model\\stochastic_gradient.py:152: DeprecationWarning: n_iter parameter is deprecated in 0.19 and will be removed in 0.21. Use max_iter and tol instead.\n",
      "  DeprecationWarning)\n",
      "c:\\users\\reliance\\appdata\\local\\programs\\python\\python37\\lib\\site-packages\\sklearn\\linear_model\\stochastic_gradient.py:152: DeprecationWarning: n_iter parameter is deprecated in 0.19 and will be removed in 0.21. Use max_iter and tol instead.\n",
      "  DeprecationWarning)\n"
     ]
    },
    {
     "name": "stdout",
     "output_type": "stream",
     "text": [
      "accuracy:   86.412\n",
      "Confusion matrix, without normalisation\n",
      "[[1038  542]\n",
      " [ 270 4126]]\n",
      "542\n",
      "542\n"
     ]
    },
    {
     "data": {
      "image/png": "[encoded data removed]",
      "text/plain": [
       "<Figure size 432x288 with 2 Axes>"
      ]
     },
     "metadata": {},
     "output_type": "display_data"
    }
   ],
   "source": [
    "linear_clf = PassiveAggressiveClassifier(n_iter=50)\n",
    "linear_clf.fit(Tfd_train, y_train)\n",
    "pred = linear_clf.predict(Tfd_test)\n",
    "score = metrics.accuracy_score(y_test, pred)\n",
    "print(\"accuracy:   %0.3f\" % (score*100))\n",
    "cm = metrics.confusion_matrix(y_test, pred, labels=[0, 1])\n",
    "plot_confusion(cm, classes=[0,1])"
   ]
  },
  {
   "cell_type": "code",
   "execution_count": 364,
   "metadata": {},
   "outputs": [
    {
     "data": {
      "text/plain": [
       "array([ True,  True, False, ...,  True, False, False])"
      ]
     },
     "execution_count": 364,
     "metadata": {},
     "output_type": "execute_result"
    }
   ],
   "source": [
    "pred"
   ]
  },
  {
   "cell_type": "code",
   "execution_count": 365,
   "metadata": {},
   "outputs": [
    {
     "name": "stdout",
     "output_type": "stream",
     "text": [
      "              precision    recall  f1-score   support\n",
      "\n",
      "        True       0.79      0.66      0.72      1580\n",
      "       False       0.88      0.94      0.91      4396\n",
      "\n",
      "   micro avg       0.86      0.86      0.86      5976\n",
      "   macro avg       0.84      0.80      0.81      5976\n",
      "weighted avg       0.86      0.86      0.86      5976\n",
      "\n"
     ]
    }
   ],
   "source": [
    "from sklearn.metrics import classification_report\n",
    "target_names=[\"True\",\"False\"]\n",
    "print(classification_report(y_test,pred, target_names=target_names))"
   ]
  },
  {
   "cell_type": "code",
   "execution_count": 366,
   "metadata": {},
   "outputs": [
    {
     "name": "stdout",
     "output_type": "stream",
     "text": [
      "Alpha: 0.00 Score: 0.84555\n",
      "Alpha: 0.10 Score: 0.84036\n",
      "Alpha: 0.20 Score: 0.83835\n",
      "Alpha: 0.30 Score: 0.83434\n",
      "Alpha: 0.40 Score: 0.83266\n",
      "Alpha: 0.50 Score: 0.82865\n",
      "Alpha: 0.60 Score: 0.82564\n",
      "Alpha: 0.70 Score: 0.81811\n",
      "Alpha: 0.80 Score: 0.81493\n",
      "Alpha: 0.90 Score: 0.81376\n"
     ]
    },
    {
     "name": "stderr",
     "output_type": "stream",
     "text": [
      "c:\\users\\reliance\\appdata\\local\\programs\\python\\python37\\lib\\site-packages\\sklearn\\naive_bayes.py:480: UserWarning: alpha too small will result in numeric errors, setting alpha = 1.0e-10\n",
      "  'setting alpha = %.1e' % _ALPHA_MIN)\n"
     ]
    }
   ],
   "source": [
    "clf = MultinomialNB(alpha=0.1)\n",
    "last_score = 0\n",
    "for alpha in np.arange(0,1,.1):\n",
    "    nb_classifier = MultinomialNB(alpha=alpha)\n",
    "    nb_classifier.fit(Tfd_train, y_train)\n",
    "    pred = nb_classifier.predict(Tfd_test)\n",
    "    score = metrics.accuracy_score(y_test, pred)\n",
    "    if score > last_score:\n",
    "        clf = nb_classifier\n",
    "    print(\"Alpha: {:.2f} Score: {:.5f}\".format(alpha, score))"
   ]
  },
  {
   "cell_type": "code",
   "execution_count": 367,
   "metadata": {},
   "outputs": [
    {
     "name": "stdout",
     "output_type": "stream",
     "text": [
      "False -8.530891340301894 pulse\n",
      "False -8.357370515560907 unrest\n",
      "False -7.322676581537275 action\n",
      "False -6.359184581286325 requires\n",
      "False -6.154762986832498 boycott\n",
      "False -5.930621089394849 period\n",
      "False -5.911874607293143 rises\n",
      "False -5.813720261522588 suppliers\n",
      "False -5.805484977676561 stolen\n",
      "False -5.693396215385042 choice\n",
      "False -5.6055103943675375 rally\n",
      "False -5.533828029372575 retweeted\n",
      "False -5.522671024289119 centerofright\n",
      "False -5.399211101156128 bjp\n",
      "False -5.39257795184857 implement\n",
      "False -5.301778931542434 knowledg\n",
      "False -5.286530013884025 spent\n",
      "False -5.272833793951626 sect\n",
      "False -5.254679782514272 washington\n",
      "False -5.247241922947262 tweeter\n",
      "False -5.168118701843593 plane\n",
      "False -5.135906965430029 auctions\n",
      "False -5.132420487876136 philosophy\n",
      "False -5.115402820719638 rssurjewala\n",
      "False -5.059743048103278 minit\n",
      "False -4.968595847628645 congrats\n",
      "False -4.85697640591405 app\n",
      "False -4.852888603110131 fy16\n",
      "False -4.8316367636840925 benefit\n",
      "False -4.783532470752327 poor\n",
      "\n",
      "True 17.21157984216233 https\n",
      "True 9.658299295791124 http\n",
      "True 8.480562327780124 execution\n",
      "True 7.732836974331112 ambadi\n",
      "True 7.485632175143579 thoughtful\n",
      "True 7.243079830436534 bid\n",
      "True 7.227803670308194 shiralkar\n",
      "True 7.181109256211279 htt\n",
      "True 6.979979346966649 abov\n",
      "True 6.885372985460462 fishy\n",
      "True 6.7999271895841025 poll\n",
      "True 6.791160585241079 cut\n",
      "True 6.765906326996568 notice\n",
      "True 6.76235587217611 throw\n",
      "True 6.637274061839725 bandwagon\n",
      "True 6.4740501616999095 insist\n",
      "True 6.294006264246559 ava\n",
      "True 6.2933071324504315 thore\n",
      "True 6.290337796317264 mam\n",
      "True 6.2890352379752015 nils\n",
      "True 6.285085583487277 paresh\n",
      "True 6.258633585855888 slaves\n",
      "True 6.190347527241844 iss\n",
      "True 6.185996324565409 vas\n",
      "True 6.183462593688279 demo\n",
      "True 6.042619153329956 civil\n",
      "True 6.019732843073709 maanu\n",
      "True 6.014565516436185 durin\n",
      "True 6.0126424387569415 birthday\n",
      "True 5.971406274188556 telangana\n"
     ]
    }
   ],
   "source": [
    "def most_informative_feature_for_binary_classification(vectorizer, classifier, n=100):\n",
    "    \"\"\"\n",
    "    See: https://stackoverflow.com/a/26980472\n",
    "    \n",
    "    Identify most important features if given a vectorizer and binary classifier. Set n to the number\n",
    "    of weighted features you would like to show. (Note: current implementation merely prints and does not \n",
    "    return top classes.)\n",
    "    \"\"\"\n",
    "\n",
    "    class_labels = classifier.classes_\n",
    "    feature_names = vectorizer.get_feature_names()\n",
    "    topn_class1 = sorted(zip(classifier.coef_[0], feature_names))[:n]\n",
    "    topn_class2 = sorted(zip(classifier.coef_[0], feature_names))[-n:]\n",
    "\n",
    "    for coef, feat in topn_class1:\n",
    "        print(class_labels[0], coef, feat)\n",
    "\n",
    "    print()\n",
    "\n",
    "    for coef, feat in reversed(topn_class2):\n",
    "        print(class_labels[1], coef, feat)\n",
    "\n",
    "\n",
    "most_informative_feature_for_binary_classification(Tfd, linear_clf, n=30)"
   ]
  },
  {
   "cell_type": "code",
   "execution_count": 368,
   "metadata": {},
   "outputs": [
    {
     "data": {
      "text/plain": [
       "[(-4.08705885937752, 'demonetization'),\n",
       " (-4.11623123867356, 'modi'),\n",
       " (-4.21964956720984, 'india'),\n",
       " (-4.275201695849491, 'narendra'),\n",
       " (-4.331481439072828, 'rich'),\n",
       " (-4.338482364342291, 'dear'),\n",
       " (-4.342430462088563, 'implement'),\n",
       " (-4.374293486218287, 'actually'),\n",
       " (-4.822318267243844, '00a0'),\n",
       " (-4.910263204670258, '00bd'),\n",
       " (-4.923357502898273, 'bank'),\n",
       " (-4.974524139717804, '00b8'),\n",
       " (-5.079791313000572, 'terrorists'),\n",
       " (-5.081344135233498, 'lakh'),\n",
       " (-5.107622380434584, 'people'),\n",
       " (-5.144614388042907, 'kishtwar'),\n",
       " (-5.1447185320020905, 'incident'),\n",
       " (-5.146020528883493, 'looted'),\n",
       " (-5.188966911276102, 'nation'),\n",
       " (-5.317244670942649, 'support')]"
      ]
     },
     "execution_count": 368,
     "metadata": {},
     "output_type": "execute_result"
    }
   ],
   "source": [
    "feature_names = Tfd.get_feature_names()\n",
    "### Most real\n",
    "sorted(zip(clf.coef_[0], feature_names), reverse=True)[:20]"
   ]
  },
  {
   "cell_type": "code",
   "execution_count": 369,
   "metadata": {},
   "outputs": [
    {
     "data": {
      "text/plain": [
       "[(-10.176558159389662, '00716'),\n",
       " (-10.176558159389662, '0081'),\n",
       " (-10.176558159389662, '0083'),\n",
       " (-10.176558159389662, '0086'),\n",
       " (-10.176558159389662, '008b'),\n",
       " (-10.176558159389662, '008e'),\n",
       " (-10.176558159389662, '0090'),\n",
       " (-10.176558159389662, '0094'),\n",
       " (-10.176558159389662, '0097'),\n",
       " (-10.176558159389662, '0098'),\n",
       " (-10.176558159389662, '0099'),\n",
       " (-10.176558159389662, '009a'),\n",
       " (-10.176558159389662, '009b'),\n",
       " (-10.176558159389662, '009d'),\n",
       " (-10.176558159389662, '00a1'),\n",
       " (-10.176558159389662, '00a4'),\n",
       " (-10.176558159389662, '00a7'),\n",
       " (-10.176558159389662, '00ab'),\n",
       " (-10.176558159389662, '00af'),\n",
       " (-10.176558159389662, '00b6')]"
      ]
     },
     "execution_count": 369,
     "metadata": {},
     "output_type": "execute_result"
    }
   ],
   "source": [
    "### Most fake\n",
    "sorted(zip(clf.coef_[0], feature_names))[:20]"
   ]
  },
  {
   "cell_type": "code",
   "execution_count": 370,
   "metadata": {},
   "outputs": [
    {
     "name": "stderr",
     "output_type": "stream",
     "text": [
      "c:\\users\\reliance\\appdata\\local\\programs\\python\\python37\\lib\\site-packages\\sklearn\\feature_extraction\\hashing.py:102: DeprecationWarning: the option non_negative=True has been deprecated in 0.19 and will be removed in version 0.21.\n",
      "  \" in version 0.21.\", DeprecationWarning)\n",
      "c:\\users\\reliance\\appdata\\local\\programs\\python\\python37\\lib\\site-packages\\sklearn\\feature_extraction\\hashing.py:102: DeprecationWarning: the option non_negative=True has been deprecated in 0.19 and will be removed in version 0.21.\n",
      "  \" in version 0.21.\", DeprecationWarning)\n",
      "c:\\users\\reliance\\appdata\\local\\programs\\python\\python37\\lib\\site-packages\\sklearn\\feature_extraction\\hashing.py:102: DeprecationWarning: the option non_negative=True has been deprecated in 0.19 and will be removed in version 0.21.\n",
      "  \" in version 0.21.\", DeprecationWarning)\n"
     ]
    },
    {
     "data": {
      "text/plain": [
       "<5976x1048576 sparse matrix of type '<class 'numpy.float64'>'\n",
       "\twith 48375 stored elements in Compressed Sparse Row format>"
      ]
     },
     "execution_count": 370,
     "metadata": {},
     "output_type": "execute_result"
    }
   ],
   "source": [
    "hash_vectorizer = HashingVectorizer(stop_words='english', non_negative=True)\n",
    "hash_train = hash_vectorizer.fit_transform(x_train)\n",
    "hash_test = hash_vectorizer.transform(x_test)\n",
    "hash_test"
   ]
  },
  {
   "cell_type": "code",
   "execution_count": 371,
   "metadata": {},
   "outputs": [
    {
     "name": "stderr",
     "output_type": "stream",
     "text": [
      "c:\\users\\reliance\\appdata\\local\\programs\\python\\python37\\lib\\site-packages\\sklearn\\linear_model\\stochastic_gradient.py:152: DeprecationWarning: n_iter parameter is deprecated in 0.19 and will be removed in 0.21. Use max_iter and tol instead.\n",
      "  DeprecationWarning)\n",
      "c:\\users\\reliance\\appdata\\local\\programs\\python\\python37\\lib\\site-packages\\sklearn\\linear_model\\stochastic_gradient.py:152: DeprecationWarning: n_iter parameter is deprecated in 0.19 and will be removed in 0.21. Use max_iter and tol instead.\n",
      "  DeprecationWarning)\n"
     ]
    },
    {
     "name": "stdout",
     "output_type": "stream",
     "text": [
      "accuracy:   86.278\n",
      "Confusion matrix, without normalisation\n",
      "[[1072  508]\n",
      " [ 312 4084]]\n",
      "508\n",
      "508\n"
     ]
    },
    {
     "data": {
      "image/png": "[encoded data removed]",
      "text/plain": [
       "<Figure size 432x288 with 2 Axes>"
      ]
     },
     "metadata": {},
     "output_type": "display_data"
    }
   ],
   "source": [
    "clf = PassiveAggressiveClassifier(n_iter=50)\n",
    "clf.fit(hash_train, y_train)\n",
    "pred = clf.predict(hash_test)\n",
    "score = metrics.accuracy_score(y_test, pred)\n",
    "print(\"accuracy:   %0.3f\" % (score*100))\n",
    "cm = metrics.confusion_matrix(y_test, pred, labels=[0,1])\n",
    "plot_confusion(cm, classes=[0,1])"
   ]
  },
  {
   "cell_type": "code",
   "execution_count": 372,
   "metadata": {
    "scrolled": true
   },
   "outputs": [
    {
     "name": "stdout",
     "output_type": "stream",
     "text": [
      "              precision    recall  f1-score   support\n",
      "\n",
      "        True       0.77      0.68      0.72      1580\n",
      "       False       0.89      0.93      0.91      4396\n",
      "\n",
      "   micro avg       0.86      0.86      0.86      5976\n",
      "   macro avg       0.83      0.80      0.82      5976\n",
      "weighted avg       0.86      0.86      0.86      5976\n",
      "\n"
     ]
    }
   ],
   "source": [
    "from sklearn.metrics import classification_report\n",
    "target_names=[\"True\",\"False\"]\n",
    "print(classification_report(y_test,pred, target_names=target_names))"
   ]
  },
  {
   "cell_type": "code",
   "execution_count": 373,
   "metadata": {
    "scrolled": true
   },
   "outputs": [
    {
     "name": "stderr",
     "output_type": "stream",
     "text": [
      "c:\\users\\reliance\\appdata\\local\\programs\\python\\python37\\lib\\site-packages\\sklearn\\feature_extraction\\hashing.py:102: DeprecationWarning: the option non_negative=True has been deprecated in 0.19 and will be removed in version 0.21.\n",
      "  \" in version 0.21.\", DeprecationWarning)\n"
     ]
    },
    {
     "data": {
      "text/html": [
       "<div>\n",
       "<style scoped>\n",
       "    .dataframe tbody tr th:only-of-type {\n",
       "        vertical-align: middle;\n",
       "    }\n",
       "\n",
       "    .dataframe tbody tr th {\n",
       "        vertical-align: top;\n",
       "    }\n",
       "\n",
       "    .dataframe thead th {\n",
       "        text-align: right;\n",
       "    }\n",
       "</style>\n",
       "<table border=\"1\" class=\"dataframe\">\n",
       "  <thead>\n",
       "    <tr style=\"text-align: right;\">\n",
       "      <th></th>\n",
       "      <th>text</th>\n",
       "    </tr>\n",
       "  </thead>\n",
       "  <tbody>\n",
       "    <tr>\n",
       "      <th>0</th>\n",
       "      <td>vote modi survey app</td>\n",
       "    </tr>\n",
       "    <tr>\n",
       "      <th>1</th>\n",
       "      <td>former finsec rbi governor cbdt chair harvard ...</td>\n",
       "    </tr>\n",
       "    <tr>\n",
       "      <th>2</th>\n",
       "      <td>news gurugram haryana post office employees pr...</td>\n",
       "    </tr>\n",
       "    <tr>\n",
       "      <th>3</th>\n",
       "      <td>reddy wedding today cartoon</td>\n",
       "    </tr>\n",
       "    <tr>\n",
       "      <th>4</th>\n",
       "      <td>india \\x92 symptom disease via</td>\n",
       "    </tr>\n",
       "    <tr>\n",
       "      <th>5</th>\n",
       "      <td>modi fans true nationalists country stil think...</td>\n",
       "    </tr>\n",
       "    <tr>\n",
       "      <th>6</th>\n",
       "      <td>team bjp cia baby cctv evm vvpat support surgi...</td>\n",
       "    </tr>\n",
       "    <tr>\n",
       "      <th>7</th>\n",
       "      <td>Arka will not be a demonetization</td>\n",
       "    </tr>\n",
       "    <tr>\n",
       "      <th>8</th>\n",
       "      <td>Ankit will not be modi</td>\n",
       "    </tr>\n",
       "    <tr>\n",
       "      <th>9</th>\n",
       "      <td>s.k is a fuck</td>\n",
       "    </tr>\n",
       "    <tr>\n",
       "      <th>10</th>\n",
       "      <td>patra will fuck vikas</td>\n",
       "    </tr>\n",
       "    <tr>\n",
       "      <th>11</th>\n",
       "      <td>modi fuck children in his spare time</td>\n",
       "    </tr>\n",
       "    <tr>\n",
       "      <th>12</th>\n",
       "      <td>modi is a chai wala</td>\n",
       "    </tr>\n",
       "    <tr>\n",
       "      <th>13</th>\n",
       "      <td>mr bean is dead</td>\n",
       "    </tr>\n",
       "    <tr>\n",
       "      <th>14</th>\n",
       "      <td>gandhi ji is dead</td>\n",
       "    </tr>\n",
       "    <tr>\n",
       "      <th>15</th>\n",
       "      <td>modi is not our prime minister</td>\n",
       "    </tr>\n",
       "    <tr>\n",
       "      <th>16</th>\n",
       "      <td>modi is not the president of india</td>\n",
       "    </tr>\n",
       "    <tr>\n",
       "      <th>17</th>\n",
       "      <td>modi is dead</td>\n",
       "    </tr>\n",
       "    <tr>\n",
       "      <th>18</th>\n",
       "      <td>modi is not dead</td>\n",
       "    </tr>\n",
       "  </tbody>\n",
       "</table>\n",
       "</div>"
      ],
      "text/plain": [
       "                                                 text\n",
       "0                                vote modi survey app\n",
       "1   former finsec rbi governor cbdt chair harvard ...\n",
       "2   news gurugram haryana post office employees pr...\n",
       "3                         reddy wedding today cartoon\n",
       "4                      india \\x92 symptom disease via\n",
       "5   modi fans true nationalists country stil think...\n",
       "6   team bjp cia baby cctv evm vvpat support surgi...\n",
       "7                   Arka will not be a demonetization\n",
       "8                              Ankit will not be modi\n",
       "9                                       s.k is a fuck\n",
       "10                              patra will fuck vikas\n",
       "11               modi fuck children in his spare time\n",
       "12                                modi is a chai wala\n",
       "13                                    mr bean is dead\n",
       "14                                  gandhi ji is dead\n",
       "15                     modi is not our prime minister\n",
       "16                 modi is not the president of india\n",
       "17                                       modi is dead\n",
       "18                                   modi is not dead"
      ]
     },
     "execution_count": 373,
     "metadata": {},
     "output_type": "execute_result"
    }
   ],
   "source": [
    "ank=pd.read_csv('ank.csv',encoding='ISO-8859-1')\n",
    "a = hash_vectorizer.transform(ank[\"text\"])\n",
    "ank"
   ]
  },
  {
   "cell_type": "code",
   "execution_count": null,
   "metadata": {},
   "outputs": [],
   "source": []
  },
  {
   "cell_type": "code",
   "execution_count": 374,
   "metadata": {
    "scrolled": true
   },
   "outputs": [
    {
     "data": {
      "text/html": [
       "<div>\n",
       "<style scoped>\n",
       "    .dataframe tbody tr th:only-of-type {\n",
       "        vertical-align: middle;\n",
       "    }\n",
       "\n",
       "    .dataframe tbody tr th {\n",
       "        vertical-align: top;\n",
       "    }\n",
       "\n",
       "    .dataframe thead th {\n",
       "        text-align: right;\n",
       "    }\n",
       "</style>\n",
       "<table border=\"1\" class=\"dataframe\">\n",
       "  <thead>\n",
       "    <tr style=\"text-align: right;\">\n",
       "      <th></th>\n",
       "      <th>col</th>\n",
       "      <th>text</th>\n",
       "    </tr>\n",
       "  </thead>\n",
       "  <tbody>\n",
       "    <tr>\n",
       "      <th>0</th>\n",
       "      <td>True</td>\n",
       "      <td>critical question paytm informed edict clearly...</td>\n",
       "    </tr>\n",
       "    <tr>\n",
       "      <th>1</th>\n",
       "      <td>True</td>\n",
       "      <td>vote modi survey app</td>\n",
       "    </tr>\n",
       "    <tr>\n",
       "      <th>2</th>\n",
       "      <td>True</td>\n",
       "      <td>former finsec rbi governor cbdt chair harvard ...</td>\n",
       "    </tr>\n",
       "    <tr>\n",
       "      <th>3</th>\n",
       "      <td>True</td>\n",
       "      <td>news gurugram haryana post office employees pr...</td>\n",
       "    </tr>\n",
       "    <tr>\n",
       "      <th>4</th>\n",
       "      <td>True</td>\n",
       "      <td>reddy wedding today cartoon</td>\n",
       "    </tr>\n",
       "    <tr>\n",
       "      <th>5</th>\n",
       "      <td>False</td>\n",
       "      <td>india  symptom disease via</td>\n",
       "    </tr>\n",
       "    <tr>\n",
       "      <th>6</th>\n",
       "      <td>True</td>\n",
       "      <td>lakh looted bank kishtwar third incident since...</td>\n",
       "    </tr>\n",
       "    <tr>\n",
       "      <th>7</th>\n",
       "      <td>True</td>\n",
       "      <td>911 calling nationalists join walk spread bene...</td>\n",
       "    </tr>\n",
       "    <tr>\n",
       "      <th>8</th>\n",
       "      <td>True</td>\n",
       "      <td>many opposition leaders respect decision suppo...</td>\n",
       "    </tr>\n",
       "    <tr>\n",
       "      <th>9</th>\n",
       "      <td>False</td>\n",
       "      <td>national reform destroyed even essence sagan i...</td>\n",
       "    </tr>\n",
       "    <tr>\n",
       "      <th>10</th>\n",
       "      <td>False</td>\n",
       "      <td>many opposition leaders respect decision suppo...</td>\n",
       "    </tr>\n",
       "    <tr>\n",
       "      <th>11</th>\n",
       "      <td>True</td>\n",
       "      <td>question narendra modi app taking feedback peo...</td>\n",
       "    </tr>\n",
       "    <tr>\n",
       "      <th>12</th>\n",
       "      <td>False</td>\n",
       "      <td>bharat band 00a0 00bd 00b8 0082 protesting dif...</td>\n",
       "    </tr>\n",
       "    <tr>\n",
       "      <th>13</th>\n",
       "      <td>True</td>\n",
       "      <td>krishna effect</td>\n",
       "    </tr>\n",
       "    <tr>\n",
       "      <th>14</th>\n",
       "      <td>True</td>\n",
       "      <td>explained tried put words laced heavy technical</td>\n",
       "    </tr>\n",
       "    <tr>\n",
       "      <th>15</th>\n",
       "      <td>True</td>\n",
       "      <td>cpiml modi app proves govt totally indifferent...</td>\n",
       "    </tr>\n",
       "    <tr>\n",
       "      <th>16</th>\n",
       "      <td>True</td>\n",
       "      <td>former finsec rbi governor cbdt chair harvard ...</td>\n",
       "    </tr>\n",
       "    <tr>\n",
       "      <th>17</th>\n",
       "      <td>True</td>\n",
       "      <td>krishna gandhi heard standing</td>\n",
       "    </tr>\n",
       "    <tr>\n",
       "      <th>18</th>\n",
       "      <td>True</td>\n",
       "      <td>operative banking sector kerala good tax keral...</td>\n",
       "    </tr>\n",
       "    <tr>\n",
       "      <th>19</th>\n",
       "      <td>True</td>\n",
       "      <td>former finsec rbi governor cbdt chair harvard ...</td>\n",
       "    </tr>\n",
       "    <tr>\n",
       "      <th>20</th>\n",
       "      <td>True</td>\n",
       "      <td>vote modi survey app</td>\n",
       "    </tr>\n",
       "    <tr>\n",
       "      <th>21</th>\n",
       "      <td>True</td>\n",
       "      <td>former finsec rbi governor cbdt chair harvard ...</td>\n",
       "    </tr>\n",
       "    <tr>\n",
       "      <th>22</th>\n",
       "      <td>True</td>\n",
       "      <td>krishna gandhi heard standing</td>\n",
       "    </tr>\n",
       "    <tr>\n",
       "      <th>23</th>\n",
       "      <td>True</td>\n",
       "      <td>success depend swiftly govt replenish currency...</td>\n",
       "    </tr>\n",
       "    <tr>\n",
       "      <th>24</th>\n",
       "      <td>True</td>\n",
       "      <td>vote modi survey app</td>\n",
       "    </tr>\n",
       "    <tr>\n",
       "      <th>25</th>\n",
       "      <td>True</td>\n",
       "      <td>former finsec rbi governor cbdt chair harvard ...</td>\n",
       "    </tr>\n",
       "    <tr>\n",
       "      <th>26</th>\n",
       "      <td>True</td>\n",
       "      <td>kausik mean hurt rendered useless 00a0 00bd 00...</td>\n",
       "    </tr>\n",
       "    <tr>\n",
       "      <th>27</th>\n",
       "      <td>True</td>\n",
       "      <td>former finsec rbi governor cbdt chair harvard ...</td>\n",
       "    </tr>\n",
       "    <tr>\n",
       "      <th>28</th>\n",
       "      <td>True</td>\n",
       "      <td>kausik mean hurt rendered useless 00a0 00bd 00...</td>\n",
       "    </tr>\n",
       "    <tr>\n",
       "      <th>29</th>\n",
       "      <td>True</td>\n",
       "      <td>disaster</td>\n",
       "    </tr>\n",
       "    <tr>\n",
       "      <th>...</th>\n",
       "      <td>...</td>\n",
       "      <td>...</td>\n",
       "    </tr>\n",
       "    <tr>\n",
       "      <th>14910</th>\n",
       "      <td>True</td>\n",
       "      <td>prohibition demonetization kept quiet poor men...</td>\n",
       "    </tr>\n",
       "    <tr>\n",
       "      <th>14911</th>\n",
       "      <td>True</td>\n",
       "      <td>prohibition demonetization kept quiet poor men...</td>\n",
       "    </tr>\n",
       "    <tr>\n",
       "      <th>14912</th>\n",
       "      <td>True</td>\n",
       "      <td>prohibition demonetization kept quiet poor men...</td>\n",
       "    </tr>\n",
       "    <tr>\n",
       "      <th>14913</th>\n",
       "      <td>True</td>\n",
       "      <td>prohibition demonetization kept quiet poor men...</td>\n",
       "    </tr>\n",
       "    <tr>\n",
       "      <th>14914</th>\n",
       "      <td>True</td>\n",
       "      <td>arnab goswami slams pathological liar scam kin...</td>\n",
       "    </tr>\n",
       "    <tr>\n",
       "      <th>14915</th>\n",
       "      <td>True</td>\n",
       "      <td>prohibition demonetization kept quiet poor men...</td>\n",
       "    </tr>\n",
       "    <tr>\n",
       "      <th>14916</th>\n",
       "      <td>False</td>\n",
       "      <td>someone trying break internet media whole yout...</td>\n",
       "    </tr>\n",
       "    <tr>\n",
       "      <th>14917</th>\n",
       "      <td>True</td>\n",
       "      <td>builder lol demonetization fixed lot like ston...</td>\n",
       "    </tr>\n",
       "    <tr>\n",
       "      <th>14918</th>\n",
       "      <td>True</td>\n",
       "      <td>prohibition demonetization kept quiet poor men...</td>\n",
       "    </tr>\n",
       "    <tr>\n",
       "      <th>14919</th>\n",
       "      <td>True</td>\n",
       "      <td>prohibition demonetization kept quiet poor men...</td>\n",
       "    </tr>\n",
       "    <tr>\n",
       "      <th>14920</th>\n",
       "      <td>True</td>\n",
       "      <td>prohibition demonetization kept quiet poor men...</td>\n",
       "    </tr>\n",
       "    <tr>\n",
       "      <th>14921</th>\n",
       "      <td>True</td>\n",
       "      <td>prohibition demonetization kept quiet poor men...</td>\n",
       "    </tr>\n",
       "    <tr>\n",
       "      <th>14922</th>\n",
       "      <td>True</td>\n",
       "      <td>prohibition demonetization kept quiet poor men...</td>\n",
       "    </tr>\n",
       "    <tr>\n",
       "      <th>14923</th>\n",
       "      <td>True</td>\n",
       "      <td>prohibition demonetization kept quiet poor men...</td>\n",
       "    </tr>\n",
       "    <tr>\n",
       "      <th>14924</th>\n",
       "      <td>True</td>\n",
       "      <td>prohibition demonetization kept quiet poor men...</td>\n",
       "    </tr>\n",
       "    <tr>\n",
       "      <th>14925</th>\n",
       "      <td>False</td>\n",
       "      <td>wrote article get call taxmen credit card bill...</td>\n",
       "    </tr>\n",
       "    <tr>\n",
       "      <th>14926</th>\n",
       "      <td>True</td>\n",
       "      <td>prohibition demonetization kept quiet poor men...</td>\n",
       "    </tr>\n",
       "    <tr>\n",
       "      <th>14927</th>\n",
       "      <td>True</td>\n",
       "      <td>prohibition demonetization kept quiet poor men...</td>\n",
       "    </tr>\n",
       "    <tr>\n",
       "      <th>14928</th>\n",
       "      <td>True</td>\n",
       "      <td>prohibition demonetization kept quiet poor men...</td>\n",
       "    </tr>\n",
       "    <tr>\n",
       "      <th>14929</th>\n",
       "      <td>True</td>\n",
       "      <td>prohibition demonetization kept quiet poor men...</td>\n",
       "    </tr>\n",
       "    <tr>\n",
       "      <th>14930</th>\n",
       "      <td>True</td>\n",
       "      <td>prohibition demonetization kept quiet poor men...</td>\n",
       "    </tr>\n",
       "    <tr>\n",
       "      <th>14931</th>\n",
       "      <td>True</td>\n",
       "      <td>builder lol demonetization fixed lot like ston...</td>\n",
       "    </tr>\n",
       "    <tr>\n",
       "      <th>14932</th>\n",
       "      <td>False</td>\n",
       "      <td>cash end cash end poverty india feat</td>\n",
       "    </tr>\n",
       "    <tr>\n",
       "      <th>14933</th>\n",
       "      <td>False</td>\n",
       "      <td>hill shame antisemitic demonetization good woman</td>\n",
       "    </tr>\n",
       "    <tr>\n",
       "      <th>14934</th>\n",
       "      <td>True</td>\n",
       "      <td>india became bill gates guinea pig conspiracy ...</td>\n",
       "    </tr>\n",
       "    <tr>\n",
       "      <th>14935</th>\n",
       "      <td>True</td>\n",
       "      <td>ghost demonetization returns reports cash crun...</td>\n",
       "    </tr>\n",
       "    <tr>\n",
       "      <th>14936</th>\n",
       "      <td>False</td>\n",
       "      <td>modi fans true nationalists country stil think...</td>\n",
       "    </tr>\n",
       "    <tr>\n",
       "      <th>14937</th>\n",
       "      <td>True</td>\n",
       "      <td>builder lol demonetization fixed lot like ston...</td>\n",
       "    </tr>\n",
       "    <tr>\n",
       "      <th>14938</th>\n",
       "      <td>True</td>\n",
       "      <td>team bjp cia baby cctv evm vvpat support surgi...</td>\n",
       "    </tr>\n",
       "    <tr>\n",
       "      <th>14939</th>\n",
       "      <td>False</td>\n",
       "      <td>team bjp cia baby cctv evm vvpat support surgi...</td>\n",
       "    </tr>\n",
       "  </tbody>\n",
       "</table>\n",
       "<p>14940 rows × 2 columns</p>\n",
       "</div>"
      ],
      "text/plain": [
       "         col                                               text\n",
       "0       True  critical question paytm informed edict clearly...\n",
       "1       True                               vote modi survey app\n",
       "2       True  former finsec rbi governor cbdt chair harvard ...\n",
       "3       True  news gurugram haryana post office employees pr...\n",
       "4       True                        reddy wedding today cartoon\n",
       "5      False                        india  symptom disease via\n",
       "6       True  lakh looted bank kishtwar third incident since...\n",
       "7       True  911 calling nationalists join walk spread bene...\n",
       "8       True  many opposition leaders respect decision suppo...\n",
       "9      False  national reform destroyed even essence sagan i...\n",
       "10     False  many opposition leaders respect decision suppo...\n",
       "11      True  question narendra modi app taking feedback peo...\n",
       "12     False  bharat band 00a0 00bd 00b8 0082 protesting dif...\n",
       "13      True                                     krishna effect\n",
       "14      True    explained tried put words laced heavy technical\n",
       "15      True  cpiml modi app proves govt totally indifferent...\n",
       "16      True  former finsec rbi governor cbdt chair harvard ...\n",
       "17      True                      krishna gandhi heard standing\n",
       "18      True  operative banking sector kerala good tax keral...\n",
       "19      True  former finsec rbi governor cbdt chair harvard ...\n",
       "20      True                               vote modi survey app\n",
       "21      True  former finsec rbi governor cbdt chair harvard ...\n",
       "22      True                      krishna gandhi heard standing\n",
       "23      True  success depend swiftly govt replenish currency...\n",
       "24      True                               vote modi survey app\n",
       "25      True  former finsec rbi governor cbdt chair harvard ...\n",
       "26      True  kausik mean hurt rendered useless 00a0 00bd 00...\n",
       "27      True  former finsec rbi governor cbdt chair harvard ...\n",
       "28      True  kausik mean hurt rendered useless 00a0 00bd 00...\n",
       "29      True                                           disaster\n",
       "...      ...                                                ...\n",
       "14910   True  prohibition demonetization kept quiet poor men...\n",
       "14911   True  prohibition demonetization kept quiet poor men...\n",
       "14912   True  prohibition demonetization kept quiet poor men...\n",
       "14913   True  prohibition demonetization kept quiet poor men...\n",
       "14914   True  arnab goswami slams pathological liar scam kin...\n",
       "14915   True  prohibition demonetization kept quiet poor men...\n",
       "14916  False  someone trying break internet media whole yout...\n",
       "14917   True  builder lol demonetization fixed lot like ston...\n",
       "14918   True  prohibition demonetization kept quiet poor men...\n",
       "14919   True  prohibition demonetization kept quiet poor men...\n",
       "14920   True  prohibition demonetization kept quiet poor men...\n",
       "14921   True  prohibition demonetization kept quiet poor men...\n",
       "14922   True  prohibition demonetization kept quiet poor men...\n",
       "14923   True  prohibition demonetization kept quiet poor men...\n",
       "14924   True  prohibition demonetization kept quiet poor men...\n",
       "14925  False  wrote article get call taxmen credit card bill...\n",
       "14926   True  prohibition demonetization kept quiet poor men...\n",
       "14927   True  prohibition demonetization kept quiet poor men...\n",
       "14928   True  prohibition demonetization kept quiet poor men...\n",
       "14929   True  prohibition demonetization kept quiet poor men...\n",
       "14930   True  prohibition demonetization kept quiet poor men...\n",
       "14931   True  builder lol demonetization fixed lot like ston...\n",
       "14932  False               cash end cash end poverty india feat\n",
       "14933  False   hill shame antisemitic demonetization good woman\n",
       "14934   True  india became bill gates guinea pig conspiracy ...\n",
       "14935   True  ghost demonetization returns reports cash crun...\n",
       "14936  False  modi fans true nationalists country stil think...\n",
       "14937   True  builder lol demonetization fixed lot like ston...\n",
       "14938   True  team bjp cia baby cctv evm vvpat support surgi...\n",
       "14939  False  team bjp cia baby cctv evm vvpat support surgi...\n",
       "\n",
       "[14940 rows x 2 columns]"
      ]
     },
     "execution_count": 374,
     "metadata": {},
     "output_type": "execute_result"
    }
   ],
   "source": [
    "a=pd.DataFrame({'col':y , 'text':data_clean})\n",
    "a"
   ]
  },
  {
   "cell_type": "code",
   "execution_count": 375,
   "metadata": {
    "scrolled": true
   },
   "outputs": [
    {
     "name": "stdout",
     "output_type": "stream",
     "text": [
      "              precision    recall  f1-score   support\n",
      "\n",
      "        True       0.77      0.68      0.72      1580\n",
      "       False       0.89      0.93      0.91      4396\n",
      "\n",
      "   micro avg       0.86      0.86      0.86      5976\n",
      "   macro avg       0.83      0.80      0.82      5976\n",
      "weighted avg       0.86      0.86      0.86      5976\n",
      "\n"
     ]
    }
   ],
   "source": [
    "target_names=[\"True\",\"False\"]\n",
    "print(classification_report(y_test,pred, target_names=target_names))"
   ]
  },
  {
   "cell_type": "code",
   "execution_count": 376,
   "metadata": {},
   "outputs": [
    {
     "name": "stderr",
     "output_type": "stream",
     "text": [
      "c:\\users\\reliance\\appdata\\local\\programs\\python\\python37\\lib\\site-packages\\sklearn\\linear_model\\logistic.py:433: FutureWarning: Default solver will be changed to 'lbfgs' in 0.22. Specify a solver to silence this warning.\n",
      "  FutureWarning)\n"
     ]
    }
   ],
   "source": [
    "lr_body = LogisticRegression(penalty='l1')\n",
    "\n",
    "# train model\n",
    "lr_body.fit(hash_train, y_train)\n",
    "\n",
    "# get predictions for article section\n",
    "y_body_pred = lr_body.predict(hash_test)"
   ]
  },
  {
   "cell_type": "code",
   "execution_count": 377,
   "metadata": {
    "scrolled": true
   },
   "outputs": [
    {
     "name": "stdout",
     "output_type": "stream",
     "text": [
      "Logistig Regression F1 and Accuracy Scores : \n",
      "\n",
      "F1 score 79.58%\n",
      "Accuracy score 84.64%\n"
     ]
    }
   ],
   "source": [
    "\n",
    "\n",
    "# print metrics\n",
    "print (\"Logistig Regression F1 and Accuracy Scores : \\n\")\n",
    "print ( \"F1 score {:.4}%\".format( f1_score(y_test, y_body_pred, average='macro')*100 ) )\n",
    "print ( \"Accuracy score {:.4}%\".format(accuracy_score(y_test, y_body_pred)*100) )\n"
   ]
  },
  {
   "cell_type": "code",
   "execution_count": 378,
   "metadata": {},
   "outputs": [
    {
     "data": {
      "text/plain": [
       "0         True\n",
       "1         True\n",
       "2         True\n",
       "3         True\n",
       "4         True\n",
       "5        False\n",
       "6         True\n",
       "7         True\n",
       "8         True\n",
       "9        False\n",
       "10       False\n",
       "11        True\n",
       "12       False\n",
       "13        True\n",
       "14        True\n",
       "15        True\n",
       "16        True\n",
       "17        True\n",
       "18        True\n",
       "19        True\n",
       "20        True\n",
       "21        True\n",
       "22        True\n",
       "23        True\n",
       "24        True\n",
       "25        True\n",
       "26        True\n",
       "27        True\n",
       "28        True\n",
       "29        True\n",
       "         ...  \n",
       "14910     True\n",
       "14911     True\n",
       "14912     True\n",
       "14913     True\n",
       "14914     True\n",
       "14915     True\n",
       "14916    False\n",
       "14917     True\n",
       "14918     True\n",
       "14919     True\n",
       "14920     True\n",
       "14921     True\n",
       "14922     True\n",
       "14923     True\n",
       "14924     True\n",
       "14925    False\n",
       "14926     True\n",
       "14927     True\n",
       "14928     True\n",
       "14929     True\n",
       "14930     True\n",
       "14931     True\n",
       "14932    False\n",
       "14933    False\n",
       "14934     True\n",
       "14935     True\n",
       "14936    False\n",
       "14937     True\n",
       "14938     True\n",
       "14939    False\n",
       "Name: label, Length: 14940, dtype: bool"
      ]
     },
     "execution_count": 378,
     "metadata": {},
     "output_type": "execute_result"
    }
   ],
   "source": [
    "y"
   ]
  },
  {
   "cell_type": "code",
   "execution_count": 391,
   "metadata": {
    "scrolled": true
   },
   "outputs": [
    {
     "name": "stderr",
     "output_type": "stream",
     "text": [
      "c:\\users\\reliance\\appdata\\local\\programs\\python\\python37\\lib\\site-packages\\sklearn\\linear_model\\logistic.py:433: FutureWarning: Default solver will be changed to 'lbfgs' in 0.22. Specify a solver to silence this warning.\n",
      "  FutureWarning)\n"
     ]
    },
    {
     "name": "stdout",
     "output_type": "stream",
     "text": [
      "[0.82839314 0.82605304 0.828125   0.82734375 0.82734375 0.83828125\n",
      " 0.815625  ]\n",
      "0.8273092754067305\n"
     ]
    }
   ],
   "source": [
    "\n",
    "cros_val_list = cross_val_score(lr_body, Tfd_train,y_train,cv=7)\n",
    "print (cros_val_list)\n",
    "print (cros_val_list.mean())"
   ]
  },
  {
   "cell_type": "code",
   "execution_count": 392,
   "metadata": {},
   "outputs": [],
   "source": [
    "class cross_validation(object):\n",
    "    '''This class provides cross validation of any data set why incrementally increasing number \n",
    "       of samples in the training and test set and performing KFold splits at every iteration. \n",
    "       During cross validation the metrics accuracy, recall, precision, and f1-score are recored. \n",
    "       The results of the cross validation are display on four learning curves. '''\n",
    "    \n",
    "    def __init__(self, model, X_data, Y_data, X_test=None, Y_test=None, \n",
    "                 n_splits=3, init_chunk_size = 1000000, chunk_spacings = 100000, average = \"binary\"):\n",
    "\n",
    "        self.X, self.Y =  shuffle(X_data, Y_data, random_state=1234)\n",
    "        \n",
    "        \n",
    "        self.model = model\n",
    "        self.n_splits = n_splits\n",
    "        self.chunk_size = init_chunk_size\n",
    "        self.chunk_spacings = chunk_spacings        \n",
    "        \n",
    "        self.X_train = []\n",
    "        self.X_test = []\n",
    "        self.Y_train = []\n",
    "        self.Y_test = []\n",
    "        self.X_holdout = []\n",
    "        self.Y_holdout = []\n",
    "        \n",
    "        self.f1_train = []\n",
    "        self.f1_test = []\n",
    "        self.acc_train = []\n",
    "        self.acc_test = []\n",
    "        self.pre_train = []\n",
    "        self.pre_test = []\n",
    "        self.rec_train = []\n",
    "        self.rec_test = []\n",
    "        \n",
    "        self.f1_mean_train = []\n",
    "        self.f1_mean_test = []\n",
    "        self.acc_mean_train = []\n",
    "        self.acc_mean_test = []\n",
    "        self.pre_mean_train = []\n",
    "        self.pre_mean_test = []\n",
    "        self.rec_mean_train = []\n",
    "        self.rec_mean_test = []\n",
    "        \n",
    "        self.training_size = []\n",
    "        self.averageType = average\n",
    "    \n",
    "    def make_chunks(self):\n",
    "        '''Partitions data into chunks for incremental cross validation'''\n",
    "        \n",
    "        # get total number of points\n",
    "        self.N_total = self.X.shape[0]\n",
    "        # partition data into chunks for learning\n",
    "        self.chunks = list(np.arange(self.chunk_size, self.N_total, self.chunk_spacings ))\n",
    "        self.remainder = self.X.shape[0] - self.chunks[-1]\n",
    "        self.chunks.append( self.chunks[-1] + self.remainder )\n",
    "\n",
    "\n",
    "\n",
    "    def train_for_learning_curve(self):\n",
    "        '''KFold cross validates model and records metric scores for learning curves. \n",
    "           Metrics scored are f1-score, precision, recall, and accuracy'''\n",
    "\n",
    "        # partiton data into chunks \n",
    "        self.make_chunks()\n",
    "        # for each iteration, allow the model to use 10 more samples in the training set \n",
    "        self.skf = StratifiedKFold(n_splits=self.n_splits, shuffle=True, random_state=1234)\n",
    "        # iterate through the first n samples\n",
    "        for n_points in self.chunks: \n",
    "            \n",
    "        \n",
    "            # split the first n samples in k folds \n",
    "            for train_index, test_index in self.skf.split(self.X[:n_points], self.Y[:n_points]):\n",
    "                self.train_index, self.test_index = train_index, test_index                \n",
    "                self.X_train = self.X[self.train_index]\n",
    "                self.X_test = self.X[self.test_index]\n",
    "                self.Y_train = self.Y[self.train_index]\n",
    "                self.Y_test = self.Y[self.test_index]\n",
    "                \n",
    "                self.model.fit(self.X_train, self.Y_train)\n",
    "                self.y_pred_train = self.model.predict(self.X_train)\n",
    "                self.y_pred_test = self.model.predict(self.X_test)\n",
    "                self.log_metric_scores_()   \n",
    "                \n",
    "            self.log_metric_score_means_()\n",
    "            self.training_size.append(n_points)\n",
    "        \n",
    "    def validate_for_holdout_set(self, X_holdout, Y_holdout):\n",
    "        \n",
    "        \n",
    "        self.X_test = X_holdout\n",
    "        self.Y_test = Y_holdout\n",
    "        \n",
    "        # partiton data into chunks \n",
    "        self.make_chunks()\n",
    "        \n",
    "        for n_points in self.chunks:\n",
    "            \n",
    "            self.X_train = self.X[:n_points]\n",
    "            self.Y_train = self.Y[:n_points]\n",
    "\n",
    "            self.model.fit(self.X_train, self.Y_train)\n",
    "            self.y_pred_train = self.model.predict(self.X_train)\n",
    "            self.y_pred_test = self.model.predict(self.X_test)\n",
    "            self.log_metric_scores_()   \n",
    "\n",
    "            self.log_metric_score_means_()\n",
    "            self.training_size.append(n_points)\n",
    "            \n",
    "            \n",
    "    \n",
    "                            \n",
    "    def log_metric_score_means_(self):\n",
    "        '''Recrods the mean of the four metrics recording during training'''\n",
    "        self.f1_mean_train.append(np.sum(self.f1_train)/len(self.f1_train))\n",
    "        self.f1_mean_test.append(np.sum(self.f1_test)/len(self.f1_test))\n",
    "        \n",
    "        self.acc_mean_train.append(np.sum(self.acc_train)/len(self.acc_train))\n",
    "        self.acc_mean_test.append(np.sum(self.acc_test)/len(self.acc_test))\n",
    "        \n",
    "        self.pre_mean_train.append(np.sum(self.pre_train)/len(self.pre_train))\n",
    "        self.pre_mean_test.append(np.sum(self.pre_test)/len(self.pre_test))\n",
    "        \n",
    "        self.rec_mean_train.append(np.sum(self.rec_train)/len(self.rec_train))\n",
    "        self.rec_mean_test.append(np.sum(self.rec_test)/len(self.rec_test))\n",
    "        \n",
    "        self.reinitialize_metric_lists_()\n",
    "            \n",
    "            \n",
    "    def reinitialize_metric_lists_(self):\n",
    "        '''Reinitializes metrics lists for training'''\n",
    "        self.f1_train = []\n",
    "        self.f1_test = []\n",
    "        self.acc_train = []\n",
    "        self.acc_test = []\n",
    "        self.pre_train = []\n",
    "        self.pre_test = []\n",
    "        self.rec_train = []\n",
    "        self.rec_test = []\n",
    "\n",
    "            \n",
    "    def log_metric_scores_(self):\n",
    "        '''Records the metric scores during each training iteration'''\n",
    "        self.f1_train.append(f1_score(self.Y_train, self.y_pred_train, average=self.averageType))\n",
    "        self.acc_train.append(accuracy_score( self.Y_train, self.y_pred_train) )\n",
    "\n",
    "        self.pre_train.append(precision_score(self.Y_train, self.y_pred_train, average=self.averageType))\n",
    "        self.rec_train.append(recall_score( self.Y_train, self.y_pred_train, average=self.averageType) )\n",
    "\n",
    "        self.f1_test.append(f1_score(self.Y_test, self.y_pred_test, average=self.averageType))\n",
    "        self.acc_test.append(accuracy_score(self.Y_test, self.y_pred_test))\n",
    "\n",
    "        self.pre_test.append(precision_score(self.Y_test, self.y_pred_test, average=self.averageType))\n",
    "        self.rec_test.append(recall_score(self.Y_test, self.y_pred_test,average=self.averageType))\n",
    "            \n",
    "\n",
    "    def plot_learning_curve(self):\n",
    "        '''Plots f1 and accuracy learning curves for a given model and data set'''\n",
    "        \n",
    "        fig = plt.figure(figsize = (17,12))\n",
    "        # plot f1 score learning curve\n",
    "        fig.add_subplot(221)   # left\n",
    "        plt.title(\"F1-Score vs. Number of Training Samples\")\n",
    "        plt.plot(self.training_size, self.f1_mean_train, label=\"Train\")\n",
    "        plt.plot(self.training_size, self.f1_mean_test, label=\"Test\");\n",
    "        plt.xlabel(\"Number of Training Samples\")\n",
    "        plt.ylabel(\"F1-Score\")\n",
    "        plt.legend(loc=4);\n",
    "        \n",
    "        # plot accuracy learning curve\n",
    "        fig.add_subplot(222)   # right \n",
    "        plt.title(\"Accuracy vs. Number of Training Samples\")\n",
    "        plt.plot(self.training_size, self.acc_mean_train, label=\"Train\")\n",
    "        plt.plot(self.training_size, self.acc_mean_test, label=\"Test\");\n",
    "        plt.xlabel(\"Number of Training Samples\")\n",
    "        plt.ylabel(\"Accuracy\")\n",
    "        plt.legend(loc=4);\n",
    "        \n",
    "        # plot precision learning curve\n",
    "        fig.add_subplot(223)   # left\n",
    "        plt.title(\"Precision Score vs. Number of Training Samples\")\n",
    "        plt.plot(self.training_size, self.pre_mean_train, label=\"Train\")\n",
    "        plt.plot(self.training_size, self.pre_mean_test, label=\"Test\");\n",
    "        plt.xlabel(\"Number of Training Samples\")\n",
    "        plt.ylabel(\"Precision\")\n",
    "        plt.ylim(min(self.pre_mean_test), max(self.pre_mean_train) + 0.05)\n",
    "        plt.legend(loc=4);\n",
    "        \n",
    "        # plot accuracy learning curve\n",
    "        fig.add_subplot(224)   # right \n",
    "        plt.title(\"Recall vs. Number of Training Samples\")\n",
    "        plt.plot(self.training_size, self.rec_mean_train, label=\"Train\")\n",
    "        plt.plot(self.training_size, self.rec_mean_test, label=\"Test\");\n",
    "        plt.xlabel(\"Number of Training Samples\")\n",
    "        plt.ylabel(\"Recall\")\n",
    "        plt.legend(loc=4);"
   ]
  },
  {
   "cell_type": "code",
   "execution_count": null,
   "metadata": {},
   "outputs": [],
   "source": []
  },
  {
   "cell_type": "code",
   "execution_count": 388,
   "metadata": {},
   "outputs": [
    {
     "name": "stdout",
     "output_type": "stream",
     "text": [
      "[0.76443058 0.76443058 0.76328125 0.76484375 0.76484375 0.76484375\n",
      " 0.76484375]\n",
      "0.764502486349454\n"
     ]
    }
   ],
   "source": [
    "\n",
    "xtrain,xtest,ytrain,ytest = train_test_split(Tfd_train,y_train)\n",
    "print (cros_val_list)\n",
    "print (cros_val_list.mean())\n"
   ]
  },
  {
   "cell_type": "code",
   "execution_count": 390,
   "metadata": {},
   "outputs": [
    {
     "data": {
      "image/png": "[encoded data removed]",
      "text/plain": [
       "<Figure size 1224x864 with 4 Axes>"
      ]
     },
     "metadata": {},
     "output_type": "display_data"
    }
   ],
   "source": [
    "\n",
    "xtrain,xtest,ytrain,ytest = train_test_split(Tfd_train,y_train)\n",
    "\n",
    "cv = cross_validation(lr_headline, xtrain, ytrain , n_splits=5,init_chunk_size = 5000, chunk_spacings = 1000, average = \"binary\")\n",
    "cv.validate_for_holdout_set(xtest, ytest)\n",
    "cv.plot_learning_curve()"
   ]
  },
  {
   "cell_type": "code",
   "execution_count": 383,
   "metadata": {},
   "outputs": [],
   "source": [
    "\n",
    "rcf_headline = RandomForestClassifier(n_estimators=100,n_jobs=3)\n",
    "\n",
    "rcf_headline.fit(Tfd_train, y_train)\n",
    "y_rc_headline_pred = rcf_headline.predict(Tfd_test)"
   ]
  },
  {
   "cell_type": "code",
   "execution_count": 384,
   "metadata": {},
   "outputs": [
    {
     "name": "stdout",
     "output_type": "stream",
     "text": [
      "Random Forest F1 and Accuracy Scores : \n",
      "\n",
      "F1 score 86.36%\n",
      "Accuracy score 89.59%\n"
     ]
    }
   ],
   "source": [
    "\n",
    "# print metrics\n",
    "print (\"Random Forest F1 and Accuracy Scores : \\n\")\n",
    "print ( \"F1 score {:.4}%\".format( f1_score(y_test, y_rc_headline_pred, average='macro')*100 ) )\n",
    "print ( \"Accuracy score {:.4}%\".format(accuracy_score(y_test, y_rc_headline_pred)*100) )"
   ]
  },
  {
   "cell_type": "code",
   "execution_count": 385,
   "metadata": {},
   "outputs": [],
   "source": [
    "xgb_body = XGBClassifier()\n",
    "\n",
    "xgb_body.fit(Tfd_train, y_train)\n",
    "y_xgb_body_pred = xgb_body.predict(Tfd_test)"
   ]
  },
  {
   "cell_type": "code",
   "execution_count": 386,
   "metadata": {},
   "outputs": [
    {
     "name": "stdout",
     "output_type": "stream",
     "text": [
      "XGBoost F1 and Accuracy Scores : \n",
      "\n",
      "F1 score 60.55%``\n",
      "Accuracy score 77.79%\n"
     ]
    }
   ],
   "source": [
    "print (\"XGBoost F1 and Accuracy Scores : \\n\")\n",
    "print ( \"F1 score {:.4}%``\".format( f1_score(y_test, y_xgb_body_pred, average='macro')*100 ) )\n",
    "print ( \"Accuracy score {:.4}%\".format(accuracy_score(y_test, y_xgb_body_pred)*100) )"
   ]
  },
  {
   "cell_type": "code",
   "execution_count": null,
   "metadata": {},
   "outputs": [],
   "source": []
  },
  {
   "cell_type": "code",
   "execution_count": null,
   "metadata": {},
   "outputs": [],
   "source": []
  },
  {
   "cell_type": "code",
   "execution_count": null,
   "metadata": {},
   "outputs": [],
   "source": []
  },
  {
   "cell_type": "code",
   "execution_count": null,
   "metadata": {},
   "outputs": [],
   "source": []
  },
  {
   "cell_type": "code",
   "execution_count": null,
   "metadata": {},
   "outputs": [],
   "source": []
  },
  {
   "cell_type": "code",
   "execution_count": null,
   "metadata": {},
   "outputs": [],
   "source": []
  }
 ],
 "metadata": {
  "kernelspec": {
   "display_name": "Python 3",
   "language": "python",
   "name": "python3"
  },
  "language_info": {
   "codemirror_mode": {
    "name": "ipython",
    "version": 3
   },
   "file_extension": ".py",
   "mimetype": "text/x-python",
   "name": "python",
   "nbconvert_exporter": "python",
   "pygments_lexer": "ipython3",
   "version": "3.7.2"
  }
 },
 "nbformat": 4,
 "nbformat_minor": 2
}
